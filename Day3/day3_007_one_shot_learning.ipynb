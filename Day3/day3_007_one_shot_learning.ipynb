{
 "cells": [
  {
   "cell_type": "markdown",
   "id": "c8c27376",
   "metadata": {},
   "source": [
    "### Created on 2023\n",
    "### @author: S.W\n",
    "\n",
    "#### References\n",
    "- https://towardsdatascience.com/one-shot-learning-with-siamese-networks-using-keras-17f34e75bb3d\n",
    "- https://github.com/akshaysharma096/Siamese-Networks/blob/master/Few%20Shot%20Learning%20-%20V1.ipynb"
   ]
  },
  {
   "cell_type": "markdown",
   "id": "52eea0e6",
   "metadata": {},
   "source": [
    "------"
   ]
  },
  {
   "cell_type": "markdown",
   "id": "3f08c4b7",
   "metadata": {},
   "source": [
    "## 1. 학습에 필요한 라이브러리 불러오기"
   ]
  },
  {
   "cell_type": "code",
   "execution_count": 1,
   "id": "14f44b1c",
   "metadata": {},
   "outputs": [],
   "source": [
    "import tensorflow as tf\n",
    "import numpy as np\n",
    "import matplotlib.pyplot as plt\n",
    "from sklearn.model_selection import train_test_split\n",
    "from tensorflow.keras.layers import Input, Conv2D, Lambda, Dense, Flatten, MaxPooling2D\n",
    "from tensorflow.keras.models import Model, Sequential\n",
    "from tensorflow.keras.regularizers import l2\n",
    "from tensorflow.keras.optimizers import Adam\n",
    "from tensorflow.keras.losses import binary_crossentropy\n",
    "from tensorflow.keras.datasets import mnist\n",
    "import tensorflow_datasets as tfds\n",
    "\n",
    "from sklearn.metrics import accuracy_score, precision_score, recall_score, f1_score, confusion_matrix"
   ]
  },
  {
   "cell_type": "markdown",
   "id": "e829d427",
   "metadata": {},
   "source": [
    "### omniglot dataset\n",
    "- https://github.com/brendenlake/omniglot\n",
    "- https://www.tensorflow.org/datasets/catalog/omniglot?hl=ko\n",
    "\n",
    "다양한 국가의 다양한 문자(Alphabet)에 대한 데이터 셋을 옴니글롯 데이터셋입니다. 옴니글롯 데이터셋은 다양한 알파벳에 속한 문자를 손으로 쓴 1623개의 고유한 글자 이미지를 포함하며, 각 글자에 대해 20개의 다른 사람이 쓴 예제입니다.<br>\n",
    "\n",
    "옴니글롯 데이터셋은 다양한 알파벳에 속한 문자를 손으로 쓴 1623개의 고유한 글자 이미지를 포함하며, 각 글자에 대해 20개의 다른 사람이 쓴 예제가 있습니다.<br>\n",
    "\n",
    "\n",
    "옴니글롯 데이터셋은 전체적으로 다음과 같이 구성되어 있습니다:<br>\n",
    "- 총 데이터의 수: 32,460개의 이미지 (20개의 예제 x 1623개의 글자)\n",
    "- 클래스 수: 1623개의 고유한 글자 (50개의 다른 알파벳)\n",
    "- 이미지 크기: 105x105"
   ]
  },
  {
   "cell_type": "code",
   "execution_count": 2,
   "id": "0a770a98",
   "metadata": {},
   "outputs": [],
   "source": [
    "import tensorflow_datasets as tfds\n",
    "\n",
    "# Set the custom data directory\n",
    "custom_data_dir = \"./omniglot_datasets\"\n",
    "\n",
    "# Load the Omniglot dataset info with the custom data directory\n",
    "dataset, info = tfds.load(\"omniglot\", split=\"train\", data_dir=custom_data_dir, with_info=True, as_supervised=True) # split=['train', 'test']"
   ]
  },
  {
   "cell_type": "markdown",
   "id": "8330b278",
   "metadata": {},
   "source": [
    "#### \"ExtractError: Error while extracting \" 에러가 나는 경우\n",
    "#### Windows에서는 기본적으로 경로 길이가 260자를 초과하는 경우 오류가 발생\n",
    "\n",
    "1. Windows에서 경로 길이 제한을 해제합니다.\n",
    "\n",
    "- Windows 버전이 Windows 10 버전 1607 이상인 경우 경로 길이 제한을 해제할 수 있습니다. 먼저 'regedit'를 실행하여 레지스트리 편집기를 엽니다. 그런 다음 다음 레지스트리 키로 이동합니다: **HKEY_LOCAL_MACHINE/SYSTEM/CurrentControlSet/Control/FileSystem**\n",
    "\n",
    "- 오른쪽 창에서 LongPathsEnabled이라는 항목을 찾아 더블 클릭합니다. 값 데이터를 1로 설정하고 '확인'을 클릭합니다. 변경 사항이 적용되려면 시스템을 다시 시작해야 할 수 있습니다."
   ]
  },
  {
   "cell_type": "code",
   "execution_count": 3,
   "id": "1e83cee4",
   "metadata": {},
   "outputs": [
    {
     "name": "stdout",
     "output_type": "stream",
     "text": [
      "tfds.core.DatasetInfo(\n",
      "    name='omniglot',\n",
      "    full_name='omniglot/3.0.0',\n",
      "    description=\"\"\"\n",
      "    Omniglot data set for one-shot learning. This dataset contains 1623 different\n",
      "    handwritten characters from 50 different alphabets.\n",
      "    \"\"\",\n",
      "    homepage='https://github.com/brendenlake/omniglot/',\n",
      "    data_path='./omniglot_datasets\\\\omniglot\\\\3.0.0',\n",
      "    download_size=17.95 MiB,\n",
      "    dataset_size=12.29 MiB,\n",
      "    features=FeaturesDict({\n",
      "        'alphabet': ClassLabel(shape=(), dtype=tf.int64, num_classes=50),\n",
      "        'alphabet_char_id': tf.int64,\n",
      "        'image': Image(shape=(105, 105, 3), dtype=tf.uint8),\n",
      "        'label': ClassLabel(shape=(), dtype=tf.int64, num_classes=1623),\n",
      "    }),\n",
      "    supervised_keys=('image', 'label'),\n",
      "    disable_shuffling=False,\n",
      "    splits={\n",
      "        'small1': <SplitInfo num_examples=2720, num_shards=1>,\n",
      "        'small2': <SplitInfo num_examples=3120, num_shards=1>,\n",
      "        'test': <SplitInfo num_examples=13180, num_shards=1>,\n",
      "        'train': <SplitInfo num_examples=19280, num_shards=1>,\n",
      "    },\n",
      "    citation=\"\"\"@article{lake2015human,\n",
      "      title={Human-level concept learning through probabilistic program induction},\n",
      "      author={Lake, Brenden M and Salakhutdinov, Ruslan and Tenenbaum, Joshua B},\n",
      "      journal={Science},\n",
      "      volume={350},\n",
      "      number={6266},\n",
      "      pages={1332--1338},\n",
      "      year={2015},\n",
      "      publisher={American Association for the Advancement of Science}\n",
      "    }\"\"\",\n",
      ")\n"
     ]
    }
   ],
   "source": [
    "# Dataset details\n",
    "print(info)"
   ]
  },
  {
   "cell_type": "code",
   "execution_count": 4,
   "id": "1a7a25f3",
   "metadata": {},
   "outputs": [
    {
     "data": {
      "text/plain": [
       "(dict_keys(['train', 'test', 'small1', 'small2']), 19280, 13180)"
      ]
     },
     "execution_count": 4,
     "metadata": {},
     "output_type": "execute_result"
    }
   ],
   "source": [
    "info.splits.keys(), info.splits['train'].num_examples, info.splits['test'].num_examples"
   ]
  },
  {
   "cell_type": "markdown",
   "id": "79164e28",
   "metadata": {},
   "source": [
    "## 2. 이미지 데이터 전처리"
   ]
  },
  {
   "cell_type": "code",
   "execution_count": 5,
   "id": "708a8f22",
   "metadata": {},
   "outputs": [],
   "source": [
    "def preprocess(image, label):\n",
    "    image = tf.cast(image, tf.float32) / 255.0\n",
    "    image = tf.image.resize(image, (105, 105))\n",
    "    return image, label\n",
    "\n",
    "dataset = dataset.map(preprocess)"
   ]
  },
  {
   "cell_type": "code",
   "execution_count": 6,
   "id": "28db742e",
   "metadata": {},
   "outputs": [
    {
     "data": {
      "text/plain": [
       "(15424, 3856)"
      ]
     },
     "execution_count": 6,
     "metadata": {},
     "output_type": "execute_result"
    }
   ],
   "source": [
    "from sklearn.model_selection import train_test_split\n",
    "\n",
    "# Split the dataset into training and testing data\n",
    "train_data, test_data = train_test_split(list(dataset), test_size=0.2)\n",
    "\n",
    "len(train_data), len(test_data)"
   ]
  },
  {
   "cell_type": "markdown",
   "id": "eca3a452",
   "metadata": {},
   "source": [
    "#### 데이터 쌍을 만들고 데이터를 분할"
   ]
  },
  {
   "cell_type": "code",
   "execution_count": 7,
   "id": "a52e2368",
   "metadata": {},
   "outputs": [],
   "source": [
    "def create_balanced_pairs(dataset, num_pairs=10000):\n",
    "    images, labels = [], []\n",
    "    for image, label in dataset.batch(1):\n",
    "        images.append(image)\n",
    "        labels.append(label)\n",
    "        \n",
    "    labels = np.array(labels)\n",
    "\n",
    "    # Get the unique labels and store the indices for each label\n",
    "    unique_labels, indices = np.unique(labels, return_inverse=True)\n",
    "    label_indices = [np.where(indices == label)[0] for label in range(len(unique_labels))]\n",
    "\n",
    "    pairs, targets = [], []\n",
    "    for _ in range(num_pairs // 2):\n",
    "        # Create a positive pair (same label)\n",
    "        label = np.random.choice(len(unique_labels))\n",
    "        idx1, idx2 = np.random.choice(label_indices[label], 2, replace=False)\n",
    "        pairs += [[images[idx1], images[idx2]]]\n",
    "        targets += [1]\n",
    "\n",
    "        # Create a negative pair (different labels)\n",
    "        label1, label2 = np.random.choice(len(unique_labels), 2, replace=False)\n",
    "        idx1 = np.random.choice(label_indices[label1])\n",
    "        idx2 = np.random.choice(label_indices[label2])\n",
    "        pairs += [[images[idx1], images[idx2]]]\n",
    "        targets += [0]\n",
    "\n",
    "    pairs = np.array(pairs)\n",
    "    targets = np.array(targets)\n",
    "\n",
    "    return pairs, targets\n",
    "\n",
    "pairs, targets = create_balanced_pairs(dataset)\n",
    "train_pairs, test_pairs, train_targets, test_targets = train_test_split(pairs, targets, test_size=0.2)\n"
   ]
  },
  {
   "cell_type": "code",
   "execution_count": 8,
   "id": "1f11270f",
   "metadata": {},
   "outputs": [
    {
     "data": {
      "text/plain": [
       "((8000, 2, 1, 105, 105, 3), (2000, 2, 1, 105, 105, 3), (8000,), (2000,))"
      ]
     },
     "execution_count": 8,
     "metadata": {},
     "output_type": "execute_result"
    }
   ],
   "source": [
    "train_pairs.shape, test_pairs.shape, train_targets.shape, test_targets.shape"
   ]
  },
  {
   "cell_type": "markdown",
   "id": "3b388eae",
   "metadata": {},
   "source": [
    "#### 데이터 확인하기"
   ]
  },
  {
   "cell_type": "code",
   "execution_count": 9,
   "id": "9f716904",
   "metadata": {},
   "outputs": [
    {
     "data": {
      "text/plain": [
       "(array([0, 1]), array([0, 1]))"
      ]
     },
     "execution_count": 9,
     "metadata": {},
     "output_type": "execute_result"
    }
   ],
   "source": [
    "np.unique(train_targets), np.unique(test_targets)"
   ]
  },
  {
   "cell_type": "code",
   "execution_count": 10,
   "id": "404ab617",
   "metadata": {},
   "outputs": [
    {
     "name": "stdout",
     "output_type": "stream",
     "text": [
      "Number of 0's: 3982\n",
      "Number of 1's: 4018\n"
     ]
    }
   ],
   "source": [
    "# Count the number of 0's and 1's\n",
    "count_zeros = np.count_nonzero(train_targets == 0)\n",
    "count_ones = np.count_nonzero(train_targets == 1)\n",
    "\n",
    "print(\"Number of 0's:\", count_zeros)\n",
    "print(\"Number of 1's:\", count_ones)"
   ]
  },
  {
   "cell_type": "code",
   "execution_count": 11,
   "id": "83171690",
   "metadata": {},
   "outputs": [
    {
     "name": "stdout",
     "output_type": "stream",
     "text": [
      "Number of 0's: 1018\n",
      "Number of 1's: 982\n"
     ]
    }
   ],
   "source": [
    "# Count the number of 0's and 1's\n",
    "count_zeros = np.count_nonzero(test_targets == 0)\n",
    "count_ones = np.count_nonzero(test_targets == 1)\n",
    "\n",
    "print(\"Number of 0's:\", count_zeros)\n",
    "print(\"Number of 1's:\", count_ones)"
   ]
  },
  {
   "cell_type": "markdown",
   "id": "5df5cff4",
   "metadata": {},
   "source": [
    "## 3. 샴 네트워크(Siamese neural network) 구성"
   ]
  },
  {
   "cell_type": "code",
   "execution_count": 12,
   "id": "5c628c96",
   "metadata": {},
   "outputs": [],
   "source": [
    "def create_siamese_network(input_shape):\n",
    "    input = Input(shape=input_shape)\n",
    "    x = Conv2D(64, (10, 10), activation='relu')(input)\n",
    "    x = MaxPooling2D()(x)\n",
    "    x = Conv2D(128, (7, 7), activation='relu')(x)\n",
    "    x = MaxPooling2D()(x)\n",
    "    x = Conv2D(128, (4, 4), activation='relu')(x)\n",
    "    x = MaxPooling2D()(x)\n",
    "    x = Conv2D(256, (4, 4), activation='relu')(x)\n",
    "    x = Flatten()(x)\n",
    "    x = Dense(4096, activation='sigmoid')(x)\n",
    "    return Model(input, x)\n",
    "\n",
    "input_shape = (105, 105, 3)\n",
    "left_input = Input(input_shape)\n",
    "right_input = Input(input_shape)\n",
    "\n",
    "siamese_network = create_siamese_network(input_shape)\n",
    "\n",
    "encoded_l = siamese_network(left_input)\n",
    "encoded_r = siamese_network(right_input)\n",
    "\n",
    "L1_layer = Lambda(lambda tensors: tf.abs(tensors[0] - tensors[1]))\n",
    "L1_distance = L1_layer([encoded_l, encoded_r])\n",
    "\n",
    "prediction = Dense(1, activation='sigmoid')(L1_distance)\n",
    "siamese_net = Model(inputs=[left_input, right_input], outputs=prediction)"
   ]
  },
  {
   "cell_type": "code",
   "execution_count": 13,
   "id": "b43fadda",
   "metadata": {},
   "outputs": [],
   "source": [
    "optimizer = Adam()\n",
    "siamese_net.compile(loss='binary_crossentropy', optimizer=optimizer, metrics=['accuracy'])"
   ]
  },
  {
   "cell_type": "markdown",
   "id": "9bca8c56",
   "metadata": {},
   "source": [
    "## 4. 모델 학습"
   ]
  },
  {
   "cell_type": "code",
   "execution_count": 14,
   "id": "0ccacf59",
   "metadata": {},
   "outputs": [],
   "source": [
    "train_left, train_right = train_pairs[:, 0].reshape(-1, 105, 105, 3), train_pairs[:, 1].reshape(-1, 105, 105, 3)\n",
    "test_left, test_right = test_pairs[:, 0].reshape(-1, 105, 105, 3), test_pairs[:, 1].reshape(-1, 105, 105, 3)"
   ]
  },
  {
   "cell_type": "code",
   "execution_count": 15,
   "id": "56e6bded",
   "metadata": {},
   "outputs": [
    {
     "name": "stdout",
     "output_type": "stream",
     "text": [
      "Epoch 1/10\n",
      "63/63 [==============================] - 17s 191ms/step - loss: 0.5868 - accuracy: 0.6568 - val_loss: 0.5174 - val_accuracy: 0.7220\n",
      "Epoch 2/10\n",
      "63/63 [==============================] - 9s 139ms/step - loss: 0.4592 - accuracy: 0.7875 - val_loss: 0.4188 - val_accuracy: 0.8210\n",
      "Epoch 3/10\n",
      "63/63 [==============================] - 9s 139ms/step - loss: 0.3322 - accuracy: 0.8579 - val_loss: 0.3595 - val_accuracy: 0.8435\n",
      "Epoch 4/10\n",
      "63/63 [==============================] - 9s 139ms/step - loss: 0.2228 - accuracy: 0.9141 - val_loss: 0.3395 - val_accuracy: 0.8595\n",
      "Epoch 5/10\n",
      "63/63 [==============================] - 9s 141ms/step - loss: 0.1090 - accuracy: 0.9615 - val_loss: 0.3635 - val_accuracy: 0.8590\n",
      "Epoch 6/10\n",
      "63/63 [==============================] - 9s 141ms/step - loss: 0.0525 - accuracy: 0.9851 - val_loss: 0.3498 - val_accuracy: 0.8645\n",
      "Epoch 7/10\n",
      "63/63 [==============================] - 9s 140ms/step - loss: 0.0292 - accuracy: 0.9924 - val_loss: 0.3457 - val_accuracy: 0.8840\n",
      "Epoch 8/10\n",
      "63/63 [==============================] - 9s 138ms/step - loss: 0.0113 - accuracy: 0.9983 - val_loss: 0.3887 - val_accuracy: 0.8850\n",
      "Epoch 9/10\n",
      "63/63 [==============================] - 9s 140ms/step - loss: 0.0029 - accuracy: 1.0000 - val_loss: 0.3957 - val_accuracy: 0.8920\n",
      "Epoch 10/10\n",
      "63/63 [==============================] - 9s 138ms/step - loss: 8.3001e-04 - accuracy: 1.0000 - val_loss: 0.4026 - val_accuracy: 0.8955\n"
     ]
    }
   ],
   "source": [
    "history = siamese_net.fit([train_left, train_right], train_targets,\n",
    "                          batch_size=128,\n",
    "                          epochs=10,\n",
    "                          validation_data=([test_left, test_right], test_targets))"
   ]
  },
  {
   "cell_type": "markdown",
   "id": "ae624e77",
   "metadata": {},
   "source": [
    "#### 학습 과정 시각화"
   ]
  },
  {
   "cell_type": "code",
   "execution_count": 16,
   "id": "73c3d3e9",
   "metadata": {},
   "outputs": [
    {
     "data": {
      "image/png": "[encoded data removed]",
      "text/plain": [
       "<Figure size 640x480 with 1 Axes>"
      ]
     },
     "metadata": {},
     "output_type": "display_data"
    }
   ],
   "source": [
    "plt.plot(history.history['accuracy'], label='Training Accuracy')\n",
    "plt.plot(history.history['val_accuracy'], label='Validation Accuracy')\n",
    "\n",
    "plt.plot(history.history['loss'], label='Training Loss')\n",
    "plt.plot(history.history['val_loss'], label='Validation Loss')\n",
    "\n",
    "plt.title('Siamese Network Accuracy')\n",
    "plt.xlabel('Epochs')\n",
    "plt.ylabel('Accuracy')\n",
    "plt.legend()\n",
    "plt.show()"
   ]
  },
  {
   "cell_type": "markdown",
   "id": "daf61733",
   "metadata": {},
   "source": [
    "## 5. 모델 평가"
   ]
  },
  {
   "cell_type": "code",
   "execution_count": 17,
   "id": "24d3ab94",
   "metadata": {},
   "outputs": [
    {
     "name": "stdout",
     "output_type": "stream",
     "text": [
      "Accuracy: 0.90\n",
      "Precision: 0.89\n",
      "Recall: 0.90\n",
      "F1 Score: 0.89\n"
     ]
    }
   ],
   "source": [
    "from sklearn.metrics import accuracy_score, precision_score, recall_score, f1_score, confusion_matrix\n",
    "\n",
    "predictions = siamese_net.predict([test_left, test_right])\n",
    "binary_predictions = (predictions > 0.5).astype(int)\n",
    "\n",
    "accuracy = accuracy_score(test_targets, binary_predictions)\n",
    "precision = precision_score(test_targets, binary_predictions)\n",
    "recall = recall_score(test_targets, binary_predictions)\n",
    "f1 = f1_score(test_targets, binary_predictions)\n",
    "\n",
    "print(\"Accuracy: {:.2f}\".format(accuracy))\n",
    "print(\"Precision: {:.2f}\".format(precision))\n",
    "print(\"Recall: {:.2f}\".format(recall))\n",
    "print(\"F1 Score: {:.2f}\".format(f1))"
   ]
  },
  {
   "cell_type": "code",
   "execution_count": 18,
   "id": "e4632d2d",
   "metadata": {},
   "outputs": [
    {
     "name": "stdout",
     "output_type": "stream",
     "text": [
      "Confusion Matrix:\n",
      "[[903 115]\n",
      " [ 94 888]]\n"
     ]
    }
   ],
   "source": [
    "cm = confusion_matrix(test_targets, binary_predictions)\n",
    "print(\"Confusion Matrix:\")\n",
    "print(cm)"
   ]
  }
 ],
 "metadata": {
  "kernelspec": {
   "display_name": "Python 3 (ipykernel)",
   "language": "python",
   "name": "python3"
  },
  "language_info": {
   "codemirror_mode": {
    "name": "ipython",
    "version": 3
   },
   "file_extension": ".py",
   "mimetype": "text/x-python",
   "name": "python",
   "nbconvert_exporter": "python",
   "pygments_lexer": "ipython3",
   "version": "3.9.16"
  }
 },
 "nbformat": 4,
 "nbformat_minor": 5
}
