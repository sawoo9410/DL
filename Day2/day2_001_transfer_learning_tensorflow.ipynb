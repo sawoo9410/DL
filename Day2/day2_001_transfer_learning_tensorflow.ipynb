{
 "cells": [
  {
   "cell_type": "code",
   "execution_count": 1,
   "id": "50449234",
   "metadata": {},
   "outputs": [
    {
     "data": {
      "text/plain": [
       "'\\nCreated on 2022\\n\\n@author: S.W\\n'"
      ]
     },
     "execution_count": 1,
     "metadata": {},
     "output_type": "execute_result"
    }
   ],
   "source": [
    "# -*- coding: utf-8 -*-\n",
    "\"\"\"\n",
    "Created on 2022\n",
    "\n",
    "@author: S.W\n",
    "\"\"\""
   ]
  },
  {
   "cell_type": "markdown",
   "id": "bfa5c6e7",
   "metadata": {},
   "source": [
    "# 1. 학습에 필요한 라이브러리 import"
   ]
  },
  {
   "cell_type": "code",
   "execution_count": 2,
   "id": "ce648579",
   "metadata": {},
   "outputs": [],
   "source": [
    "import os\n",
    "import PIL\n",
    "import matplotlib\n",
    "import matplotlib.pyplot as plt\n",
    "import numpy as np\n",
    "\n",
    "import tensorflow as tf"
   ]
  },
  {
   "cell_type": "markdown",
   "id": "94380083",
   "metadata": {},
   "source": [
    "# 2. CIFAR10 데이터셋 불러오기"
   ]
  },
  {
   "cell_type": "code",
   "execution_count": 3,
   "id": "b0cfc0a8",
   "metadata": {},
   "outputs": [],
   "source": [
    "# https://www.cs.toronto.edu/~kriz/cifar.html\n",
    "# class : airplane, automobile, bird, cat, deer, dog, frog, horse, ship, truck\n",
    "\n",
    "from tensorflow.keras import datasets\n",
    "\n",
    "(train_images, train_labels), (test_images, test_labels) = datasets.cifar10.load_data()\n"
   ]
  },
  {
   "cell_type": "code",
   "execution_count": 4,
   "id": "1d4ea788",
   "metadata": {},
   "outputs": [
    {
     "data": {
      "text/plain": [
       "array([0., 0., 0., 0., 0., 0., 1., 0., 0., 0.], dtype=float32)"
      ]
     },
     "execution_count": 4,
     "metadata": {},
     "output_type": "execute_result"
    }
   ],
   "source": [
    "from keras.utils import np_utils\n",
    "\n",
    "# one-hot encoding\n",
    "train_labels = np_utils.to_categorical(train_labels, 10)\n",
    "test_labels = np_utils.to_categorical(test_labels, 10)\n",
    "\n",
    "train_labels[0]"
   ]
  },
  {
   "cell_type": "code",
   "execution_count": 5,
   "id": "7face541",
   "metadata": {},
   "outputs": [
    {
     "data": {
      "text/plain": [
       "((50000, 32, 32, 3), (50000, 10), (10000, 32, 32, 3), (10000, 10))"
      ]
     },
     "execution_count": 5,
     "metadata": {},
     "output_type": "execute_result"
    }
   ],
   "source": [
    "train_images.shape, train_labels.shape, test_images.shape, test_labels.shape"
   ]
  },
  {
   "cell_type": "code",
   "execution_count": 6,
   "id": "87de823f",
   "metadata": {},
   "outputs": [
    {
     "name": "stdout",
     "output_type": "stream",
     "text": [
      "(60000, 32, 32, 3)\n",
      "(60000, 10)\n"
     ]
    }
   ],
   "source": [
    "X = np.concatenate([train_images, test_images])\n",
    "y = np.concatenate([train_labels, test_labels])\n",
    "print(np.concatenate([train_images, test_images]).shape)\n",
    "print(np.concatenate([train_labels, test_labels]).shape)"
   ]
  },
  {
   "cell_type": "code",
   "execution_count": 7,
   "id": "cb84d46d",
   "metadata": {},
   "outputs": [],
   "source": [
    "import numpy as np\n",
    "from sklearn.model_selection import train_test_split\n",
    "\n",
    "train_set_X, test_set_X, train_set_y, test_set_y = train_test_split(X, y,\n",
    "                                                    test_size=0.005,\n",
    "                                                    train_size=0.02, random_state=42)"
   ]
  },
  {
   "cell_type": "code",
   "execution_count": 8,
   "id": "5c0de7ac",
   "metadata": {},
   "outputs": [
    {
     "data": {
      "text/plain": [
       "((1200, 32, 32, 3), (300, 32, 32, 3), (1200, 10), (300, 10))"
      ]
     },
     "execution_count": 8,
     "metadata": {},
     "output_type": "execute_result"
    }
   ],
   "source": [
    "train_set_X.shape, test_set_X.shape, train_set_y.shape, test_set_y.shape"
   ]
  },
  {
   "cell_type": "code",
   "execution_count": 9,
   "id": "255fc6c6",
   "metadata": {},
   "outputs": [
    {
     "data": {
      "text/plain": [
       "(array([111., 128., 124., 126., 118., 129., 118., 133.,  92., 121.],\n",
       "       dtype=float32),\n",
       " array([30., 35., 27., 30., 29., 38., 22., 28., 36., 25.], dtype=float32))"
      ]
     },
     "execution_count": 9,
     "metadata": {},
     "output_type": "execute_result"
    }
   ],
   "source": [
    "np.sum(train_set_y, axis=0) , np.sum(test_set_y, axis=0)"
   ]
  },
  {
   "cell_type": "code",
   "execution_count": 10,
   "id": "a9e9832c",
   "metadata": {},
   "outputs": [
    {
     "name": "stdout",
     "output_type": "stream",
     "text": [
      "AxesImage(80,52.8;496x369.6)\n",
      "숫자:  [0. 0. 0. 0. 0. 0. 1. 0. 0. 0.]\n"
     ]
    },
    {
     "data": {
      "image/png": "[encoded data removed]",
      "text/plain": [
       "<Figure size 640x480 with 1 Axes>"
      ]
     },
     "metadata": {},
     "output_type": "display_data"
    }
   ],
   "source": [
    "n = 200\n",
    "print(plt.imshow(train_set_X[n]))\n",
    "print(\"숫자: \",train_set_y[n])"
   ]
  },
  {
   "cell_type": "markdown",
   "id": "457fc5c9",
   "metadata": {},
   "source": [
    "# 3.Pre-Trained Model 불러오기"
   ]
  },
  {
   "cell_type": "code",
   "execution_count": 11,
   "id": "71206e4d",
   "metadata": {},
   "outputs": [
    {
     "name": "stdout",
     "output_type": "stream",
     "text": [
      "Model: \"vgg16\"\n",
      "_________________________________________________________________\n",
      " Layer (type)                Output Shape              Param #   \n",
      "=================================================================\n",
      " input_1 (InputLayer)        [(None, 32, 32, 3)]       0         \n",
      "                                                                 \n",
      " block1_conv1 (Conv2D)       (None, 32, 32, 64)        1792      \n",
      "                                                                 \n",
      " block1_conv2 (Conv2D)       (None, 32, 32, 64)        36928     \n",
      "                                                                 \n",
      " block1_pool (MaxPooling2D)  (None, 16, 16, 64)        0         \n",
      "                                                                 \n",
      " block2_conv1 (Conv2D)       (None, 16, 16, 128)       73856     \n",
      "                                                                 \n",
      " block2_conv2 (Conv2D)       (None, 16, 16, 128)       147584    \n",
      "                                                                 \n",
      " block2_pool (MaxPooling2D)  (None, 8, 8, 128)         0         \n",
      "                                                                 \n",
      " block3_conv1 (Conv2D)       (None, 8, 8, 256)         295168    \n",
      "                                                                 \n",
      " block3_conv2 (Conv2D)       (None, 8, 8, 256)         590080    \n",
      "                                                                 \n",
      " block3_conv3 (Conv2D)       (None, 8, 8, 256)         590080    \n",
      "                                                                 \n",
      " block3_pool (MaxPooling2D)  (None, 4, 4, 256)         0         \n",
      "                                                                 \n",
      " block4_conv1 (Conv2D)       (None, 4, 4, 512)         1180160   \n",
      "                                                                 \n",
      " block4_conv2 (Conv2D)       (None, 4, 4, 512)         2359808   \n",
      "                                                                 \n",
      " block4_conv3 (Conv2D)       (None, 4, 4, 512)         2359808   \n",
      "                                                                 \n",
      " block4_pool (MaxPooling2D)  (None, 2, 2, 512)         0         \n",
      "                                                                 \n",
      " block5_conv1 (Conv2D)       (None, 2, 2, 512)         2359808   \n",
      "                                                                 \n",
      " block5_conv2 (Conv2D)       (None, 2, 2, 512)         2359808   \n",
      "                                                                 \n",
      " block5_conv3 (Conv2D)       (None, 2, 2, 512)         2359808   \n",
      "                                                                 \n",
      " block5_pool (MaxPooling2D)  (None, 1, 1, 512)         0         \n",
      "                                                                 \n",
      "=================================================================\n",
      "Total params: 14,714,688\n",
      "Trainable params: 14,714,688\n",
      "Non-trainable params: 0\n",
      "_________________________________________________________________\n"
     ]
    }
   ],
   "source": [
    "from tensorflow.keras.applications.vgg16 import VGG16, preprocess_input\n",
    "from tensorflow.keras.preprocessing import image\n",
    "from tensorflow.keras.applications.resnet import ResNet50, preprocess_input\n",
    "\n",
    "model = VGG16(input_shape=(32, 32, 3), include_top=False, weights=None)\n",
    "# include_top : FC layer를 포함할지 안할지\n",
    "# weight : None or \"imagenet\"\n",
    "# input_shape : input tensor shape control\n",
    "\n",
    "model.summary()"
   ]
  },
  {
   "cell_type": "code",
   "execution_count": 12,
   "id": "d4d02b50",
   "metadata": {},
   "outputs": [
    {
     "data": {
      "text/plain": [
       "<keras.layers.convolutional.Conv2D at 0x2cfbb45b0>"
      ]
     },
     "execution_count": 12,
     "metadata": {},
     "output_type": "execute_result"
    }
   ],
   "source": [
    "model.get_layer('block4_conv3')"
   ]
  },
  {
   "cell_type": "code",
   "execution_count": 13,
   "id": "754ac700",
   "metadata": {},
   "outputs": [
    {
     "name": "stdout",
     "output_type": "stream",
     "text": [
      "Model: \"model\"\n",
      "_________________________________________________________________\n",
      " Layer (type)                Output Shape              Param #   \n",
      "=================================================================\n",
      " input_1 (InputLayer)        [(None, 32, 32, 3)]       0         \n",
      "                                                                 \n",
      " block1_conv1 (Conv2D)       (None, 32, 32, 64)        1792      \n",
      "                                                                 \n",
      " block1_conv2 (Conv2D)       (None, 32, 32, 64)        36928     \n",
      "                                                                 \n",
      " block1_pool (MaxPooling2D)  (None, 16, 16, 64)        0         \n",
      "                                                                 \n",
      " block2_conv1 (Conv2D)       (None, 16, 16, 128)       73856     \n",
      "                                                                 \n",
      " block2_conv2 (Conv2D)       (None, 16, 16, 128)       147584    \n",
      "                                                                 \n",
      " block2_pool (MaxPooling2D)  (None, 8, 8, 128)         0         \n",
      "                                                                 \n",
      " block3_conv1 (Conv2D)       (None, 8, 8, 256)         295168    \n",
      "                                                                 \n",
      " block3_conv2 (Conv2D)       (None, 8, 8, 256)         590080    \n",
      "                                                                 \n",
      " block3_conv3 (Conv2D)       (None, 8, 8, 256)         590080    \n",
      "                                                                 \n",
      " block3_pool (MaxPooling2D)  (None, 4, 4, 256)         0         \n",
      "                                                                 \n",
      " block4_conv1 (Conv2D)       (None, 4, 4, 512)         1180160   \n",
      "                                                                 \n",
      " block4_conv2 (Conv2D)       (None, 4, 4, 512)         2359808   \n",
      "                                                                 \n",
      " block4_conv3 (Conv2D)       (None, 4, 4, 512)         2359808   \n",
      "                                                                 \n",
      " global_average_pooling2d (G  (None, 512)              0         \n",
      " lobalAveragePooling2D)                                          \n",
      "                                                                 \n",
      " dense (Dense)               (None, 128)               65664     \n",
      "                                                                 \n",
      " output (Dense)              (None, 10)                1290      \n",
      "                                                                 \n",
      "=================================================================\n",
      "Total params: 7,702,218\n",
      "Trainable params: 7,702,218\n",
      "Non-trainable params: 0\n",
      "_________________________________________________________________\n"
     ]
    }
   ],
   "source": [
    "from tensorflow.keras.layers import GlobalAveragePooling2D, Dense\n",
    "from tensorflow.keras.models import Model\n",
    "\n",
    "output = model.get_layer('block2_pool').output # 모델의 가장 마지막 층 반환\n",
    "\n",
    "# VGG16 모델 위에 신경망 쌓기\n",
    "x = GlobalAveragePooling2D()(output)\n",
    "x = Dense(128, activation='relu')(x)\n",
    "output = Dense(10, activation='softmax', name='output')(x)\n",
    "\n",
    "model = Model(inputs=model.input, outputs=output)\n",
    "model.summary()"
   ]
  },
  {
   "cell_type": "code",
   "execution_count": 14,
   "id": "0ba7426e",
   "metadata": {},
   "outputs": [],
   "source": [
    "# ImageDataGenerator를 통해 학습 데이터 Augmentation\n",
    "\n",
    "from tensorflow.keras.preprocessing.image import ImageDataGenerator\n",
    "# https://www.tensorflow.org/api_docs/python/tf/keras/preprocessing/image/ImageDataGenerator\n",
    "\n",
    "from tensorflow.keras.optimizers import Adam\n",
    "from tensorflow.keras.callbacks import ReduceLROnPlateau, EarlyStopping\n",
    "\n",
    "train_gen = ImageDataGenerator(\n",
    "#     horizontal_flip=True,\n",
    "    rescale=1/255.0\n",
    ")\n",
    "\n",
    "# 검증용 데이터 세트는 scale만 바꾸어주고 augmentation 적용하면 안됨\n",
    "test_gen = ImageDataGenerator(rescale=1/255.0)\n",
    "\n",
    "flow_tr_gen = train_gen.flow(train_set_X, train_set_y, batch_size=64, shuffle=True)\n",
    "flow_test_gen = test_gen.flow(test_set_X, test_set_y, batch_size=64, shuffle=False)"
   ]
  },
  {
   "cell_type": "code",
   "execution_count": 15,
   "id": "a4d01fec",
   "metadata": {},
   "outputs": [],
   "source": [
    "model.compile(optimizer=Adam(), loss='categorical_crossentropy', metrics=['accuracy'])"
   ]
  },
  {
   "cell_type": "markdown",
   "id": "71bb9ba1",
   "metadata": {},
   "source": [
    "# 4. 모델 학습"
   ]
  },
  {
   "cell_type": "code",
   "execution_count": 16,
   "id": "69d472fd",
   "metadata": {
    "scrolled": true
   },
   "outputs": [
    {
     "name": "stdout",
     "output_type": "stream",
     "text": [
      "Epoch 1/50\n"
     ]
    },
    {
     "name": "stderr",
     "output_type": "stream",
     "text": [
      "2023-04-21 17:27:36.791152: W tensorflow/core/platform/profile_utils/cpu_utils.cc:128] Failed to get CPU frequency: 0 Hz\n"
     ]
    },
    {
     "name": "stdout",
     "output_type": "stream",
     "text": [
      "19/19 [==============================] - 23s 1s/step - loss: 2.3036 - accuracy: 0.0892 - val_loss: 2.3032 - val_accuracy: 0.1000\n",
      "Epoch 2/50\n",
      "19/19 [==============================] - 20s 1s/step - loss: 2.3010 - accuracy: 0.1075 - val_loss: 2.3053 - val_accuracy: 0.0933\n",
      "Epoch 3/50\n",
      "19/19 [==============================] - 20s 1s/step - loss: 2.2997 - accuracy: 0.0967 - val_loss: 2.3059 - val_accuracy: 0.0933\n",
      "Epoch 4/50\n",
      "19/19 [==============================] - 20s 1s/step - loss: 2.2995 - accuracy: 0.1108 - val_loss: 2.3069 - val_accuracy: 0.0933\n",
      "Epoch 5/50\n",
      "19/19 [==============================] - 20s 1s/step - loss: 2.2993 - accuracy: 0.1108 - val_loss: 2.3081 - val_accuracy: 0.0933\n",
      "Epoch 6/50\n",
      "19/19 [==============================] - 19s 991ms/step - loss: 2.3005 - accuracy: 0.1100 - val_loss: 2.3069 - val_accuracy: 0.0933\n",
      "Epoch 7/50\n",
      "19/19 [==============================] - 18s 977ms/step - loss: 2.2861 - accuracy: 0.1300 - val_loss: 2.2981 - val_accuracy: 0.1033\n",
      "Epoch 8/50\n",
      "19/19 [==============================] - 19s 1s/step - loss: 2.2909 - accuracy: 0.1167 - val_loss: 2.2847 - val_accuracy: 0.1300\n",
      "Epoch 9/50\n",
      "19/19 [==============================] - 19s 984ms/step - loss: 2.2301 - accuracy: 0.1517 - val_loss: 2.1912 - val_accuracy: 0.1500\n",
      "Epoch 10/50\n",
      "19/19 [==============================] - 19s 994ms/step - loss: 2.1280 - accuracy: 0.1667 - val_loss: 2.0541 - val_accuracy: 0.1500\n",
      "Epoch 11/50\n",
      "19/19 [==============================] - 19s 1s/step - loss: 2.0397 - accuracy: 0.1842 - val_loss: 2.6432 - val_accuracy: 0.1200\n",
      "Epoch 12/50\n",
      "19/19 [==============================] - 19s 1s/step - loss: 2.0796 - accuracy: 0.1833 - val_loss: 2.0311 - val_accuracy: 0.2133\n",
      "Epoch 13/50\n",
      "19/19 [==============================] - 20s 1s/step - loss: 2.0153 - accuracy: 0.1917 - val_loss: 1.9794 - val_accuracy: 0.1733\n",
      "Epoch 14/50\n",
      "19/19 [==============================] - 19s 1s/step - loss: 1.9491 - accuracy: 0.2000 - val_loss: 1.9121 - val_accuracy: 0.2167\n",
      "Epoch 15/50\n",
      "19/19 [==============================] - 19s 996ms/step - loss: 1.9370 - accuracy: 0.2242 - val_loss: 1.8898 - val_accuracy: 0.2133\n",
      "Epoch 16/50\n",
      "19/19 [==============================] - 19s 1s/step - loss: 1.9656 - accuracy: 0.2067 - val_loss: 1.9457 - val_accuracy: 0.2133\n",
      "Epoch 17/50\n",
      "19/19 [==============================] - 20s 1s/step - loss: 1.9385 - accuracy: 0.2292 - val_loss: 1.9600 - val_accuracy: 0.2100\n",
      "Epoch 18/50\n",
      "19/19 [==============================] - 19s 985ms/step - loss: 1.9019 - accuracy: 0.2317 - val_loss: 1.8672 - val_accuracy: 0.2300\n",
      "Epoch 19/50\n",
      "19/19 [==============================] - 19s 1s/step - loss: 1.8693 - accuracy: 0.2383 - val_loss: 2.0026 - val_accuracy: 0.1867\n",
      "Epoch 20/50\n",
      "19/19 [==============================] - 19s 978ms/step - loss: 1.8413 - accuracy: 0.2592 - val_loss: 1.8155 - val_accuracy: 0.2367\n",
      "Epoch 21/50\n",
      "19/19 [==============================] - 19s 978ms/step - loss: 1.7951 - accuracy: 0.2633 - val_loss: 1.8926 - val_accuracy: 0.2033\n",
      "Epoch 22/50\n",
      "19/19 [==============================] - 19s 983ms/step - loss: 1.8267 - accuracy: 0.2750 - val_loss: 1.8540 - val_accuracy: 0.2333\n",
      "Epoch 23/50\n",
      "19/19 [==============================] - 19s 998ms/step - loss: 1.8088 - accuracy: 0.2525 - val_loss: 1.8428 - val_accuracy: 0.2667\n",
      "Epoch 24/50\n",
      "19/19 [==============================] - 19s 1000ms/step - loss: 1.7420 - accuracy: 0.2792 - val_loss: 1.9455 - val_accuracy: 0.1933\n",
      "Epoch 25/50\n",
      "19/19 [==============================] - 19s 1s/step - loss: 1.7070 - accuracy: 0.2892 - val_loss: 1.8283 - val_accuracy: 0.2700\n",
      "Epoch 26/50\n",
      "19/19 [==============================] - 19s 1s/step - loss: 1.6834 - accuracy: 0.2958 - val_loss: 1.8679 - val_accuracy: 0.2500\n",
      "Epoch 27/50\n",
      "19/19 [==============================] - 18s 972ms/step - loss: 1.6516 - accuracy: 0.2933 - val_loss: 1.7664 - val_accuracy: 0.3100\n",
      "Epoch 28/50\n",
      "19/19 [==============================] - 19s 999ms/step - loss: 1.5652 - accuracy: 0.3242 - val_loss: 1.8071 - val_accuracy: 0.3167\n",
      "Epoch 29/50\n",
      "19/19 [==============================] - 19s 1s/step - loss: 1.5794 - accuracy: 0.3258 - val_loss: 1.8774 - val_accuracy: 0.3167\n",
      "Epoch 30/50\n",
      "19/19 [==============================] - 19s 1s/step - loss: 1.5988 - accuracy: 0.3367 - val_loss: 1.7750 - val_accuracy: 0.2900\n",
      "Epoch 31/50\n",
      "19/19 [==============================] - 19s 1s/step - loss: 1.4989 - accuracy: 0.3867 - val_loss: 1.9269 - val_accuracy: 0.3100\n",
      "Epoch 32/50\n",
      "19/19 [==============================] - 20s 1s/step - loss: 1.4566 - accuracy: 0.3967 - val_loss: 1.9634 - val_accuracy: 0.2933\n",
      "Epoch 33/50\n",
      "19/19 [==============================] - 222s 12s/step - loss: 1.4469 - accuracy: 0.4067 - val_loss: 1.8404 - val_accuracy: 0.3233\n",
      "Epoch 34/50\n",
      "19/19 [==============================] - 19s 983ms/step - loss: 1.2921 - accuracy: 0.4600 - val_loss: 1.9034 - val_accuracy: 0.3700\n",
      "Epoch 35/50\n",
      "19/19 [==============================] - 19s 981ms/step - loss: 1.2109 - accuracy: 0.4892 - val_loss: 2.1504 - val_accuracy: 0.3900\n",
      "Epoch 36/50\n",
      "19/19 [==============================] - 20s 1s/step - loss: 1.2021 - accuracy: 0.5283 - val_loss: 2.4685 - val_accuracy: 0.3500\n",
      "Epoch 37/50\n",
      "19/19 [==============================] - 19s 1s/step - loss: 1.2071 - accuracy: 0.5208 - val_loss: 1.9523 - val_accuracy: 0.3667\n",
      "Epoch 38/50\n",
      "19/19 [==============================] - 19s 1s/step - loss: 1.0899 - accuracy: 0.5650 - val_loss: 2.0606 - val_accuracy: 0.3500\n",
      "Epoch 39/50\n",
      "19/19 [==============================] - 18s 974ms/step - loss: 0.9894 - accuracy: 0.6192 - val_loss: 2.0529 - val_accuracy: 0.3900\n",
      "Epoch 40/50\n",
      "19/19 [==============================] - 17s 918ms/step - loss: 0.8705 - accuracy: 0.6725 - val_loss: 2.0828 - val_accuracy: 0.4100\n",
      "Epoch 41/50\n",
      "19/19 [==============================] - 18s 973ms/step - loss: 0.8058 - accuracy: 0.6958 - val_loss: 2.7788 - val_accuracy: 0.3800\n",
      "Epoch 42/50\n",
      "19/19 [==============================] - 18s 950ms/step - loss: 0.8496 - accuracy: 0.6608 - val_loss: 2.3758 - val_accuracy: 0.4033\n",
      "Epoch 43/50\n",
      "19/19 [==============================] - 18s 923ms/step - loss: 0.7932 - accuracy: 0.7025 - val_loss: 2.2036 - val_accuracy: 0.4100\n",
      "Epoch 44/50\n",
      "19/19 [==============================] - 17s 918ms/step - loss: 0.6969 - accuracy: 0.7292 - val_loss: 2.9077 - val_accuracy: 0.3700\n",
      "Epoch 45/50\n",
      "19/19 [==============================] - 17s 898ms/step - loss: 0.6411 - accuracy: 0.7633 - val_loss: 2.8158 - val_accuracy: 0.3333\n",
      "Epoch 46/50\n",
      "19/19 [==============================] - 18s 946ms/step - loss: 0.5349 - accuracy: 0.7908 - val_loss: 2.8175 - val_accuracy: 0.3933\n",
      "Epoch 47/50\n",
      "19/19 [==============================] - 18s 951ms/step - loss: 0.4278 - accuracy: 0.8333 - val_loss: 3.1253 - val_accuracy: 0.3900\n",
      "Epoch 48/50\n",
      "19/19 [==============================] - 17s 902ms/step - loss: 0.4205 - accuracy: 0.8558 - val_loss: 3.3680 - val_accuracy: 0.4133\n",
      "Epoch 49/50\n",
      "19/19 [==============================] - 18s 941ms/step - loss: 0.4385 - accuracy: 0.8467 - val_loss: 3.3238 - val_accuracy: 0.4067\n",
      "Epoch 50/50\n",
      "19/19 [==============================] - 17s 892ms/step - loss: 0.4697 - accuracy: 0.8242 - val_loss: 2.9273 - val_accuracy: 0.4100\n"
     ]
    }
   ],
   "source": [
    "## ealy stop\n",
    "# 3번 반복내에 validation loss가 줄어들지 않으면 learning rate를 0.2 감소\n",
    "lr_cb = ReduceLROnPlateau(monitor='val_loss', factor=0.2, patience=3, mode='min', verbose=1)\n",
    "# 5번 반복내에 validation loss가 줄어들지 않으면 강제종료\n",
    "st_cb = EarlyStopping(monitor='val_loss', patience=5, mode='min', verbose=1)\n",
    "\n",
    "# result = model.fit(flow_tr_gen, epochs=50, validation_data=flow_test_gen, callbacks=[lr_cb, st_cb])\n",
    "history = model.fit(flow_tr_gen, epochs=50, validation_data=flow_test_gen)"
   ]
  },
  {
   "cell_type": "code",
   "execution_count": 17,
   "id": "e273a3bb",
   "metadata": {},
   "outputs": [
    {
     "name": "stdout",
     "output_type": "stream",
     "text": [
      "5/5 [==============================] - 1s 176ms/step - loss: 2.9273 - accuracy: 0.4100\n",
      "\n",
      "Accuracy: 0.4100\n"
     ]
    },
    {
     "data": {
      "image/png": "[encoded data removed]",
      "text/plain": [
       "<Figure size 640x480 with 1 Axes>"
      ]
     },
     "metadata": {},
     "output_type": "display_data"
    }
   ],
   "source": [
    "# 출처\n",
    "# https://snowdeer.github.io/machine-learning/2018/01/10/check-relation-between-epoch-and-loss-using-graph/\n",
    "\n",
    "print('\\nAccuracy: {:.4f}'.format(model.evaluate(flow_test_gen)[1]))\n",
    "\n",
    "y_vloss = history.history['val_loss']\n",
    "y_loss = history.history['loss']\n",
    "\n",
    "y_vacc = history.history['val_accuracy']\n",
    "y_acc = history.history['accuracy']\n",
    "\n",
    "x_len = np.arange(len(y_loss))\n",
    "plt.plot(x_len, y_vloss, marker='.', c='red', label=\"Validation-set Loss\")\n",
    "plt.plot(x_len, y_loss, marker='.', c='blue', label=\"Train-set Loss\")\n",
    "\n",
    "x_len = np.arange(len(y_acc))\n",
    "plt.plot(x_len, y_vacc, marker='.', c='green', label=\"Validation-set Accuracy\")\n",
    "plt.plot(x_len, y_acc, marker='.', c='yellow', label=\"Train-set Accuracy\")\n",
    "\n",
    "plt.legend(loc='upper right')\n",
    "plt.grid()\n",
    "plt.xlabel('epoch')\n",
    "plt.ylabel('loss')\n",
    "plt.show()\n",
    "\n",
    "# plt.legend(loc='upper left')\n",
    "# plt.grid()\n",
    "# plt.xlabel('epoch')\n",
    "# plt.ylabel('Accuracy')\n",
    "# plt.show()"
   ]
  },
  {
   "cell_type": "code",
   "execution_count": 18,
   "id": "cf16334b",
   "metadata": {},
   "outputs": [
    {
     "data": {
      "text/plain": [
       "array([[8.43085170e-01, 4.12723282e-03, 5.40542416e-04, ...,\n",
       "        6.70571462e-04, 1.50370806e-01, 1.12621719e-03],\n",
       "       [5.42401940e-05, 4.74259082e-07, 1.21973315e-02, ...,\n",
       "        4.61657837e-05, 5.76629361e-07, 8.69127325e-05],\n",
       "       [2.83879065e-03, 1.40831125e-05, 5.33719957e-01, ...,\n",
       "        2.87266448e-03, 8.23523533e-06, 8.12391881e-05],\n",
       "       ...,\n",
       "       [1.00703565e-02, 3.75915231e-04, 1.62191704e-01, ...,\n",
       "        1.85512647e-03, 8.60896369e-04, 2.21331487e-03],\n",
       "       [1.71328019e-02, 4.82452393e-01, 3.38166137e-05, ...,\n",
       "        2.33600604e-05, 3.49070653e-02, 4.65447932e-01],\n",
       "       [3.74701049e-05, 2.96628215e-08, 1.61344841e-01, ...,\n",
       "        1.43927056e-04, 1.15069936e-08, 1.19957849e-06]], dtype=float32)"
      ]
     },
     "execution_count": 18,
     "metadata": {},
     "output_type": "execute_result"
    }
   ],
   "source": [
    "# 모델 테스트 데이터 예측값 출력\n",
    "y_pred = model.predict(flow_test_gen)\n",
    "y_pred"
   ]
  },
  {
   "cell_type": "code",
   "execution_count": 19,
   "id": "7f776fcb",
   "metadata": {},
   "outputs": [
    {
     "data": {
      "text/plain": [
       "array([0, 5, 2, 8, 7, 6, 1, 5, 8, 0, 5, 3, 3, 8, 1, 7, 7, 4, 9, 5, 3, 1,\n",
       "       8, 3, 0, 1, 5, 2, 9, 0, 1, 2, 9, 9, 9, 0, 7, 5, 2, 5, 4, 1, 6, 4,\n",
       "       3, 2, 9, 9, 9, 0, 6, 1, 8, 8, 0, 3, 6, 2, 1, 3, 1, 7, 3, 3, 1, 0,\n",
       "       3, 1, 8, 8, 1, 9, 2, 0, 5, 9, 8, 8, 8, 9, 2, 2, 7, 5, 2, 3, 8, 8,\n",
       "       9, 7, 4, 8, 3, 6, 3, 5, 0, 1, 9, 3, 0, 7, 8, 1, 8, 1, 9, 1, 5, 2,\n",
       "       4, 7, 5, 7, 7, 2, 2, 1, 3, 5, 1, 0, 2, 8, 0, 5, 3, 3, 6, 9, 5, 3,\n",
       "       5, 2, 3, 7, 9, 3, 7, 1, 9, 5, 3, 2, 7, 3, 9, 1, 5, 0, 2, 3, 7, 8,\n",
       "       0, 2, 0, 8, 2, 4, 1, 0, 9, 8, 5, 4, 0, 1, 7, 2, 3, 3, 8, 5, 4, 5,\n",
       "       7, 7, 2, 0, 5, 7, 5, 9, 1, 7, 5, 6, 2, 1, 9, 4, 0, 7, 5, 9, 5, 5,\n",
       "       5, 0, 2, 5, 1, 8, 3, 2, 2, 3, 3, 3, 3, 9, 3, 2, 5, 0, 1, 9, 1, 9,\n",
       "       7, 1, 8, 9, 2, 5, 8, 3, 4, 5, 8, 2, 7, 1, 8, 3, 3, 0, 7, 0, 1, 9,\n",
       "       6, 9, 1, 3, 7, 3, 5, 3, 7, 4, 6, 1, 2, 7, 7, 2, 6, 5, 5, 9, 2, 4,\n",
       "       2, 3, 3, 7, 9, 8, 5, 4, 3, 9, 9, 8, 4, 9, 7, 9, 5, 6, 4, 7, 0, 4,\n",
       "       6, 5, 8, 8, 7, 6, 0, 3, 5, 9, 9, 3, 1, 5])"
      ]
     },
     "execution_count": 19,
     "metadata": {},
     "output_type": "execute_result"
    }
   ],
   "source": [
    "# 열 단위, 가장 높은 값을 반환\n",
    "\n",
    "np.argmax(test_set_y, axis=1) # ground truth\n",
    "np.argmax(y_pred, axis=1)     # predict"
   ]
  },
  {
   "cell_type": "markdown",
   "id": "ed4e5cd3",
   "metadata": {},
   "source": [
    "# 5. 모델 평가"
   ]
  },
  {
   "cell_type": "code",
   "execution_count": 20,
   "id": "389e2f0a",
   "metadata": {},
   "outputs": [
    {
     "data": {
      "text/plain": [
       "0.41"
      ]
     },
     "execution_count": 20,
     "metadata": {},
     "output_type": "execute_result"
    }
   ],
   "source": [
    "from sklearn.metrics import accuracy_score\n",
    "\n",
    "accuracy_score(np.argmax(test_set_y, axis=1), np.argmax(y_pred, axis=1))"
   ]
  },
  {
   "cell_type": "markdown",
   "id": "8b5461c9",
   "metadata": {},
   "source": [
    "# 6. Data Augmentation을 통한 성능 개선"
   ]
  },
  {
   "cell_type": "code",
   "execution_count": 21,
   "id": "242e9ab1",
   "metadata": {},
   "outputs": [],
   "source": [
    "train_gen = ImageDataGenerator(\n",
    "    horizontal_flip = True,\n",
    "#     rotation_range = 45,\n",
    "#     width_shift_range = 0.2,\n",
    "#     zoom_range = 0.2,\n",
    "#     fill_mode='nearest',\n",
    "    rescale=1/255.0\n",
    ")\n",
    "\n",
    "# 검증용 데이터 세트는 scale만 바꾸어주고 augmentation 적용하면 안됨\n",
    "test_gen = ImageDataGenerator(rescale=1/255.0)\n",
    "\n",
    "flow_tr_gen = train_gen.flow(train_set_X, train_set_y, batch_size=64, shuffle=True)\n",
    "flow_test_gen = test_gen.flow(test_set_X, test_set_y, batch_size=64, shuffle=False)"
   ]
  },
  {
   "cell_type": "code",
   "execution_count": 22,
   "id": "369ae35c",
   "metadata": {},
   "outputs": [],
   "source": [
    "model = VGG16(input_shape=(32, 32, 3), include_top=False, weights=None)\n",
    "output = model.get_layer('block4_conv3').output # 모델의 가장 마지막 층 반환\n",
    "\n",
    "# VGG16 모델 위에 신경망 쌓기\n",
    "x = GlobalAveragePooling2D()(output)\n",
    "x = Dense(64, activation='relu')(x)\n",
    "output = Dense(10, activation='softmax', name='output')(x)\n",
    "\n",
    "model = Model(inputs=model.input, outputs=output)"
   ]
  },
  {
   "cell_type": "code",
   "execution_count": 23,
   "id": "37fe48f2",
   "metadata": {},
   "outputs": [],
   "source": [
    "model.compile(optimizer=Adam(), loss='categorical_crossentropy', metrics=['accuracy'])"
   ]
  },
  {
   "cell_type": "code",
   "execution_count": null,
   "id": "7b93edd2",
   "metadata": {
    "scrolled": true
   },
   "outputs": [
    {
     "name": "stdout",
     "output_type": "stream",
     "text": [
      "Epoch 1/100\n",
      "19/19 [==============================] - 18s 929ms/step - loss: 2.3053 - accuracy: 0.0925 - val_loss: 2.3034 - val_accuracy: 0.1000\n",
      "Epoch 2/100\n",
      "19/19 [==============================] - 17s 911ms/step - loss: 2.2940 - accuracy: 0.0917 - val_loss: 2.2901 - val_accuracy: 0.0900\n",
      "Epoch 3/100\n",
      "19/19 [==============================] - 17s 885ms/step - loss: 2.2143 - accuracy: 0.1475 - val_loss: 2.1942 - val_accuracy: 0.1533\n",
      "Epoch 4/100\n",
      "19/19 [==============================] - 17s 905ms/step - loss: 2.2145 - accuracy: 0.1517 - val_loss: 2.2363 - val_accuracy: 0.1433\n",
      "Epoch 5/100\n",
      "19/19 [==============================] - 17s 917ms/step - loss: 2.1402 - accuracy: 0.1633 - val_loss: 2.0656 - val_accuracy: 0.2067\n",
      "Epoch 6/100\n",
      "19/19 [==============================] - 17s 907ms/step - loss: 2.0008 - accuracy: 0.2042 - val_loss: 1.9993 - val_accuracy: 0.1967\n",
      "Epoch 7/100\n",
      "19/19 [==============================] - 18s 937ms/step - loss: 1.9422 - accuracy: 0.2167 - val_loss: 1.9899 - val_accuracy: 0.1300\n",
      "Epoch 8/100\n",
      "19/19 [==============================] - 18s 951ms/step - loss: 1.9496 - accuracy: 0.1992 - val_loss: 1.9533 - val_accuracy: 0.1833\n",
      "Epoch 9/100\n",
      "19/19 [==============================] - 18s 938ms/step - loss: 1.9549 - accuracy: 0.2275 - val_loss: 1.8947 - val_accuracy: 0.2333\n",
      "Epoch 10/100\n",
      "19/19 [==============================] - 16s 855ms/step - loss: 1.8780 - accuracy: 0.2275 - val_loss: 1.8963 - val_accuracy: 0.2133\n",
      "Epoch 11/100\n",
      "19/19 [==============================] - 8s 441ms/step - loss: 1.8481 - accuracy: 0.2467 - val_loss: 1.8915 - val_accuracy: 0.1967\n",
      "Epoch 12/100\n",
      "19/19 [==============================] - 8s 443ms/step - loss: 1.8222 - accuracy: 0.2475 - val_loss: 1.8308 - val_accuracy: 0.2500\n",
      "Epoch 13/100\n",
      "19/19 [==============================] - 9s 475ms/step - loss: 1.7994 - accuracy: 0.2508 - val_loss: 1.8532 - val_accuracy: 0.2267\n",
      "Epoch 14/100\n",
      "19/19 [==============================] - 9s 485ms/step - loss: 1.7801 - accuracy: 0.2783 - val_loss: 1.9564 - val_accuracy: 0.2133\n",
      "Epoch 15/100\n",
      "19/19 [==============================] - 8s 449ms/step - loss: 1.7982 - accuracy: 0.2692 - val_loss: 1.8412 - val_accuracy: 0.2333\n",
      "Epoch 16/100\n",
      "19/19 [==============================] - 13s 676ms/step - loss: 1.7571 - accuracy: 0.2950 - val_loss: 1.8683 - val_accuracy: 0.2367\n",
      "Epoch 17/100\n",
      "19/19 [==============================] - 16s 833ms/step - loss: 1.8020 - accuracy: 0.2925 - val_loss: 1.8055 - val_accuracy: 0.2867\n",
      "Epoch 18/100\n",
      "19/19 [==============================] - 16s 841ms/step - loss: 1.7224 - accuracy: 0.3075 - val_loss: 1.8728 - val_accuracy: 0.2733\n",
      "Epoch 19/100\n",
      "19/19 [==============================] - 17s 924ms/step - loss: 1.6551 - accuracy: 0.3358 - val_loss: 1.8364 - val_accuracy: 0.2633\n",
      "Epoch 20/100\n",
      "19/19 [==============================] - 17s 914ms/step - loss: 1.6275 - accuracy: 0.3542 - val_loss: 1.8021 - val_accuracy: 0.2900\n",
      "Epoch 21/100\n",
      "19/19 [==============================] - 17s 922ms/step - loss: 1.5766 - accuracy: 0.3850 - val_loss: 1.7142 - val_accuracy: 0.2633\n",
      "Epoch 22/100\n",
      "19/19 [==============================] - 17s 895ms/step - loss: 1.5557 - accuracy: 0.3800 - val_loss: 1.7259 - val_accuracy: 0.3167\n",
      "Epoch 23/100\n",
      "19/19 [==============================] - 17s 885ms/step - loss: 1.5252 - accuracy: 0.4000 - val_loss: 1.7035 - val_accuracy: 0.3333\n",
      "Epoch 24/100\n",
      "19/19 [==============================] - 17s 886ms/step - loss: 1.4523 - accuracy: 0.4150 - val_loss: 1.6893 - val_accuracy: 0.3433\n",
      "Epoch 25/100\n",
      "19/19 [==============================] - 16s 867ms/step - loss: 1.4160 - accuracy: 0.4292 - val_loss: 1.8444 - val_accuracy: 0.3167\n",
      "Epoch 26/100\n",
      "19/19 [==============================] - 17s 916ms/step - loss: 1.4251 - accuracy: 0.4342 - val_loss: 1.7512 - val_accuracy: 0.3533\n",
      "Epoch 27/100\n",
      "19/19 [==============================] - 16s 868ms/step - loss: 1.4035 - accuracy: 0.4442 - val_loss: 1.8610 - val_accuracy: 0.3100\n",
      "Epoch 28/100\n",
      "19/19 [==============================] - 17s 887ms/step - loss: 1.3461 - accuracy: 0.4417 - val_loss: 1.7441 - val_accuracy: 0.3800\n",
      "Epoch 29/100\n",
      "19/19 [==============================] - 17s 908ms/step - loss: 1.3100 - accuracy: 0.4858 - val_loss: 1.8524 - val_accuracy: 0.3800\n",
      "Epoch 30/100\n",
      "19/19 [==============================] - 17s 914ms/step - loss: 1.3366 - accuracy: 0.4650 - val_loss: 1.7011 - val_accuracy: 0.3633\n",
      "Epoch 31/100\n",
      "19/19 [==============================] - 18s 934ms/step - loss: 1.2589 - accuracy: 0.5000 - val_loss: 1.9402 - val_accuracy: 0.3400\n",
      "Epoch 32/100\n",
      "19/19 [==============================] - 17s 884ms/step - loss: 1.1855 - accuracy: 0.5350 - val_loss: 1.9601 - val_accuracy: 0.3600\n",
      "Epoch 33/100\n",
      "19/19 [==============================] - 17s 878ms/step - loss: 1.1681 - accuracy: 0.5317 - val_loss: 2.0059 - val_accuracy: 0.3700\n",
      "Epoch 34/100\n",
      "19/19 [==============================] - 17s 886ms/step - loss: 1.0815 - accuracy: 0.5708 - val_loss: 1.9061 - val_accuracy: 0.4000\n",
      "Epoch 35/100\n",
      "19/19 [==============================] - 18s 942ms/step - loss: 1.1344 - accuracy: 0.5675 - val_loss: 1.8006 - val_accuracy: 0.3633\n",
      "Epoch 36/100\n",
      "19/19 [==============================] - 17s 881ms/step - loss: 1.0585 - accuracy: 0.5917 - val_loss: 1.9422 - val_accuracy: 0.3800\n",
      "Epoch 37/100\n",
      "19/19 [==============================] - 16s 860ms/step - loss: 0.9561 - accuracy: 0.6117 - val_loss: 1.9973 - val_accuracy: 0.4167\n",
      "Epoch 38/100\n",
      "19/19 [==============================] - 16s 857ms/step - loss: 0.8964 - accuracy: 0.6367 - val_loss: 2.0155 - val_accuracy: 0.4200\n",
      "Epoch 39/100\n",
      "19/19 [==============================] - 18s 948ms/step - loss: 0.8907 - accuracy: 0.6500 - val_loss: 1.9218 - val_accuracy: 0.4400\n",
      "Epoch 40/100\n",
      "19/19 [==============================] - 17s 885ms/step - loss: 0.8492 - accuracy: 0.6775 - val_loss: 2.2707 - val_accuracy: 0.3700\n",
      "Epoch 41/100\n",
      "19/19 [==============================] - 17s 876ms/step - loss: 1.0887 - accuracy: 0.5808 - val_loss: 1.7740 - val_accuracy: 0.4200\n",
      "Epoch 42/100\n",
      "19/19 [==============================] - 17s 872ms/step - loss: 0.9471 - accuracy: 0.6450 - val_loss: 1.7256 - val_accuracy: 0.4333\n",
      "Epoch 43/100\n",
      "19/19 [==============================] - 17s 881ms/step - loss: 0.7833 - accuracy: 0.6975 - val_loss: 2.2072 - val_accuracy: 0.3600\n",
      "Epoch 44/100\n",
      "19/19 [==============================] - 17s 920ms/step - loss: 0.8841 - accuracy: 0.6617 - val_loss: 2.0356 - val_accuracy: 0.3933\n",
      "Epoch 45/100\n",
      "19/19 [==============================] - 17s 893ms/step - loss: 0.7289 - accuracy: 0.7233 - val_loss: 2.3715 - val_accuracy: 0.4067\n",
      "Epoch 46/100\n",
      "19/19 [==============================] - 17s 888ms/step - loss: 0.6603 - accuracy: 0.7558 - val_loss: 2.7099 - val_accuracy: 0.4200\n",
      "Epoch 47/100\n",
      "19/19 [==============================] - 17s 887ms/step - loss: 0.6579 - accuracy: 0.7742 - val_loss: 2.2602 - val_accuracy: 0.4600\n",
      "Epoch 48/100\n",
      "19/19 [==============================] - 18s 944ms/step - loss: 0.6323 - accuracy: 0.7700 - val_loss: 2.3648 - val_accuracy: 0.4167\n",
      "Epoch 49/100\n",
      "19/19 [==============================] - 17s 906ms/step - loss: 0.5523 - accuracy: 0.7975 - val_loss: 2.2359 - val_accuracy: 0.4500\n",
      "Epoch 50/100\n",
      "19/19 [==============================] - 17s 886ms/step - loss: 0.5437 - accuracy: 0.7983 - val_loss: 2.5769 - val_accuracy: 0.3933\n",
      "Epoch 51/100\n",
      "19/19 [==============================] - 17s 882ms/step - loss: 0.5537 - accuracy: 0.7958 - val_loss: 2.4434 - val_accuracy: 0.4500\n",
      "Epoch 52/100\n",
      "19/19 [==============================] - 18s 937ms/step - loss: 0.5239 - accuracy: 0.8108 - val_loss: 2.4666 - val_accuracy: 0.4200\n",
      "Epoch 53/100\n",
      "19/19 [==============================] - 17s 898ms/step - loss: 0.4575 - accuracy: 0.8283 - val_loss: 2.5612 - val_accuracy: 0.4033\n",
      "Epoch 54/100\n",
      "19/19 [==============================] - 17s 893ms/step - loss: 0.4700 - accuracy: 0.8258 - val_loss: 2.9666 - val_accuracy: 0.3900\n",
      "Epoch 55/100\n",
      "19/19 [==============================] - 17s 907ms/step - loss: 0.4025 - accuracy: 0.8550 - val_loss: 2.7302 - val_accuracy: 0.4333\n",
      "Epoch 56/100\n",
      "19/19 [==============================] - 17s 915ms/step - loss: 0.4170 - accuracy: 0.8525 - val_loss: 3.1971 - val_accuracy: 0.3933\n",
      "Epoch 57/100\n"
     ]
    },
    {
     "name": "stdout",
     "output_type": "stream",
     "text": [
      "19/19 [==============================] - 17s 901ms/step - loss: 0.4300 - accuracy: 0.8533 - val_loss: 2.4371 - val_accuracy: 0.4433\n",
      "Epoch 58/100\n",
      "19/19 [==============================] - 16s 871ms/step - loss: 0.3977 - accuracy: 0.8467 - val_loss: 3.2090 - val_accuracy: 0.3500\n",
      "Epoch 59/100\n",
      "19/19 [==============================] - 17s 876ms/step - loss: 0.3255 - accuracy: 0.8842 - val_loss: 3.1465 - val_accuracy: 0.3933\n",
      "Epoch 60/100\n",
      "19/19 [==============================] - 8s 427ms/step - loss: 0.3451 - accuracy: 0.8733 - val_loss: 2.9455 - val_accuracy: 0.4233\n",
      "Epoch 61/100\n",
      "19/19 [==============================] - 8s 402ms/step - loss: 0.3247 - accuracy: 0.8825 - val_loss: 2.9350 - val_accuracy: 0.4200\n",
      "Epoch 62/100\n",
      "19/19 [==============================] - 8s 406ms/step - loss: 0.3240 - accuracy: 0.9025 - val_loss: 3.3733 - val_accuracy: 0.4200\n",
      "Epoch 63/100\n",
      "19/19 [==============================] - 8s 400ms/step - loss: 0.2834 - accuracy: 0.8892 - val_loss: 3.1109 - val_accuracy: 0.3933\n",
      "Epoch 64/100\n",
      "19/19 [==============================] - 8s 404ms/step - loss: 0.2884 - accuracy: 0.9117 - val_loss: 2.7436 - val_accuracy: 0.3933\n",
      "Epoch 65/100\n",
      "19/19 [==============================] - 8s 405ms/step - loss: 0.2898 - accuracy: 0.8942 - val_loss: 3.2335 - val_accuracy: 0.4367\n",
      "Epoch 66/100\n",
      "19/19 [==============================] - 8s 425ms/step - loss: 0.2552 - accuracy: 0.9125 - val_loss: 3.6692 - val_accuracy: 0.4067\n",
      "Epoch 67/100\n",
      "19/19 [==============================] - 8s 410ms/step - loss: 0.3613 - accuracy: 0.8742 - val_loss: 2.9649 - val_accuracy: 0.3733\n",
      "Epoch 68/100\n",
      "19/19 [==============================] - 8s 413ms/step - loss: 0.3546 - accuracy: 0.8817 - val_loss: 3.1822 - val_accuracy: 0.4233\n",
      "Epoch 69/100\n",
      "19/19 [==============================] - 8s 413ms/step - loss: 0.3152 - accuracy: 0.8925 - val_loss: 3.1651 - val_accuracy: 0.3900\n",
      "Epoch 70/100\n",
      "19/19 [==============================] - 8s 412ms/step - loss: 0.2500 - accuracy: 0.9242 - val_loss: 2.9438 - val_accuracy: 0.4133\n",
      "Epoch 71/100\n",
      "19/19 [==============================] - 8s 420ms/step - loss: 0.2636 - accuracy: 0.9042 - val_loss: 3.1178 - val_accuracy: 0.3800\n",
      "Epoch 72/100\n",
      "19/19 [==============================] - 9s 479ms/step - loss: 0.1487 - accuracy: 0.9525 - val_loss: 3.8713 - val_accuracy: 0.4100\n",
      "Epoch 73/100\n",
      "19/19 [==============================] - 35s 2s/step - loss: 0.1697 - accuracy: 0.9500 - val_loss: 3.5458 - val_accuracy: 0.4167\n",
      "Epoch 74/100\n",
      "19/19 [==============================] - 7s 400ms/step - loss: 0.1332 - accuracy: 0.9525 - val_loss: 3.3100 - val_accuracy: 0.4300\n",
      "Epoch 75/100\n",
      "19/19 [==============================] - 13s 709ms/step - loss: 0.1349 - accuracy: 0.9508 - val_loss: 4.0282 - val_accuracy: 0.4467\n",
      "Epoch 76/100\n",
      "19/19 [==============================] - 18s 987ms/step - loss: 0.1365 - accuracy: 0.9633 - val_loss: 3.6292 - val_accuracy: 0.4033\n",
      "Epoch 77/100\n",
      "19/19 [==============================] - 77s 4s/step - loss: 0.1217 - accuracy: 0.9625 - val_loss: 3.6785 - val_accuracy: 0.4133\n",
      "Epoch 78/100\n",
      "19/19 [==============================] - 8s 405ms/step - loss: 0.1343 - accuracy: 0.9508 - val_loss: 4.2529 - val_accuracy: 0.3900\n",
      "Epoch 79/100\n",
      "19/19 [==============================] - 171s 652ms/step - loss: 0.1998 - accuracy: 0.9392 - val_loss: 4.3218 - val_accuracy: 0.3733\n",
      "Epoch 80/100\n",
      "19/19 [==============================] - 8s 401ms/step - loss: 0.2977 - accuracy: 0.9000 - val_loss: 2.9490 - val_accuracy: 0.3800\n",
      "Epoch 81/100\n",
      "19/19 [==============================] - 997s 55s/step - loss: 0.1998 - accuracy: 0.9342 - val_loss: 3.0265 - val_accuracy: 0.4100\n",
      "Epoch 82/100\n",
      "19/19 [==============================] - 12s 407ms/step - loss: 0.1435 - accuracy: 0.9517 - val_loss: 3.5647 - val_accuracy: 0.4200\n",
      "Epoch 83/100\n",
      "19/19 [==============================] - 940s 52s/step - loss: 0.1987 - accuracy: 0.9417 - val_loss: 3.2416 - val_accuracy: 0.3933\n",
      "Epoch 84/100\n",
      "19/19 [==============================] - 12s 665ms/step - loss: 0.1055 - accuracy: 0.9742 - val_loss: 3.6633 - val_accuracy: 0.3633\n",
      "Epoch 85/100\n",
      "19/19 [==============================] - 8s 397ms/step - loss: 0.0870 - accuracy: 0.9750 - val_loss: 4.1791 - val_accuracy: 0.3867\n",
      "Epoch 86/100\n",
      "19/19 [==============================] - 928s 665ms/step - loss: 0.0734 - accuracy: 0.9750 - val_loss: 4.1992 - val_accuracy: 0.4400\n",
      "Epoch 87/100\n",
      "19/19 [==============================] - 924s 51s/step - loss: 0.0676 - accuracy: 0.9767 - val_loss: 4.4899 - val_accuracy: 0.3800\n",
      "Epoch 88/100\n",
      "19/19 [==============================] - 12s 659ms/step - loss: 0.0426 - accuracy: 0.9875 - val_loss: 4.7853 - val_accuracy: 0.3867\n",
      "Epoch 89/100\n",
      "19/19 [==============================] - 8s 399ms/step - loss: 0.0385 - accuracy: 0.9883 - val_loss: 4.9327 - val_accuracy: 0.3900\n",
      "Epoch 90/100\n",
      "19/19 [==============================] - 702s 39s/step - loss: 0.0774 - accuracy: 0.9767 - val_loss: 4.6753 - val_accuracy: 0.3900\n",
      "Epoch 91/100\n",
      "19/19 [==============================] - 660s 37s/step - loss: 0.1041 - accuracy: 0.9617 - val_loss: 4.5986 - val_accuracy: 0.3633\n",
      "Epoch 92/100\n",
      "19/19 [==============================] - 8s 403ms/step - loss: 0.8010 - accuracy: 0.7750 - val_loss: 2.3573 - val_accuracy: 0.3667\n",
      "Epoch 93/100\n",
      "19/19 [==============================] - 15s 811ms/step - loss: 0.3928 - accuracy: 0.8858 - val_loss: 2.8074 - val_accuracy: 0.4200\n",
      "Epoch 94/100\n",
      "19/19 [==============================] - 9s 451ms/step - loss: 0.1410 - accuracy: 0.9575 - val_loss: 3.5330 - val_accuracy: 0.4067\n",
      "Epoch 95/100\n",
      "19/19 [==============================] - 10s 545ms/step - loss: 0.0937 - accuracy: 0.9742 - val_loss: 4.0714 - val_accuracy: 0.4133\n",
      "Epoch 96/100\n",
      "19/19 [==============================] - 8s 441ms/step - loss: 0.0920 - accuracy: 0.9792 - val_loss: 4.1234 - val_accuracy: 0.3833\n",
      "Epoch 97/100\n",
      " 9/19 [=============>................] - ETA: 3s - loss: 0.0596 - accuracy: 0.9826"
     ]
    }
   ],
   "source": [
    "# 3번 반복내에 validation loss가 줄어들지 않으면 learning rate를 0.2 감소\n",
    "lr_cb = ReduceLROnPlateau(monitor='val_loss', factor=0.2, patience=3, mode='min', verbose=1)\n",
    "# 5번 반복내에 validation loss가 줄어들지 않으면 강제종료\n",
    "st_cb = EarlyStopping(monitor='val_loss', patience=5, mode='min', verbose=1)\n",
    "\n",
    "# result = model.fit(flow_tr_gen, epochs=100, validation_data=flow_test_gen, callbacks=[lr_cb, st_cb])\n",
    "history = model.fit(flow_tr_gen, epochs=100, validation_data=flow_test_gen)"
   ]
  },
  {
   "cell_type": "code",
   "execution_count": null,
   "id": "25f4c7c5",
   "metadata": {},
   "outputs": [],
   "source": [
    "# 출처\n",
    "# https://snowdeer.github.io/machine-learning/2018/01/10/check-relation-between-epoch-and-loss-using-graph/\n",
    "\n",
    "print('\\nAccuracy: {:.4f}'.format(model.evaluate(flow_test_gen)[1]))\n",
    "\n",
    "y_vloss = history.history['val_loss']\n",
    "y_loss = history.history['loss']\n",
    "\n",
    "x_len = np.arange(len(y_loss))\n",
    "plt.plot(x_len, y_vloss, marker='.', c='red', label=\"Validation-set Loss\")\n",
    "plt.plot(x_len, y_loss, marker='.', c='blue', label=\"Train-set Loss\")\n",
    "\n",
    "plt.legend(loc='upper right')\n",
    "plt.grid()\n",
    "plt.xlabel('epoch')\n",
    "plt.ylabel('loss')\n",
    "plt.show()"
   ]
  },
  {
   "cell_type": "code",
   "execution_count": null,
   "id": "8addb39e",
   "metadata": {},
   "outputs": [],
   "source": [
    "# 모델 테스트 데이터 예측값 출력\n",
    "y_pred = model.predict(flow_test_gen)\n",
    "y_pred"
   ]
  },
  {
   "cell_type": "code",
   "execution_count": null,
   "id": "bd854e10",
   "metadata": {},
   "outputs": [],
   "source": [
    "# 열 단위, 가장 높은 값을 반환\n",
    "\n",
    "# np.argmax(test_set_y, axis=1) # ground truth\n",
    "# np.argmax(y_pred, axis=1)     # predict"
   ]
  },
  {
   "cell_type": "code",
   "execution_count": null,
   "id": "21cd9a26",
   "metadata": {},
   "outputs": [],
   "source": [
    "from sklearn.metrics import accuracy_score\n",
    "\n",
    "accuracy_score(np.argmax(test_set_y, axis=1), np.argmax(y_pred, axis=1))"
   ]
  }
 ],
 "metadata": {
  "kernelspec": {
   "display_name": "Python 3",
   "language": "python",
   "name": "python3"
  },
  "language_info": {
   "codemirror_mode": {
    "name": "ipython",
    "version": 3
   },
   "file_extension": ".py",
   "mimetype": "text/x-python",
   "name": "python",
   "nbconvert_exporter": "python",
   "pygments_lexer": "ipython3",
   "version": "3.8.13"
  }
 },
 "nbformat": 4,
 "nbformat_minor": 5
}
