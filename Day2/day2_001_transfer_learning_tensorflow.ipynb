{
 "cells": [
  {
   "cell_type": "code",
   "execution_count": 1,
   "id": "50449234",
   "metadata": {},
   "outputs": [
    {
     "data": {
      "text/plain": [
       "'\\nCreated on 2022\\n\\n@author: S.W\\n'"
      ]
     },
     "execution_count": 1,
     "metadata": {},
     "output_type": "execute_result"
    }
   ],
   "source": [
    "# -*- coding: utf-8 -*-\n",
    "\"\"\"\n",
    "Created on 2022\n",
    "\n",
    "@author: S.W\n",
    "\"\"\""
   ]
  },
  {
   "cell_type": "markdown",
   "id": "bfa5c6e7",
   "metadata": {},
   "source": [
    "# 1. 학습에 필요한 라이브러리 import"
   ]
  },
  {
   "cell_type": "code",
   "execution_count": 2,
   "id": "ce648579",
   "metadata": {},
   "outputs": [],
   "source": [
    "import os\n",
    "import PIL\n",
    "import matplotlib\n",
    "import matplotlib.pyplot as plt\n",
    "import numpy as np\n",
    "\n",
    "import tensorflow as tf"
   ]
  },
  {
   "cell_type": "markdown",
   "id": "94380083",
   "metadata": {},
   "source": [
    "# 2. CIFAR10 데이터셋 불러오기"
   ]
  },
  {
   "cell_type": "code",
   "execution_count": 3,
   "id": "b0cfc0a8",
   "metadata": {},
   "outputs": [],
   "source": [
    "# https://www.cs.toronto.edu/~kriz/cifar.html\n",
    "# class : airplane, automobile, bird, cat, deer, dog, frog, horse, ship, truck\n",
    "\n",
    "from tensorflow.keras import datasets\n",
    "\n",
    "(train_images, train_labels), (test_images, test_labels) = datasets.cifar10.load_data()\n"
   ]
  },
  {
   "cell_type": "code",
   "execution_count": 4,
   "id": "1d4ea788",
   "metadata": {},
   "outputs": [
    {
     "data": {
      "text/plain": [
       "array([0., 0., 0., 0., 0., 0., 1., 0., 0., 0.], dtype=float32)"
      ]
     },
     "execution_count": 4,
     "metadata": {},
     "output_type": "execute_result"
    }
   ],
   "source": [
    "from keras.utils import np_utils\n",
    "\n",
    "# one-hot encoding\n",
    "train_labels = np_utils.to_categorical(train_labels, 10)\n",
    "test_labels = np_utils.to_categorical(test_labels, 10)\n",
    "\n",
    "train_labels[0]"
   ]
  },
  {
   "cell_type": "code",
   "execution_count": 5,
   "id": "7face541",
   "metadata": {},
   "outputs": [
    {
     "data": {
      "text/plain": [
       "((50000, 32, 32, 3), (50000, 10), (10000, 32, 32, 3), (10000, 10))"
      ]
     },
     "execution_count": 5,
     "metadata": {},
     "output_type": "execute_result"
    }
   ],
   "source": [
    "train_images.shape, train_labels.shape, test_images.shape, test_labels.shape"
   ]
  },
  {
   "cell_type": "code",
   "execution_count": 6,
   "id": "87de823f",
   "metadata": {},
   "outputs": [
    {
     "name": "stdout",
     "output_type": "stream",
     "text": [
      "(60000, 32, 32, 3)\n",
      "(60000, 10)\n"
     ]
    }
   ],
   "source": [
    "X = np.concatenate([train_images, test_images])\n",
    "y = np.concatenate([train_labels, test_labels])\n",
    "print(np.concatenate([train_images, test_images]).shape)\n",
    "print(np.concatenate([train_labels, test_labels]).shape)"
   ]
  },
  {
   "cell_type": "code",
   "execution_count": 7,
   "id": "cb84d46d",
   "metadata": {},
   "outputs": [],
   "source": [
    "import numpy as np\n",
    "from sklearn.model_selection import train_test_split\n",
    "\n",
    "train_set_X, test_set_X, train_set_y, test_set_y = train_test_split(X, y,\n",
    "                                                    test_size=0.02,\n",
    "                                                    train_size=0.1, random_state=42)"
   ]
  },
  {
   "cell_type": "code",
   "execution_count": 8,
   "id": "5c0de7ac",
   "metadata": {},
   "outputs": [
    {
     "data": {
      "text/plain": [
       "((6000, 32, 32, 3), (1200, 32, 32, 3), (6000, 10), (1200, 10))"
      ]
     },
     "execution_count": 8,
     "metadata": {},
     "output_type": "execute_result"
    }
   ],
   "source": [
    "train_set_X.shape, test_set_X.shape, train_set_y.shape, test_set_y.shape"
   ]
  },
  {
   "cell_type": "code",
   "execution_count": 9,
   "id": "255fc6c6",
   "metadata": {},
   "outputs": [
    {
     "data": {
      "text/plain": [
       "(array([627., 569., 599., 629., 567., 585., 570., 623., 635., 596.],\n",
       "       dtype=float32),\n",
       " array([109., 134., 118., 131., 116., 132., 112., 131.,  98., 119.],\n",
       "       dtype=float32))"
      ]
     },
     "execution_count": 9,
     "metadata": {},
     "output_type": "execute_result"
    }
   ],
   "source": [
    "np.sum(train_set_y, axis=0) , np.sum(test_set_y, axis=0)"
   ]
  },
  {
   "cell_type": "code",
   "execution_count": 10,
   "id": "a9e9832c",
   "metadata": {},
   "outputs": [
    {
     "name": "stdout",
     "output_type": "stream",
     "text": [
      "AxesImage(80,52.8;496x369.6)\n",
      "숫자:  [0. 0. 0. 0. 0. 0. 0. 0. 0. 1.]\n"
     ]
    },
    {
     "data": {
      "image/png": "[encoded data removed]",
      "text/plain": [
       "<Figure size 640x480 with 1 Axes>"
      ]
     },
     "metadata": {},
     "output_type": "display_data"
    }
   ],
   "source": [
    "n = 200\n",
    "print(plt.imshow(train_set_X[n]))\n",
    "print(\"숫자: \",train_set_y[n])"
   ]
  },
  {
   "cell_type": "markdown",
   "id": "457fc5c9",
   "metadata": {},
   "source": [
    "# 3.Pre-Trained Model 불러오기"
   ]
  },
  {
   "cell_type": "code",
   "execution_count": 11,
   "id": "71206e4d",
   "metadata": {},
   "outputs": [
    {
     "name": "stdout",
     "output_type": "stream",
     "text": [
      "Model: \"vgg16\"\n",
      "_________________________________________________________________\n",
      "Layer (type)                 Output Shape              Param #   \n",
      "=================================================================\n",
      "input_1 (InputLayer)         [(None, 32, 32, 3)]       0         \n",
      "_________________________________________________________________\n",
      "block1_conv1 (Conv2D)        (None, 32, 32, 64)        1792      \n",
      "_________________________________________________________________\n",
      "block1_conv2 (Conv2D)        (None, 32, 32, 64)        36928     \n",
      "_________________________________________________________________\n",
      "block1_pool (MaxPooling2D)   (None, 16, 16, 64)        0         \n",
      "_________________________________________________________________\n",
      "block2_conv1 (Conv2D)        (None, 16, 16, 128)       73856     \n",
      "_________________________________________________________________\n",
      "block2_conv2 (Conv2D)        (None, 16, 16, 128)       147584    \n",
      "_________________________________________________________________\n",
      "block2_pool (MaxPooling2D)   (None, 8, 8, 128)         0         \n",
      "_________________________________________________________________\n",
      "block3_conv1 (Conv2D)        (None, 8, 8, 256)         295168    \n",
      "_________________________________________________________________\n",
      "block3_conv2 (Conv2D)        (None, 8, 8, 256)         590080    \n",
      "_________________________________________________________________\n",
      "block3_conv3 (Conv2D)        (None, 8, 8, 256)         590080    \n",
      "_________________________________________________________________\n",
      "block3_pool (MaxPooling2D)   (None, 4, 4, 256)         0         \n",
      "_________________________________________________________________\n",
      "block4_conv1 (Conv2D)        (None, 4, 4, 512)         1180160   \n",
      "_________________________________________________________________\n",
      "block4_conv2 (Conv2D)        (None, 4, 4, 512)         2359808   \n",
      "_________________________________________________________________\n",
      "block4_conv3 (Conv2D)        (None, 4, 4, 512)         2359808   \n",
      "_________________________________________________________________\n",
      "block4_pool (MaxPooling2D)   (None, 2, 2, 512)         0         \n",
      "_________________________________________________________________\n",
      "block5_conv1 (Conv2D)        (None, 2, 2, 512)         2359808   \n",
      "_________________________________________________________________\n",
      "block5_conv2 (Conv2D)        (None, 2, 2, 512)         2359808   \n",
      "_________________________________________________________________\n",
      "block5_conv3 (Conv2D)        (None, 2, 2, 512)         2359808   \n",
      "_________________________________________________________________\n",
      "block5_pool (MaxPooling2D)   (None, 1, 1, 512)         0         \n",
      "=================================================================\n",
      "Total params: 14,714,688\n",
      "Trainable params: 14,714,688\n",
      "Non-trainable params: 0\n",
      "_________________________________________________________________\n"
     ]
    }
   ],
   "source": [
    "from tensorflow.keras.applications.vgg16 import VGG16, preprocess_input\n",
    "from tensorflow.keras.preprocessing import image\n",
    "from tensorflow.keras.applications.resnet50 import preprocess_input, ResNet50\n",
    "\n",
    "# model = VGG16(input_shape=(32, 32, 3), include_top=False, weights=None)\n",
    "model = VGG16(input_shape=(32, 32, 3), include_top=False, weights='imagenet')\n",
    "# include_top : FC layer를 포함할지 안할지\n",
    "# weight : None or \"imagenet\"\n",
    "# input_shape : input tensor shape control\n",
    "\n",
    "model.trainable =True # 모델의 가중치를 열어놓는 코드\n",
    "\n",
    "model.summary()"
   ]
  },
  {
   "cell_type": "code",
   "execution_count": 12,
   "id": "d4d02b50",
   "metadata": {},
   "outputs": [
    {
     "data": {
      "text/plain": [
       "<tensorflow.python.keras.layers.convolutional.Conv2D at 0x1f27707c340>"
      ]
     },
     "execution_count": 12,
     "metadata": {},
     "output_type": "execute_result"
    }
   ],
   "source": [
    "model.get_layer('block4_conv3')"
   ]
  },
  {
   "cell_type": "code",
   "execution_count": 13,
   "id": "754ac700",
   "metadata": {},
   "outputs": [
    {
     "name": "stdout",
     "output_type": "stream",
     "text": [
      "Model: \"model\"\n",
      "_________________________________________________________________\n",
      "Layer (type)                 Output Shape              Param #   \n",
      "=================================================================\n",
      "input_1 (InputLayer)         [(None, 32, 32, 3)]       0         \n",
      "_________________________________________________________________\n",
      "block1_conv1 (Conv2D)        (None, 32, 32, 64)        1792      \n",
      "_________________________________________________________________\n",
      "block1_conv2 (Conv2D)        (None, 32, 32, 64)        36928     \n",
      "_________________________________________________________________\n",
      "block1_pool (MaxPooling2D)   (None, 16, 16, 64)        0         \n",
      "_________________________________________________________________\n",
      "block2_conv1 (Conv2D)        (None, 16, 16, 128)       73856     \n",
      "_________________________________________________________________\n",
      "block2_conv2 (Conv2D)        (None, 16, 16, 128)       147584    \n",
      "_________________________________________________________________\n",
      "block2_pool (MaxPooling2D)   (None, 8, 8, 128)         0         \n",
      "_________________________________________________________________\n",
      "global_average_pooling2d (Gl (None, 128)               0         \n",
      "_________________________________________________________________\n",
      "dense (Dense)                (None, 500)               64500     \n",
      "_________________________________________________________________\n",
      "dropout (Dropout)            (None, 500)               0         \n",
      "_________________________________________________________________\n",
      "output (Dense)               (None, 10)                5010      \n",
      "=================================================================\n",
      "Total params: 329,670\n",
      "Trainable params: 329,670\n",
      "Non-trainable params: 0\n",
      "_________________________________________________________________\n"
     ]
    }
   ],
   "source": [
    "from tensorflow.keras.layers import GlobalAveragePooling2D, Dense, Flatten, Dropout\n",
    "from tensorflow.keras.models import Model\n",
    "\n",
    "output = model.get_layer('block2_pool').output # 모델의 가장 마지막 층 반환\n",
    "\n",
    "# VGG16 모델 위에 신경망 쌓기\n",
    "x = GlobalAveragePooling2D()(output)\n",
    "x = Dense(500, activation='relu')(x)\n",
    "x = Dropout(0.5)(x)\n",
    "output = Dense(10, activation='sigmoid', name='output')(x)\n",
    "    \n",
    "transfer_model = Model(inputs=model.input, outputs=output)\n",
    "transfer_model.summary()"
   ]
  },
  {
   "cell_type": "code",
   "execution_count": 14,
   "id": "0ba7426e",
   "metadata": {},
   "outputs": [],
   "source": [
    "# ImageDataGenerator를 통해 학습 데이터 Augmentation\n",
    "from tensorflow.keras.preprocessing.image import ImageDataGenerator\n",
    "# https://www.tensorflow.org/api_docs/python/tf/keras/preprocessing/image/ImageDataGenerator\n",
    "\n",
    "from tensorflow.keras.optimizers import Adam\n",
    "from tensorflow.keras.callbacks import ReduceLROnPlateau, EarlyStopping\n",
    "\n",
    "train_gen = ImageDataGenerator(\n",
    "#     horizontal_flip=True,\n",
    "    rescale=1/255.0\n",
    ")\n",
    "\n",
    "# 검증용 데이터 세트는 scale만 바꾸어주고 augmentation 적용하면 안됨\n",
    "test_gen = ImageDataGenerator(rescale=1/255.0)\n",
    "\n",
    "flow_tr_gen = train_gen.flow(train_set_X, train_set_y, batch_size=64, shuffle=True)\n",
    "flow_test_gen = test_gen.flow(test_set_X, test_set_y, batch_size=64, shuffle=False)"
   ]
  },
  {
   "cell_type": "markdown",
   "id": "71bb9ba1",
   "metadata": {},
   "source": [
    "# 4. 모델 학습"
   ]
  },
  {
   "cell_type": "code",
   "execution_count": 15,
   "id": "69d472fd",
   "metadata": {
    "scrolled": true
   },
   "outputs": [
    {
     "name": "stdout",
     "output_type": "stream",
     "text": [
      "Epoch 1/50\n",
      "94/94 [==============================] - 3s 12ms/step - loss: 2.4035 - accuracy: 0.1857 - val_loss: 1.9257 - val_accuracy: 0.2967\n",
      "Epoch 2/50\n",
      "94/94 [==============================] - 1s 8ms/step - loss: 1.8225 - accuracy: 0.3078 - val_loss: 1.7177 - val_accuracy: 0.3592\n",
      "Epoch 3/50\n",
      "94/94 [==============================] - 1s 8ms/step - loss: 1.6360 - accuracy: 0.4032 - val_loss: 1.4853 - val_accuracy: 0.4383\n",
      "Epoch 4/50\n",
      "94/94 [==============================] - 1s 8ms/step - loss: 1.5210 - accuracy: 0.4445 - val_loss: 1.4237 - val_accuracy: 0.4925\n",
      "Epoch 5/50\n",
      "94/94 [==============================] - 1s 8ms/step - loss: 1.3812 - accuracy: 0.4993 - val_loss: 1.2487 - val_accuracy: 0.5408\n",
      "Epoch 6/50\n",
      "94/94 [==============================] - 1s 8ms/step - loss: 1.2733 - accuracy: 0.5360 - val_loss: 1.3135 - val_accuracy: 0.5108\n",
      "Epoch 7/50\n",
      "94/94 [==============================] - 1s 8ms/step - loss: 1.2038 - accuracy: 0.5643 - val_loss: 1.2583 - val_accuracy: 0.5558\n",
      "Epoch 8/50\n",
      "94/94 [==============================] - 1s 9ms/step - loss: 1.1423 - accuracy: 0.5865 - val_loss: 1.1298 - val_accuracy: 0.5942\n",
      "Epoch 9/50\n",
      "94/94 [==============================] - 1s 8ms/step - loss: 1.0689 - accuracy: 0.6178 - val_loss: 1.1182 - val_accuracy: 0.5958\n",
      "Epoch 10/50\n",
      "94/94 [==============================] - 1s 8ms/step - loss: 1.0204 - accuracy: 0.6358 - val_loss: 1.0504 - val_accuracy: 0.6275\n",
      "Epoch 11/50\n",
      "94/94 [==============================] - 1s 8ms/step - loss: 0.9783 - accuracy: 0.6513 - val_loss: 1.1309 - val_accuracy: 0.5825\n",
      "Epoch 12/50\n",
      "94/94 [==============================] - 1s 8ms/step - loss: 0.9007 - accuracy: 0.6778 - val_loss: 1.0484 - val_accuracy: 0.6342\n",
      "Epoch 13/50\n",
      "94/94 [==============================] - 1s 8ms/step - loss: 0.8767 - accuracy: 0.6908 - val_loss: 1.0097 - val_accuracy: 0.6408\n",
      "Epoch 14/50\n",
      "94/94 [==============================] - 1s 8ms/step - loss: 0.8089 - accuracy: 0.7127 - val_loss: 1.0579 - val_accuracy: 0.6225\n",
      "Epoch 15/50\n",
      "94/94 [==============================] - 1s 9ms/step - loss: 0.7685 - accuracy: 0.7328 - val_loss: 1.0779 - val_accuracy: 0.6333\n",
      "Epoch 16/50\n",
      "94/94 [==============================] - 1s 9ms/step - loss: 0.7132 - accuracy: 0.7475 - val_loss: 0.9514 - val_accuracy: 0.6725\n",
      "Epoch 17/50\n",
      "94/94 [==============================] - 1s 8ms/step - loss: 0.6387 - accuracy: 0.7745 - val_loss: 1.0756 - val_accuracy: 0.6350\n",
      "Epoch 18/50\n",
      "94/94 [==============================] - 1s 8ms/step - loss: 0.6251 - accuracy: 0.7820 - val_loss: 1.0730 - val_accuracy: 0.6325\n",
      "Epoch 19/50\n",
      "94/94 [==============================] - 1s 8ms/step - loss: 0.5741 - accuracy: 0.7922 - val_loss: 1.0728 - val_accuracy: 0.6567\n",
      "Epoch 20/50\n",
      "94/94 [==============================] - 1s 8ms/step - loss: 0.5004 - accuracy: 0.8268 - val_loss: 0.9946 - val_accuracy: 0.6875\n",
      "Epoch 21/50\n",
      "94/94 [==============================] - 1s 8ms/step - loss: 0.4893 - accuracy: 0.8283 - val_loss: 1.1252 - val_accuracy: 0.6450\n",
      "Epoch 22/50\n",
      "94/94 [==============================] - 1s 8ms/step - loss: 0.4411 - accuracy: 0.8440 - val_loss: 1.0264 - val_accuracy: 0.6950\n",
      "Epoch 23/50\n",
      "94/94 [==============================] - 1s 8ms/step - loss: 0.3684 - accuracy: 0.8703 - val_loss: 1.0846 - val_accuracy: 0.6708\n",
      "Epoch 24/50\n",
      "94/94 [==============================] - 1s 8ms/step - loss: 0.3669 - accuracy: 0.8693 - val_loss: 1.1811 - val_accuracy: 0.6517\n",
      "Epoch 25/50\n",
      "94/94 [==============================] - 1s 8ms/step - loss: 0.3137 - accuracy: 0.8877 - val_loss: 1.1400 - val_accuracy: 0.6700\n",
      "Epoch 26/50\n",
      "94/94 [==============================] - 1s 8ms/step - loss: 0.2957 - accuracy: 0.8937 - val_loss: 1.1701 - val_accuracy: 0.6667\n",
      "Epoch 27/50\n",
      "94/94 [==============================] - 1s 8ms/step - loss: 0.2751 - accuracy: 0.9023 - val_loss: 1.1882 - val_accuracy: 0.6775\n",
      "Epoch 28/50\n",
      "94/94 [==============================] - 1s 9ms/step - loss: 0.1847 - accuracy: 0.9343 - val_loss: 1.2328 - val_accuracy: 0.6783\n",
      "Epoch 29/50\n",
      "94/94 [==============================] - 1s 9ms/step - loss: 0.1776 - accuracy: 0.9415 - val_loss: 1.3025 - val_accuracy: 0.6700\n",
      "Epoch 30/50\n",
      "94/94 [==============================] - 1s 8ms/step - loss: 0.1945 - accuracy: 0.9322 - val_loss: 1.2180 - val_accuracy: 0.6800\n",
      "Epoch 31/50\n",
      "94/94 [==============================] - 1s 8ms/step - loss: 0.1603 - accuracy: 0.9468 - val_loss: 1.4252 - val_accuracy: 0.6783\n",
      "Epoch 32/50\n",
      "94/94 [==============================] - 1s 8ms/step - loss: 0.1137 - accuracy: 0.9617 - val_loss: 1.4678 - val_accuracy: 0.6783\n",
      "Epoch 33/50\n",
      "94/94 [==============================] - 1s 8ms/step - loss: 0.1484 - accuracy: 0.9513 - val_loss: 1.3670 - val_accuracy: 0.6617\n",
      "Epoch 34/50\n",
      "94/94 [==============================] - 1s 8ms/step - loss: 0.1593 - accuracy: 0.9493 - val_loss: 1.4632 - val_accuracy: 0.6758\n",
      "Epoch 35/50\n",
      "94/94 [==============================] - 1s 8ms/step - loss: 0.1100 - accuracy: 0.9640 - val_loss: 1.5738 - val_accuracy: 0.6658\n",
      "Epoch 36/50\n",
      "94/94 [==============================] - 1s 8ms/step - loss: 0.0702 - accuracy: 0.9780 - val_loss: 1.5407 - val_accuracy: 0.6875\n",
      "Epoch 37/50\n",
      "94/94 [==============================] - 1s 9ms/step - loss: 0.0755 - accuracy: 0.9772 - val_loss: 1.6161 - val_accuracy: 0.6825\n",
      "Epoch 38/50\n",
      "94/94 [==============================] - 1s 8ms/step - loss: 0.0789 - accuracy: 0.9753 - val_loss: 1.5424 - val_accuracy: 0.6725\n",
      "Epoch 39/50\n",
      "94/94 [==============================] - 1s 8ms/step - loss: 0.0851 - accuracy: 0.9703 - val_loss: 1.5699 - val_accuracy: 0.6825\n",
      "Epoch 40/50\n",
      "94/94 [==============================] - 1s 8ms/step - loss: 0.0581 - accuracy: 0.9822 - val_loss: 1.6214 - val_accuracy: 0.6817\n",
      "Epoch 41/50\n",
      "94/94 [==============================] - 1s 8ms/step - loss: 0.0608 - accuracy: 0.9788 - val_loss: 1.6852 - val_accuracy: 0.6775\n",
      "Epoch 42/50\n",
      "94/94 [==============================] - 1s 8ms/step - loss: 0.0612 - accuracy: 0.9807 - val_loss: 1.7931 - val_accuracy: 0.6842\n",
      "Epoch 43/50\n",
      "94/94 [==============================] - 1s 8ms/step - loss: 0.0721 - accuracy: 0.9745 - val_loss: 1.6001 - val_accuracy: 0.6758\n",
      "Epoch 44/50\n",
      "94/94 [==============================] - 1s 8ms/step - loss: 0.0594 - accuracy: 0.9820 - val_loss: 1.7625 - val_accuracy: 0.6667\n",
      "Epoch 45/50\n",
      "94/94 [==============================] - 1s 8ms/step - loss: 0.0643 - accuracy: 0.9777 - val_loss: 1.8211 - val_accuracy: 0.6808\n",
      "Epoch 46/50\n",
      "94/94 [==============================] - 1s 8ms/step - loss: 0.0636 - accuracy: 0.9812 - val_loss: 1.7460 - val_accuracy: 0.6733\n",
      "Epoch 47/50\n",
      "94/94 [==============================] - 1s 8ms/step - loss: 0.0490 - accuracy: 0.9828 - val_loss: 1.8814 - val_accuracy: 0.6750\n",
      "Epoch 48/50\n",
      "94/94 [==============================] - 1s 8ms/step - loss: 0.0952 - accuracy: 0.9682 - val_loss: 1.7163 - val_accuracy: 0.6800\n",
      "Epoch 49/50\n",
      "94/94 [==============================] - 1s 8ms/step - loss: 0.0936 - accuracy: 0.9697 - val_loss: 1.8233 - val_accuracy: 0.6508\n",
      "Epoch 50/50\n",
      "94/94 [==============================] - 1s 8ms/step - loss: 0.0800 - accuracy: 0.9718 - val_loss: 1.7308 - val_accuracy: 0.6658\n"
     ]
    }
   ],
   "source": [
    "transfer_model.compile(optimizer=Adam(), loss='categorical_crossentropy', metrics=['accuracy'])\n",
    "\n",
    "history = transfer_model.fit(flow_tr_gen, epochs=50, validation_data=flow_test_gen)"
   ]
  },
  {
   "cell_type": "code",
   "execution_count": 16,
   "id": "e273a3bb",
   "metadata": {},
   "outputs": [
    {
     "name": "stdout",
     "output_type": "stream",
     "text": [
      "19/19 [==============================] - 0s 3ms/step - loss: 1.7308 - accuracy: 0.6658\n",
      "\n",
      "Accuracy: 0.6658\n"
     ]
    },
    {
     "data": {
      "image/png": "[encoded data removed]",
      "text/plain": [
       "<Figure size 640x480 with 1 Axes>"
      ]
     },
     "metadata": {},
     "output_type": "display_data"
    }
   ],
   "source": [
    "# 출처\n",
    "# https://snowdeer.github.io/machine-learning/2018/01/10/check-relation-between-epoch-and-loss-using-graph/\n",
    "\n",
    "print('\\nAccuracy: {:.4f}'.format(transfer_model.evaluate(flow_test_gen)[1]))\n",
    "\n",
    "y_vloss = history.history['val_loss']\n",
    "y_loss = history.history['loss']\n",
    "\n",
    "y_vacc = history.history['val_accuracy']\n",
    "y_acc = history.history['accuracy']\n",
    "\n",
    "x_len = np.arange(len(y_loss))\n",
    "plt.plot(x_len, y_vloss, marker='.', c='red', label=\"Validation-set Loss\")\n",
    "plt.plot(x_len, y_loss, marker='.', c='blue', label=\"Train-set Loss\")\n",
    "\n",
    "x_len = np.arange(len(y_acc))\n",
    "plt.plot(x_len, y_vacc, marker='.', c='green', label=\"Validation-set Accuracy\")\n",
    "plt.plot(x_len, y_acc, marker='.', c='yellow', label=\"Train-set Accuracy\")\n",
    "\n",
    "plt.legend(loc='upper right')\n",
    "plt.grid()\n",
    "plt.xlabel('epoch')\n",
    "plt.ylabel('loss')\n",
    "plt.show()\n",
    "\n",
    "# plt.legend(loc='upper left')\n",
    "# plt.grid()\n",
    "# plt.xlabel('epoch')\n",
    "# plt.ylabel('Accuracy')\n",
    "# plt.show()"
   ]
  },
  {
   "cell_type": "code",
   "execution_count": 17,
   "id": "cf16334b",
   "metadata": {},
   "outputs": [
    {
     "data": {
      "text/plain": [
       "array([[9.9957067e-01, 9.9965811e-01, 8.0781312e-08, ..., 6.8972246e-09,\n",
       "        9.9940622e-01, 9.9994159e-01],\n",
       "       [6.0472368e-05, 9.9770290e-01, 1.1234814e-07, ..., 3.9153907e-05,\n",
       "        9.9986625e-01, 9.9999344e-01],\n",
       "       [7.3166839e-06, 7.7029364e-07, 7.8967530e-01, ..., 2.3737010e-04,\n",
       "        7.1551773e-04, 1.4468581e-04],\n",
       "       ...,\n",
       "       [1.4680351e-02, 7.6720822e-01, 2.8437213e-07, ..., 1.5462765e-08,\n",
       "        9.9999976e-01, 9.9942732e-01],\n",
       "       [1.1034013e-03, 1.1942617e-05, 9.9998558e-01, ..., 9.9897802e-01,\n",
       "        7.9225060e-08, 1.2986818e-09],\n",
       "       [9.9774522e-01, 7.9906978e-02, 1.0247714e-01, ..., 1.5554841e-05,\n",
       "        8.7232268e-01, 7.4980268e-03]], dtype=float32)"
      ]
     },
     "execution_count": 17,
     "metadata": {},
     "output_type": "execute_result"
    }
   ],
   "source": [
    "# 모델 테스트 데이터 예측값 출력\n",
    "y_pred = transfer_model.predict(flow_test_gen)\n",
    "y_pred"
   ]
  },
  {
   "cell_type": "code",
   "execution_count": 18,
   "id": "7f776fcb",
   "metadata": {},
   "outputs": [
    {
     "data": {
      "text/plain": [
       "array([9, 9, 4, ..., 8, 2, 0], dtype=int64)"
      ]
     },
     "execution_count": 18,
     "metadata": {},
     "output_type": "execute_result"
    }
   ],
   "source": [
    "# 열 단위, 가장 높은 값을 반환\n",
    "\n",
    "np.argmax(test_set_y, axis=1) # ground truth\n",
    "np.argmax(y_pred, axis=1)     # predict"
   ]
  },
  {
   "cell_type": "markdown",
   "id": "ed4e5cd3",
   "metadata": {},
   "source": [
    "# 5. 모델 평가"
   ]
  },
  {
   "cell_type": "code",
   "execution_count": 19,
   "id": "389e2f0a",
   "metadata": {},
   "outputs": [
    {
     "data": {
      "text/plain": [
       "0.6633333333333333"
      ]
     },
     "execution_count": 19,
     "metadata": {},
     "output_type": "execute_result"
    }
   ],
   "source": [
    "from sklearn.metrics import accuracy_score\n",
    "\n",
    "accuracy_score(np.argmax(test_set_y, axis=1), np.argmax(y_pred, axis=1))"
   ]
  },
  {
   "cell_type": "markdown",
   "id": "8b5461c9",
   "metadata": {},
   "source": [
    "# 6. Data Augmentation을 통한 성능 개선"
   ]
  },
  {
   "cell_type": "code",
   "execution_count": 20,
   "id": "242e9ab1",
   "metadata": {},
   "outputs": [],
   "source": [
    "train_gen = ImageDataGenerator(\n",
    "    horizontal_flip = True,\n",
    "    zoom_range = 0.2,\n",
    "    fill_mode='nearest',\n",
    "    rescale=1/255.0\n",
    ")\n",
    "\n",
    "# 검증용 데이터 세트는 scale만 바꾸어주고 augmentation 적용하면 안됨\n",
    "test_gen = ImageDataGenerator(rescale=1/255.0)\n",
    "\n",
    "flow_tr_gen = train_gen.flow(train_set_X, train_set_y, batch_size=64, shuffle=True)\n",
    "flow_test_gen = test_gen.flow(test_set_X, test_set_y, batch_size=64, shuffle=False)"
   ]
  },
  {
   "cell_type": "code",
   "execution_count": 21,
   "id": "369ae35c",
   "metadata": {},
   "outputs": [
    {
     "name": "stdout",
     "output_type": "stream",
     "text": [
      "Model: \"model_1\"\n",
      "_________________________________________________________________\n",
      "Layer (type)                 Output Shape              Param #   \n",
      "=================================================================\n",
      "input_2 (InputLayer)         [(None, 32, 32, 3)]       0         \n",
      "_________________________________________________________________\n",
      "block1_conv1 (Conv2D)        (None, 32, 32, 64)        1792      \n",
      "_________________________________________________________________\n",
      "block1_conv2 (Conv2D)        (None, 32, 32, 64)        36928     \n",
      "_________________________________________________________________\n",
      "block1_pool (MaxPooling2D)   (None, 16, 16, 64)        0         \n",
      "_________________________________________________________________\n",
      "block2_conv1 (Conv2D)        (None, 16, 16, 128)       73856     \n",
      "_________________________________________________________________\n",
      "block2_conv2 (Conv2D)        (None, 16, 16, 128)       147584    \n",
      "_________________________________________________________________\n",
      "block2_pool (MaxPooling2D)   (None, 8, 8, 128)         0         \n",
      "_________________________________________________________________\n",
      "global_average_pooling2d_1 ( (None, 128)               0         \n",
      "_________________________________________________________________\n",
      "dense_1 (Dense)              (None, 500)               64500     \n",
      "_________________________________________________________________\n",
      "dropout_1 (Dropout)          (None, 500)               0         \n",
      "_________________________________________________________________\n",
      "output (Dense)               (None, 10)                5010      \n",
      "=================================================================\n",
      "Total params: 329,670\n",
      "Trainable params: 329,670\n",
      "Non-trainable params: 0\n",
      "_________________________________________________________________\n"
     ]
    }
   ],
   "source": [
    "# model = VGG16(input_shape=(32, 32, 3), include_top=False, weights=None)\n",
    "model = VGG16(input_shape=(32, 32, 3), include_top=False, weights='imagenet')\n",
    "# include_top : FC layer를 포함할지 안할지\n",
    "# weight : None or \"imagenet\"\n",
    "# input_shape : input tensor shape control\n",
    "\n",
    "model.trainable =True # 모델의 가중치를 열어놓는 코드\n",
    "\n",
    "output = model.get_layer('block2_pool').output # 모델의 가장 마지막 층 반환\n",
    "\n",
    "# VGG16 모델 위에 신경망 쌓기\n",
    "x = GlobalAveragePooling2D()(output)\n",
    "x = Dense(500, activation='relu')(x)\n",
    "x = Dropout(0.5)(x)\n",
    "output = Dense(10, activation='sigmoid', name='output')(x)\n",
    "    \n",
    "transfer_model = Model(inputs=model.input, outputs=output)\n",
    "\n",
    "transfer_model.summary()"
   ]
  },
  {
   "cell_type": "code",
   "execution_count": 22,
   "id": "37fe48f2",
   "metadata": {
    "scrolled": true
   },
   "outputs": [
    {
     "name": "stdout",
     "output_type": "stream",
     "text": [
      "Epoch 1/50\n",
      "94/94 [==============================] - 1s 11ms/step - loss: 2.4805 - accuracy: 0.1723 - val_loss: 1.9048 - val_accuracy: 0.2458\n",
      "Epoch 2/50\n",
      "94/94 [==============================] - 1s 10ms/step - loss: 1.9138 - accuracy: 0.2672 - val_loss: 1.6939 - val_accuracy: 0.3758\n",
      "Epoch 3/50\n",
      "94/94 [==============================] - 1s 10ms/step - loss: 1.7214 - accuracy: 0.3565 - val_loss: 1.5658 - val_accuracy: 0.4317\n",
      "Epoch 4/50\n",
      "94/94 [==============================] - 1s 10ms/step - loss: 1.5992 - accuracy: 0.4057 - val_loss: 1.4624 - val_accuracy: 0.4783\n",
      "Epoch 5/50\n",
      "94/94 [==============================] - 1s 10ms/step - loss: 1.4885 - accuracy: 0.4565 - val_loss: 1.3610 - val_accuracy: 0.4767\n",
      "Epoch 6/50\n",
      "94/94 [==============================] - 1s 10ms/step - loss: 1.4122 - accuracy: 0.4893 - val_loss: 1.2776 - val_accuracy: 0.5425\n",
      "Epoch 7/50\n",
      "94/94 [==============================] - 1s 11ms/step - loss: 1.3374 - accuracy: 0.5200 - val_loss: 1.2310 - val_accuracy: 0.5508\n",
      "Epoch 8/50\n",
      "94/94 [==============================] - 1s 10ms/step - loss: 1.2574 - accuracy: 0.5455 - val_loss: 1.1482 - val_accuracy: 0.5900\n",
      "Epoch 9/50\n",
      "94/94 [==============================] - 1s 10ms/step - loss: 1.2130 - accuracy: 0.5710 - val_loss: 1.1964 - val_accuracy: 0.5733\n",
      "Epoch 10/50\n",
      "94/94 [==============================] - 1s 10ms/step - loss: 1.1834 - accuracy: 0.5728 - val_loss: 1.1043 - val_accuracy: 0.5933\n",
      "Epoch 11/50\n",
      "94/94 [==============================] - 1s 10ms/step - loss: 1.1420 - accuracy: 0.5948 - val_loss: 1.1490 - val_accuracy: 0.6008\n",
      "Epoch 12/50\n",
      "94/94 [==============================] - 1s 10ms/step - loss: 1.0852 - accuracy: 0.6105 - val_loss: 1.1467 - val_accuracy: 0.5883\n",
      "Epoch 13/50\n",
      "94/94 [==============================] - 1s 10ms/step - loss: 1.0815 - accuracy: 0.6140 - val_loss: 1.1619 - val_accuracy: 0.5967\n",
      "Epoch 14/50\n",
      "94/94 [==============================] - 1s 10ms/step - loss: 1.0456 - accuracy: 0.6292 - val_loss: 0.9969 - val_accuracy: 0.6492\n",
      "Epoch 15/50\n",
      "94/94 [==============================] - 1s 10ms/step - loss: 0.9979 - accuracy: 0.6430 - val_loss: 0.9795 - val_accuracy: 0.6425\n",
      "Epoch 16/50\n",
      "94/94 [==============================] - 1s 10ms/step - loss: 0.9684 - accuracy: 0.6590 - val_loss: 0.9556 - val_accuracy: 0.6658\n",
      "Epoch 17/50\n",
      "94/94 [==============================] - 1s 10ms/step - loss: 0.9492 - accuracy: 0.6622 - val_loss: 0.9319 - val_accuracy: 0.6700\n",
      "Epoch 18/50\n",
      "94/94 [==============================] - 1s 10ms/step - loss: 0.8965 - accuracy: 0.6797 - val_loss: 1.0728 - val_accuracy: 0.6383\n",
      "Epoch 19/50\n",
      "94/94 [==============================] - 1s 10ms/step - loss: 0.8831 - accuracy: 0.6925 - val_loss: 0.9438 - val_accuracy: 0.6592\n",
      "Epoch 20/50\n",
      "94/94 [==============================] - 1s 10ms/step - loss: 0.8737 - accuracy: 0.6892 - val_loss: 0.9483 - val_accuracy: 0.6633\n",
      "Epoch 21/50\n",
      "94/94 [==============================] - 1s 10ms/step - loss: 0.8390 - accuracy: 0.7047 - val_loss: 0.9514 - val_accuracy: 0.6675\n",
      "Epoch 22/50\n",
      "94/94 [==============================] - 1s 11ms/step - loss: 0.8294 - accuracy: 0.7103 - val_loss: 1.0641 - val_accuracy: 0.6300\n",
      "Epoch 23/50\n",
      "94/94 [==============================] - 1s 10ms/step - loss: 0.7943 - accuracy: 0.7245 - val_loss: 0.9064 - val_accuracy: 0.6767\n",
      "Epoch 24/50\n",
      "94/94 [==============================] - 1s 10ms/step - loss: 0.7766 - accuracy: 0.7242 - val_loss: 0.8976 - val_accuracy: 0.6750\n",
      "Epoch 25/50\n",
      "94/94 [==============================] - 1s 11ms/step - loss: 0.7553 - accuracy: 0.7322 - val_loss: 0.9295 - val_accuracy: 0.6850\n",
      "Epoch 26/50\n",
      "94/94 [==============================] - 1s 10ms/step - loss: 0.7272 - accuracy: 0.7502 - val_loss: 0.9115 - val_accuracy: 0.6850\n",
      "Epoch 27/50\n",
      "94/94 [==============================] - 1s 10ms/step - loss: 0.6968 - accuracy: 0.7535 - val_loss: 0.9322 - val_accuracy: 0.6800\n",
      "Epoch 28/50\n",
      "94/94 [==============================] - 1s 10ms/step - loss: 0.6883 - accuracy: 0.7583 - val_loss: 0.9264 - val_accuracy: 0.6867\n",
      "Epoch 29/50\n",
      "94/94 [==============================] - 1s 10ms/step - loss: 0.6839 - accuracy: 0.7547 - val_loss: 0.8360 - val_accuracy: 0.7117\n",
      "Epoch 30/50\n",
      "94/94 [==============================] - 1s 10ms/step - loss: 0.6587 - accuracy: 0.7700 - val_loss: 0.8580 - val_accuracy: 0.6967\n",
      "Epoch 31/50\n",
      "94/94 [==============================] - 1s 10ms/step - loss: 0.6319 - accuracy: 0.7705 - val_loss: 0.9377 - val_accuracy: 0.6967\n",
      "Epoch 32/50\n",
      "94/94 [==============================] - 1s 10ms/step - loss: 0.6018 - accuracy: 0.7880 - val_loss: 0.8698 - val_accuracy: 0.6992\n",
      "Epoch 33/50\n",
      "94/94 [==============================] - 1s 10ms/step - loss: 0.5921 - accuracy: 0.7945 - val_loss: 0.9775 - val_accuracy: 0.6842\n",
      "Epoch 34/50\n",
      "94/94 [==============================] - 1s 10ms/step - loss: 0.5797 - accuracy: 0.7953 - val_loss: 0.9057 - val_accuracy: 0.7000\n",
      "Epoch 35/50\n",
      "94/94 [==============================] - 1s 10ms/step - loss: 0.5590 - accuracy: 0.7997 - val_loss: 0.9480 - val_accuracy: 0.6975\n",
      "Epoch 36/50\n",
      "94/94 [==============================] - 1s 10ms/step - loss: 0.5480 - accuracy: 0.8085 - val_loss: 0.9195 - val_accuracy: 0.6933\n",
      "Epoch 37/50\n",
      "94/94 [==============================] - 1s 10ms/step - loss: 0.5303 - accuracy: 0.8123 - val_loss: 0.9859 - val_accuracy: 0.6808\n",
      "Epoch 38/50\n",
      "94/94 [==============================] - 1s 10ms/step - loss: 0.5313 - accuracy: 0.8150 - val_loss: 0.9204 - val_accuracy: 0.6925\n",
      "Epoch 39/50\n",
      "94/94 [==============================] - 1s 10ms/step - loss: 0.4882 - accuracy: 0.8323 - val_loss: 0.8488 - val_accuracy: 0.7317\n",
      "Epoch 40/50\n",
      "94/94 [==============================] - 1s 10ms/step - loss: 0.4852 - accuracy: 0.8310 - val_loss: 0.8450 - val_accuracy: 0.7217\n",
      "Epoch 41/50\n",
      "94/94 [==============================] - 1s 10ms/step - loss: 0.4703 - accuracy: 0.8380 - val_loss: 0.9330 - val_accuracy: 0.7017\n",
      "Epoch 42/50\n",
      "94/94 [==============================] - 1s 10ms/step - loss: 0.4665 - accuracy: 0.8325 - val_loss: 0.8885 - val_accuracy: 0.7142\n",
      "Epoch 43/50\n",
      "94/94 [==============================] - 1s 10ms/step - loss: 0.4626 - accuracy: 0.8315 - val_loss: 0.9003 - val_accuracy: 0.7025\n",
      "Epoch 44/50\n",
      "94/94 [==============================] - 1s 10ms/step - loss: 0.4349 - accuracy: 0.8495 - val_loss: 0.9273 - val_accuracy: 0.7142\n",
      "Epoch 45/50\n",
      "94/94 [==============================] - 1s 10ms/step - loss: 0.4354 - accuracy: 0.8488 - val_loss: 1.0073 - val_accuracy: 0.6983\n",
      "Epoch 46/50\n",
      "94/94 [==============================] - 1s 10ms/step - loss: 0.3979 - accuracy: 0.8635 - val_loss: 0.9063 - val_accuracy: 0.7208\n",
      "Epoch 47/50\n",
      "94/94 [==============================] - 1s 10ms/step - loss: 0.4063 - accuracy: 0.8517 - val_loss: 0.9703 - val_accuracy: 0.7167\n",
      "Epoch 48/50\n",
      "94/94 [==============================] - 1s 10ms/step - loss: 0.3944 - accuracy: 0.8625 - val_loss: 1.0195 - val_accuracy: 0.6950\n",
      "Epoch 49/50\n",
      "94/94 [==============================] - 1s 10ms/step - loss: 0.3826 - accuracy: 0.8663 - val_loss: 0.9238 - val_accuracy: 0.7308\n",
      "Epoch 50/50\n",
      "94/94 [==============================] - 1s 10ms/step - loss: 0.3494 - accuracy: 0.8758 - val_loss: 0.9341 - val_accuracy: 0.7067\n"
     ]
    }
   ],
   "source": [
    "transfer_model.compile(optimizer=Adam(), loss='categorical_crossentropy', metrics=['accuracy'])\n",
    "\n",
    "history = transfer_model.fit(flow_tr_gen, epochs=50, validation_data=flow_test_gen)"
   ]
  },
  {
   "cell_type": "code",
   "execution_count": 23,
   "id": "25f4c7c5",
   "metadata": {},
   "outputs": [
    {
     "name": "stdout",
     "output_type": "stream",
     "text": [
      "19/19 [==============================] - 0s 3ms/step - loss: 0.9341 - accuracy: 0.7067\n",
      "\n",
      "Accuracy: 0.7067\n"
     ]
    },
    {
     "data": {
      "image/png": "[encoded data removed]",
      "text/plain": [
       "<Figure size 640x480 with 1 Axes>"
      ]
     },
     "metadata": {},
     "output_type": "display_data"
    }
   ],
   "source": [
    "# 출처\n",
    "# https://snowdeer.github.io/machine-learning/2018/01/10/check-relation-between-epoch-and-loss-using-graph/\n",
    "\n",
    "print('\\nAccuracy: {:.4f}'.format(transfer_model.evaluate(flow_test_gen)[1]))\n",
    "\n",
    "y_vloss = history.history['val_loss']\n",
    "y_loss = history.history['loss']\n",
    "\n",
    "x_len = np.arange(len(y_loss))\n",
    "plt.plot(x_len, y_vloss, marker='.', c='red', label=\"Validation-set Loss\")\n",
    "plt.plot(x_len, y_loss, marker='.', c='blue', label=\"Train-set Loss\")\n",
    "\n",
    "plt.legend(loc='upper right')\n",
    "plt.grid()\n",
    "plt.xlabel('epoch')\n",
    "plt.ylabel('loss')\n",
    "plt.show()"
   ]
  },
  {
   "cell_type": "code",
   "execution_count": 24,
   "id": "8addb39e",
   "metadata": {},
   "outputs": [
    {
     "data": {
      "text/plain": [
       "array([[9.9744594e-01, 9.9999821e-01, 1.1469305e-04, ..., 6.7334645e-07,\n",
       "        1.9013345e-01, 9.9917740e-01],\n",
       "       [8.0025661e-01, 9.8456532e-01, 2.2420357e-04, ..., 1.1962472e-02,\n",
       "        9.6223897e-01, 9.9598002e-01],\n",
       "       [9.3516707e-04, 2.3395530e-04, 7.5164235e-01, ..., 6.3466090e-03,\n",
       "        5.7349092e-04, 8.9920475e-05],\n",
       "       ...,\n",
       "       [7.0514792e-01, 9.9739045e-01, 1.4131131e-05, ..., 2.3495890e-07,\n",
       "        9.9917066e-01, 8.1481481e-01],\n",
       "       [7.9413265e-01, 1.0956874e-05, 9.9949551e-01, ..., 9.9766481e-01,\n",
       "        3.8414535e-07, 5.1676432e-07],\n",
       "       [9.9942040e-01, 5.9373909e-01, 1.6611102e-01, ..., 2.3334825e-03,\n",
       "        2.9610714e-01, 6.8201390e-03]], dtype=float32)"
      ]
     },
     "execution_count": 24,
     "metadata": {},
     "output_type": "execute_result"
    }
   ],
   "source": [
    "# 모델 테스트 데이터 예측값 출력\n",
    "y_pred = transfer_model.predict(flow_test_gen)\n",
    "y_pred"
   ]
  },
  {
   "cell_type": "code",
   "execution_count": 25,
   "id": "bd854e10",
   "metadata": {},
   "outputs": [],
   "source": [
    "# 열 단위, 가장 높은 값을 반환\n",
    "\n",
    "# np.argmax(test_set_y, axis=1) # ground truth\n",
    "# np.argmax(y_pred, axis=1)     # predict"
   ]
  },
  {
   "cell_type": "code",
   "execution_count": 26,
   "id": "21cd9a26",
   "metadata": {},
   "outputs": [
    {
     "data": {
      "text/plain": [
       "0.7066666666666667"
      ]
     },
     "execution_count": 26,
     "metadata": {},
     "output_type": "execute_result"
    }
   ],
   "source": [
    "from sklearn.metrics import accuracy_score\n",
    "\n",
    "accuracy_score(np.argmax(test_set_y, axis=1), np.argmax(y_pred, axis=1))"
   ]
  }
 ],
 "metadata": {
  "kernelspec": {
   "display_name": "Python 3 (ipykernel)",
   "language": "python",
   "name": "python3"
  },
  "language_info": {
   "codemirror_mode": {
    "name": "ipython",
    "version": 3
   },
   "file_extension": ".py",
   "mimetype": "text/x-python",
   "name": "python",
   "nbconvert_exporter": "python",
   "pygments_lexer": "ipython3",
   "version": "3.9.16"
  }
 },
 "nbformat": 4,
 "nbformat_minor": 5
}
