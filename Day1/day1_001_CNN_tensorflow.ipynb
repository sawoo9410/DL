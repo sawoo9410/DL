{
 "cells": [
  {
   "cell_type": "markdown",
   "id": "7a810f38",
   "metadata": {},
   "source": [
    "### Created on 2023\n",
    "### @author: S.W"
   ]
  },
  {
   "cell_type": "markdown",
   "id": "5cf65e5f",
   "metadata": {},
   "source": [
    "# 1. 학습에 필요한 라이브러리 불러오기"
   ]
  },
  {
   "cell_type": "code",
   "execution_count": 3,
   "id": "2b70f8cf",
   "metadata": {},
   "outputs": [],
   "source": [
    "import PIL\n",
    "import matplotlib \n",
    "import matplotlib.pyplot as plt\n",
    "import numpy as np\n",
    "\n",
    "import tensorflow as tf\n",
    "\n",
    "from tensorflow.keras import datasets, layers, models\n",
    "\n",
    "from keras.utils import np_utils"
   ]
  },
  {
   "cell_type": "markdown",
   "id": "ac632f69",
   "metadata": {},
   "source": [
    "# 2.  MNIST 데이터 불러오기"
   ]
  },
  {
   "cell_type": "markdown",
   "id": "55377199",
   "metadata": {},
   "source": [
    "### tensorflow에서 가져올 수 있는 데이터셋 목록\n",
    "https://www.tensorflow.org/datasets/catalog/overview"
   ]
  },
  {
   "cell_type": "code",
   "execution_count": 2,
   "id": "61f446c4",
   "metadata": {},
   "outputs": [
    {
     "data": {
      "text/plain": [
       "((60000, 28, 28), (60000,))"
      ]
     },
     "execution_count": 2,
     "metadata": {},
     "output_type": "execute_result"
    }
   ],
   "source": [
    "# tensorflow에 내장되어 있는 mninst dataset 불러오기\n",
    "(train_images, train_labels), (test_images, test_labels) = datasets.mnist.load_data()\n",
    "\n",
    "train_images.shape, train_labels.shape"
   ]
  },
  {
   "cell_type": "code",
   "execution_count": 3,
   "id": "1a4198d4",
   "metadata": {},
   "outputs": [
    {
     "data": {
      "text/plain": [
       "(28, 28)"
      ]
     },
     "execution_count": 3,
     "metadata": {},
     "output_type": "execute_result"
    }
   ],
   "source": [
    "train_images[0].shape"
   ]
  },
  {
   "cell_type": "code",
   "execution_count": 4,
   "id": "31ada993",
   "metadata": {},
   "outputs": [],
   "source": [
    "im = PIL.Image.fromarray(train_images[0])\n",
    "im.show()"
   ]
  },
  {
   "cell_type": "code",
   "execution_count": 5,
   "id": "231f26b7",
   "metadata": {},
   "outputs": [
    {
     "name": "stdout",
     "output_type": "stream",
     "text": [
      "AxesImage(80,52.8;496x369.6)\n",
      "숫자:  7\n"
     ]
    },
    {
     "data": {
      "image/png": "[encoded data removed]",
      "text/plain": [
       "<Figure size 640x480 with 1 Axes>"
      ]
     },
     "metadata": {},
     "output_type": "display_data"
    }
   ],
   "source": [
    "n = 0\n",
    "print(plt.imshow(test_images[n]))\n",
    "print(\"숫자: \",test_labels[n])"
   ]
  },
  {
   "cell_type": "markdown",
   "id": "f7ff8d24",
   "metadata": {},
   "source": [
    "# 3. 데이터 전처리"
   ]
  },
  {
   "cell_type": "code",
   "execution_count": 6,
   "id": "d975982f",
   "metadata": {},
   "outputs": [],
   "source": [
    "# CNN 학습을 위해 데이터 구조 변경\n",
    "# CNN의 일반적인 데이터 input 구조 - (데이터 수, 높이, 너비, 채널)\n",
    "train_images = train_images.reshape((60000, 28, 28, 1))\n",
    "test_images = test_images.reshape((10000, 28, 28, 1))\n",
    "\n",
    "# 픽셀 값을 0~1 사이로 정규화합니다.\n",
    "train_images, test_images = train_images / 255.0, test_images / 255.0"
   ]
  },
  {
   "cell_type": "markdown",
   "id": "181b195d",
   "metadata": {},
   "source": [
    "# 4. CNN 모델 구성"
   ]
  },
  {
   "cell_type": "markdown",
   "id": "bd355b2c",
   "metadata": {},
   "source": [
    "CNN의 일반적인 데이터 input 구조 - (batch_size, height, width, depth)"
   ]
  },
  {
   "cell_type": "code",
   "execution_count": 7,
   "id": "6dacf546",
   "metadata": {},
   "outputs": [],
   "source": [
    "# keras sequentail API\n",
    "\n",
    "model = models.Sequential()\n",
    "model.add(layers.Conv2D(32, (3, 3), activation='relu', input_shape=(28, 28, 1)))\n",
    "model.add(layers.MaxPooling2D((2, 2)))\n",
    "model.add(layers.Conv2D(64, (3, 3), activation='relu'))\n",
    "model.add(layers.MaxPooling2D((2, 2)))\n",
    "model.add(layers.Conv2D(64, (3, 3), activation='relu'))\n",
    "\n",
    "model.add(layers.Flatten()) # 고차원 데이터를 1차원 데이터로 flatten 시킴\n",
    "model.add(layers.Dense(64, activation='relu'))\n",
    "model.add(layers.Dropout(0.2))\n",
    "model.add(layers.Dense(10, activation='softmax'))"
   ]
  },
  {
   "cell_type": "code",
   "execution_count": 8,
   "id": "7ca6f46d",
   "metadata": {},
   "outputs": [
    {
     "name": "stdout",
     "output_type": "stream",
     "text": [
      "Model: \"sequential\"\n",
      "_________________________________________________________________\n",
      " Layer (type)                Output Shape              Param #   \n",
      "=================================================================\n",
      " conv2d (Conv2D)             (None, 26, 26, 32)        320       \n",
      "                                                                 \n",
      " max_pooling2d (MaxPooling2D  (None, 13, 13, 32)       0         \n",
      " )                                                               \n",
      "                                                                 \n",
      " conv2d_1 (Conv2D)           (None, 11, 11, 64)        18496     \n",
      "                                                                 \n",
      " max_pooling2d_1 (MaxPooling  (None, 5, 5, 64)         0         \n",
      " 2D)                                                             \n",
      "                                                                 \n",
      " conv2d_2 (Conv2D)           (None, 3, 3, 64)          36928     \n",
      "                                                                 \n",
      " flatten (Flatten)           (None, 576)               0         \n",
      "                                                                 \n",
      " dense (Dense)               (None, 64)                36928     \n",
      "                                                                 \n",
      " dropout (Dropout)           (None, 64)                0         \n",
      "                                                                 \n",
      " dense_1 (Dense)             (None, 10)                650       \n",
      "                                                                 \n",
      "=================================================================\n",
      "Total params: 93,322\n",
      "Trainable params: 93,322\n",
      "Non-trainable params: 0\n",
      "_________________________________________________________________\n"
     ]
    }
   ],
   "source": [
    "model.summary()"
   ]
  },
  {
   "cell_type": "code",
   "execution_count": 9,
   "id": "5feb3c99",
   "metadata": {},
   "outputs": [],
   "source": [
    "# Import the libraries\n",
    "from tensorflow.keras.models import Model\n",
    "from tensorflow.keras.layers import Input,Dense\n",
    "\n",
    "# keras functional API\n",
    "\n",
    "input_layer = Input(shape = (28, 28, 1))\n",
    "\n",
    "cnn_1 = layers.Conv2D(32, (3,3), activation=\"relu\")(input_layer)\n",
    "pooling_1 = layers.MaxPooling2D((2,2))(cnn_1)\n",
    "cnn_2 = layers.Conv2D(64, (3,3), activation=\"relu\")(pooling_1)\n",
    "pooling_2 = layers.MaxPooling2D((2,2))(cnn_2)\n",
    "cnn_3 = layers.Conv2D(64, (3,3), activation=\"relu\")(pooling_2)\n",
    "\n",
    "flat = layers.Flatten()(cnn_3) # 고차원 데이터를 1차원 데이터로 flatten 시킴\n",
    "dense_1 = layers.Dense(64, activation='relu')(flat)\n",
    "output_layer= Dense(10, activation=\"softmax\")(dense_1)\n",
    "\n",
    "model = Model(inputs=input_layer, outputs=output_layer)"
   ]
  },
  {
   "cell_type": "code",
   "execution_count": 10,
   "id": "2f437917",
   "metadata": {},
   "outputs": [
    {
     "name": "stdout",
     "output_type": "stream",
     "text": [
      "Model: \"model\"\n",
      "_________________________________________________________________\n",
      " Layer (type)                Output Shape              Param #   \n",
      "=================================================================\n",
      " input_1 (InputLayer)        [(None, 28, 28, 1)]       0         \n",
      "                                                                 \n",
      " conv2d_3 (Conv2D)           (None, 26, 26, 32)        320       \n",
      "                                                                 \n",
      " max_pooling2d_2 (MaxPooling  (None, 13, 13, 32)       0         \n",
      " 2D)                                                             \n",
      "                                                                 \n",
      " conv2d_4 (Conv2D)           (None, 11, 11, 64)        18496     \n",
      "                                                                 \n",
      " max_pooling2d_3 (MaxPooling  (None, 5, 5, 64)         0         \n",
      " 2D)                                                             \n",
      "                                                                 \n",
      " conv2d_5 (Conv2D)           (None, 3, 3, 64)          36928     \n",
      "                                                                 \n",
      " flatten_1 (Flatten)         (None, 576)               0         \n",
      "                                                                 \n",
      " dense_2 (Dense)             (None, 64)                36928     \n",
      "                                                                 \n",
      " dense_3 (Dense)             (None, 10)                650       \n",
      "                                                                 \n",
      "=================================================================\n",
      "Total params: 93,322\n",
      "Trainable params: 93,322\n",
      "Non-trainable params: 0\n",
      "_________________________________________________________________\n"
     ]
    }
   ],
   "source": [
    "model.summary()"
   ]
  },
  {
   "cell_type": "markdown",
   "id": "3610a14f",
   "metadata": {},
   "source": [
    "* CNN의 학습 파라미터 계산법 - 이전채널 수 x 필터 파라미터의 총 개수 x 현재채널 수 + 현재채널 수"
   ]
  },
  {
   "cell_type": "code",
   "execution_count": 11,
   "id": "fdb6f00a",
   "metadata": {},
   "outputs": [
    {
     "name": "stdout",
     "output_type": "stream",
     "text": [
      "Epoch 1/5\n",
      "  1/938 [..............................] - ETA: 2:54 - loss: 2.2976 - accuracy: 0.1562 - sparse_categorical_crossentropy: 2.2976"
     ]
    },
    {
     "name": "stderr",
     "output_type": "stream",
     "text": [
      "2023-04-21 14:01:33.573102: W tensorflow/core/platform/profile_utils/cpu_utils.cc:128] Failed to get CPU frequency: 0 Hz\n"
     ]
    },
    {
     "name": "stdout",
     "output_type": "stream",
     "text": [
      "938/938 [==============================] - 9s 10ms/step - loss: 0.1854 - accuracy: 0.9431 - sparse_categorical_crossentropy: 0.1854 - val_loss: 0.0547 - val_accuracy: 0.9830 - val_sparse_categorical_crossentropy: 0.0547\n",
      "Epoch 2/5\n",
      "938/938 [==============================] - 9s 10ms/step - loss: 0.0537 - accuracy: 0.9836 - sparse_categorical_crossentropy: 0.0537 - val_loss: 0.0414 - val_accuracy: 0.9857 - val_sparse_categorical_crossentropy: 0.0414\n",
      "Epoch 3/5\n",
      "938/938 [==============================] - 10s 11ms/step - loss: 0.0368 - accuracy: 0.9883 - sparse_categorical_crossentropy: 0.0368 - val_loss: 0.0285 - val_accuracy: 0.9902 - val_sparse_categorical_crossentropy: 0.0285\n",
      "Epoch 4/5\n",
      "938/938 [==============================] - 11s 12ms/step - loss: 0.0290 - accuracy: 0.9909 - sparse_categorical_crossentropy: 0.0290 - val_loss: 0.0288 - val_accuracy: 0.9910 - val_sparse_categorical_crossentropy: 0.0288\n",
      "Epoch 5/5\n",
      "938/938 [==============================] - 11s 12ms/step - loss: 0.0233 - accuracy: 0.9927 - sparse_categorical_crossentropy: 0.0233 - val_loss: 0.0311 - val_accuracy: 0.9897 - val_sparse_categorical_crossentropy: 0.0311\n"
     ]
    }
   ],
   "source": [
    "# model의 학습 \n",
    "\n",
    "# model.compile() - 학습할 때 필요한 요인들을 설정한다.\n",
    "# 모델 컴파일\n",
    "model.compile(optimizer='adam',\n",
    "              loss='sparse_categorical_crossentropy',\n",
    "              metrics=['accuracy', 'sparse_categorical_crossentropy'])\n",
    "\n",
    "# model.fit() - 모델을 학습시킨다.\n",
    "# 모델 학습\n",
    "history = model.fit(train_images, train_labels,\n",
    "                    validation_data=(test_images, test_labels),\n",
    "                    batch_size = 64,\n",
    "                    epochs=5)\n",
    "\n",
    "# 학습 관련 함수가 있는 keras 공식 documents - https://keras.io/api/models/model_training_apis/"
   ]
  },
  {
   "cell_type": "markdown",
   "id": "f20fab9b",
   "metadata": {},
   "source": [
    "# 5. 모델 평가"
   ]
  },
  {
   "cell_type": "code",
   "execution_count": 12,
   "id": "cc76d636",
   "metadata": {},
   "outputs": [
    {
     "data": {
      "text/plain": [
       "[0.031051525846123695, 0.9897000193595886, 0.031051525846123695]"
      ]
     },
     "execution_count": 12,
     "metadata": {},
     "output_type": "execute_result"
    }
   ],
   "source": [
    "# evaluate() : model.compile() 함수에서 사용한 metrics의 함수를 통해 test data에 대한 metric 결과 출력\n",
    "\n",
    "model.evaluate(test_images,  test_labels, verbose=0)"
   ]
  },
  {
   "cell_type": "code",
   "execution_count": 13,
   "id": "3a6854c6",
   "metadata": {},
   "outputs": [
    {
     "name": "stdout",
     "output_type": "stream",
     "text": [
      "dict_keys(['loss', 'accuracy', 'sparse_categorical_crossentropy', 'val_loss', 'val_accuracy', 'val_sparse_categorical_crossentropy'])\n"
     ]
    }
   ],
   "source": [
    "# history를 통해 확인할 수 있는 값 출력하기\n",
    "print(history.history.keys())"
   ]
  },
  {
   "cell_type": "code",
   "execution_count": 14,
   "id": "dacf209a",
   "metadata": {},
   "outputs": [
    {
     "name": "stdout",
     "output_type": "stream",
     "text": [
      "313/313 [==============================] - 1s 4ms/step - loss: 0.0311 - accuracy: 0.9897 - sparse_categorical_crossentropy: 0.0311\n",
      "\n",
      "Accuracy: 0.9897\n"
     ]
    },
    {
     "data": {
      "image/png": "[encoded data removed]",
      "text/plain": [
       "<Figure size 640x480 with 1 Axes>"
      ]
     },
     "metadata": {},
     "output_type": "display_data"
    }
   ],
   "source": [
    "# 출처\n",
    "# https://snowdeer.github.io/machine-learning/2018/01/10/check-relation-between-epoch-and-loss-using-graph/\n",
    "\n",
    "print('\\nAccuracy: {:.4f}'.format(model.evaluate(test_images, test_labels)[1]))\n",
    "\n",
    "y_vloss = history.history['val_loss']\n",
    "y_loss = history.history['loss']\n",
    "\n",
    "x_len = np.arange(len(y_loss))\n",
    "plt.plot(x_len, y_vloss, marker='.', c='red', label=\"Validation-set Loss\")\n",
    "plt.plot(x_len, y_loss, marker='.', c='blue', label=\"Train-set Loss\")\n",
    "\n",
    "plt.legend(loc='upper right')\n",
    "plt.grid()\n",
    "plt.xlabel('epoch')\n",
    "plt.ylabel('loss')\n",
    "plt.show()"
   ]
  },
  {
   "cell_type": "code",
   "execution_count": 15,
   "id": "efc8f61d",
   "metadata": {},
   "outputs": [
    {
     "data": {
      "text/plain": [
       "array([1.3231976e-07, 1.6739143e-08, 1.6302404e-07, 1.0790100e-07,\n",
       "       7.9858404e-09, 1.9668673e-09, 1.6682145e-09, 9.9999964e-01,\n",
       "       7.0441728e-09, 1.7675607e-08], dtype=float32)"
      ]
     },
     "execution_count": 15,
     "metadata": {},
     "output_type": "execute_result"
    }
   ],
   "source": [
    "# 모델 테스트 데이터 예측값 출력\n",
    "y_pred = model.predict(test_images)\n",
    "y_pred[0]"
   ]
  },
  {
   "cell_type": "code",
   "execution_count": 16,
   "id": "c868c6fd",
   "metadata": {},
   "outputs": [
    {
     "data": {
      "text/plain": [
       "array([7, 2, 1, ..., 4, 5, 6])"
      ]
     },
     "execution_count": 16,
     "metadata": {},
     "output_type": "execute_result"
    }
   ],
   "source": [
    "# 열 단위, 가장 높은 값을 반환\n",
    "np.argmax(y_pred, axis=1)"
   ]
  },
  {
   "cell_type": "code",
   "execution_count": 17,
   "id": "0e6cbb8b",
   "metadata": {},
   "outputs": [
    {
     "data": {
      "text/plain": [
       "0.9897"
      ]
     },
     "execution_count": 17,
     "metadata": {},
     "output_type": "execute_result"
    }
   ],
   "source": [
    "from sklearn.metrics import accuracy_score\n",
    "\n",
    "accuracy_score(test_labels, np.argmax(y_pred, axis=1))"
   ]
  },
  {
   "cell_type": "code",
   "execution_count": 18,
   "id": "e033afd7",
   "metadata": {},
   "outputs": [
    {
     "data": {
      "text/plain": [
       "(array([7, 2, 1, ..., 4, 5, 6], dtype=uint8),\n",
       " array([[1.32319755e-07, 1.67391434e-08, 1.63024040e-07, ...,\n",
       "         9.99999642e-01, 7.04417280e-09, 1.76756068e-08],\n",
       "        [3.06614384e-05, 1.93711026e-06, 9.99963641e-01, ...,\n",
       "         1.23549908e-08, 5.25619214e-07, 1.16274559e-10],\n",
       "        [3.22504929e-05, 9.98081088e-01, 1.42697695e-06, ...,\n",
       "         1.43657613e-04, 1.04518770e-03, 2.42104761e-05],\n",
       "        ...,\n",
       "        [9.37672181e-14, 3.33322259e-11, 2.46325399e-12, ...,\n",
       "         9.85728277e-10, 1.04782885e-08, 3.42438328e-10],\n",
       "        [1.00678285e-07, 4.86264196e-10, 1.37481285e-11, ...,\n",
       "         1.95388949e-09, 1.49079715e-04, 1.40709773e-07],\n",
       "        [1.31909997e-04, 1.88551823e-08, 4.35255814e-08, ...,\n",
       "         2.01416540e-11, 1.22355386e-05, 4.49186066e-09]], dtype=float32))"
      ]
     },
     "execution_count": 18,
     "metadata": {},
     "output_type": "execute_result"
    }
   ],
   "source": [
    "test_labels , y_pred"
   ]
  }
 ],
 "metadata": {
  "kernelspec": {
   "display_name": "Python 3 (ipykernel)",
   "language": "python",
   "name": "python3"
  },
  "language_info": {
   "codemirror_mode": {
    "name": "ipython",
    "version": 3
   },
   "file_extension": ".py",
   "mimetype": "text/x-python",
   "name": "python",
   "nbconvert_exporter": "python",
   "pygments_lexer": "ipython3",
   "version": "3.9.16"
  }
 },
 "nbformat": 4,
 "nbformat_minor": 5
}
