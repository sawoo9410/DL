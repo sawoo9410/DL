{
 "cells": [
  {
   "cell_type": "markdown",
   "id": "7831c42f",
   "metadata": {},
   "source": [
    "### Created on 2023\n",
    "### @author: S.W"
   ]
  },
  {
   "cell_type": "markdown",
   "id": "e2743278",
   "metadata": {},
   "source": [
    "------"
   ]
  },
  {
   "cell_type": "markdown",
   "id": "a8bf55cc",
   "metadata": {},
   "source": [
    "#### 만약 opencv 패키지가 import가 되지 않는다면 아래 셀 실행"
   ]
  },
  {
   "cell_type": "code",
   "execution_count": 1,
   "id": "fbaf37b0",
   "metadata": {},
   "outputs": [],
   "source": [
    "import cv2"
   ]
  },
  {
   "cell_type": "code",
   "execution_count": null,
   "id": "beed3ba7",
   "metadata": {},
   "outputs": [],
   "source": [
    "# python -m pip install --upgrade pip"
   ]
  },
  {
   "cell_type": "code",
   "execution_count": null,
   "id": "aabf3343",
   "metadata": {},
   "outputs": [],
   "source": [
    "# !pip install opencv-python"
   ]
  },
  {
   "cell_type": "code",
   "execution_count": null,
   "id": "b214627f",
   "metadata": {},
   "outputs": [],
   "source": [
    "# !pip install opencv-contrib-python"
   ]
  },
  {
   "cell_type": "markdown",
   "id": "338a2755",
   "metadata": {},
   "source": [
    "# 1. Read & Write\n",
    "\n",
    "### 1) 이미지 불러오기\n",
    "\n",
    "- 기본 입출력\n",
    "- 영상 읽고 쓰는 방법과 마우스와 키보드 이벤트 처리\n",
    "\n",
    "\n",
    "#### cv2.imread(이미지 파일명, 읽기 모드)<br>\n",
    "읽기 모드(mode_flag)<br>\n",
    "1) cv2.IMREAD_COLOR : 컬러(BGR) 스케일로 읽기, 기본값<br>\n",
    "2) cv2.IMREAD_UNCHANGED : 파일 그대로 읽기<br>\n",
    "3) cv2.IMREAD_GRAYSCALE : 그레이(흑백) 스케일로 읽기<br>\n",
    "\n",
    "#### cv2.imshow(창 이름, 이미지)<br>\n",
    "key=cv2.waitKey([키보드 입력 대기 시간])<br>\n",
    "delay = 0 : 키보드 입력을 대기할 시간(ms), 0(무한대, 기본값)<br>\n",
    "key: 사용자가 입력한 키값 리턴<br>\n",
    "-1: 대기시간 동안 키 입력 없음<br>"
   ]
  },
  {
   "cell_type": "code",
   "execution_count": 2,
   "id": "72011292",
   "metadata": {
    "scrolled": true
   },
   "outputs": [
    {
     "name": "stdout",
     "output_type": "stream",
     "text": [
      "[[[ 54  70  76]\n",
      "  [ 48  67  70]\n",
      "  [ 41  68  65]\n",
      "  ...\n",
      "  [ 24  72  54]\n",
      "  [ 31  76  59]\n",
      "  [ 35  80  63]]\n",
      "\n",
      " [[ 53  69  75]\n",
      "  [ 47  68  70]\n",
      "  [ 41  68  64]\n",
      "  ...\n",
      "  [ 26  74  56]\n",
      "  [ 32  77  60]\n",
      "  [ 35  80  63]]\n",
      "\n",
      " [[ 53  69  75]\n",
      "  [ 46  67  68]\n",
      "  [ 39  69  64]\n",
      "  ...\n",
      "  [ 28  76  58]\n",
      "  [ 31  79  61]\n",
      "  [ 35  80  63]]\n",
      "\n",
      " ...\n",
      "\n",
      " [[ 29  94  68]\n",
      "  [ 38 104  75]\n",
      "  [ 47 115  84]\n",
      "  ...\n",
      "  [218 190 203]\n",
      "  [219 192 202]\n",
      "  [222 192 203]]\n",
      "\n",
      " [[ 28  94  65]\n",
      "  [ 37 104  75]\n",
      "  [ 47 117  86]\n",
      "  ...\n",
      "  [218 190 203]\n",
      "  [222 192 203]\n",
      "  [224 194 205]]\n",
      "\n",
      " [[ 25  92  63]\n",
      "  [ 36 103  74]\n",
      "  [ 46 116  85]\n",
      "  ...\n",
      "  [223 193 206]\n",
      "  [226 196 207]\n",
      "  [229 199 210]]]\n",
      "<class 'numpy.ndarray'>\n",
      "(293, 406, 3)\n"
     ]
    }
   ],
   "source": [
    "import cv2\n",
    "\n",
    "img_file='./img/girl.jpg'\n",
    "\n",
    "img=cv2.imread(img_file)  # numpy로 리턴\n",
    "print(img)\n",
    "print(type(img))\n",
    "print(img.shape)\n",
    "\n",
    "if img is not None :\n",
    "    cv2.imshow('IMG', img)  # 이미지를 화면에 표시\n",
    "    cv2.waitKey()   # 키보드의 입력 있을 때까지 이미지 보여줌 \n",
    "    cv2.destroyAllWindows()  # 출력한 창을 모두 닫고 나서 프로그램을 종료\n",
    "    cv2.waitKey(1)\n",
    "    \n",
    "else:\n",
    "    print('No image file.')"
   ]
  },
  {
   "cell_type": "markdown",
   "id": "ecff0dda",
   "metadata": {},
   "source": [
    "GrayScale인 경우 cv2.IMREAD_COLOR로 읽는대로 컬러로 로딩되지 않음, 컬러 스페이스와 연관"
   ]
  },
  {
   "cell_type": "code",
   "execution_count": 3,
   "id": "363a06ea",
   "metadata": {},
   "outputs": [],
   "source": [
    "import cv2\n",
    "\n",
    "img_file='./img/girl.jpg'\n",
    "\n",
    "img1=cv2.imread(img_file)  # numpy로 리턴\n",
    "img2=cv2.imread(img_file, cv2.IMREAD_GRAYSCALE)\n",
    "\n",
    "if img is not None :\n",
    "    cv2.imshow('BGR IMG', img1)  \n",
    "    cv2.imshow('GrayScale', img2)\n",
    "    cv2.waitKey()   # 키보드의 입력 있을 때까지 이미지 보여줌\n",
    "    cv2.destroyAllWindows()  # 출력한 창을 모두 닫고 나서 프로그램을 종료\n",
    "    cv2.waitKey(1)\n",
    "else:\n",
    "    print('No image file.')"
   ]
  },
  {
   "cell_type": "markdown",
   "id": "f02c26d0",
   "metadata": {},
   "source": [
    "### 2) 이미지 저장하기"
   ]
  },
  {
   "cell_type": "code",
   "execution_count": 4,
   "id": "ee14f44e",
   "metadata": {},
   "outputs": [
    {
     "data": {
      "text/plain": [
       "-1"
      ]
     },
     "execution_count": 4,
     "metadata": {},
     "output_type": "execute_result"
    }
   ],
   "source": [
    "import cv2\n",
    "\n",
    "img_file='./img/girl.jpg'\n",
    "\n",
    "img1=cv2.imread(img_file, cv2.IMREAD_GRAYSCALE)\n",
    "cv2.imshow('GrayScale', img1)\n",
    "cv2.imwrite('./out/girl_gray.jpg', img1)  # 이미지 저장하기\n",
    "\n",
    "key = cv2.waitKey()   \n",
    "cv2.destroyAllWindows()\n",
    "cv2.waitKey(1)"
   ]
  },
  {
   "cell_type": "markdown",
   "id": "bf494d2e",
   "metadata": {},
   "source": [
    "### 3) 동영상 및 카메라 프레임 읽기\n",
    "동영상 파일이나 컴퓨터에 연결한 카메라 장치로부터 연속된 이미지 프레임을 읽을 수 있는 API 제공\n",
    "    \n",
    "#### cap=cv2.VideoCapture(파일경로 또는 인덱스[카메라 장치 번호]) \n",
    "- 비디오 캡처 객체 생성자\n",
    "- cap 비디오 캡처 객체\n",
    "\n",
    "#### ret=cap.isOpened() : 객체 초기화 확인\n",
    "- ret: 초기화 여부, True/False\n",
    "\n",
    "#### ret, img = cap.read() : 영상 프레임 읽기\n",
    "- ret: 프레임 읽기 성공 또는 실패 여부, True/False\n",
    "- img: 프레임 이미지, Numpy 또는 None\n",
    "\n",
    "#### cap.set(id, value) : 프로퍼티 변경\n",
    "#### cap.get(id) : 프로퍼티 확인\n",
    "#### cap.release() : 캡처 자원 반납\n",
    "\n",
    "<br>\n",
    "\n",
    "동영상 다운로드 사이트<br>\n",
    "- http://bbb3d.renderfarming.net/download.html"
   ]
  },
  {
   "cell_type": "code",
   "execution_count": 5,
   "id": "9d10dbf9",
   "metadata": {},
   "outputs": [
    {
     "data": {
      "text/plain": [
       "-1"
      ]
     },
     "execution_count": 5,
     "metadata": {},
     "output_type": "execute_result"
    }
   ],
   "source": [
    "import cv2\n",
    "\n",
    "video_file = \"./img/big_buck.avi\" # 동영상 파일 경로\n",
    "\n",
    "cap = cv2.VideoCapture(video_file) # 동영상 캡쳐 객체 생성 \n",
    "cap.isOpened()  # 객체 초기화 여부 확인\n",
    "\n",
    "if cap.isOpened():                 # 캡쳐 객체 초기화 확인\n",
    "    while True:\n",
    "        ret, img = cap.read()      # 다음 프레임 읽기 \n",
    "        if ret:                     # 프레임 읽기 정상\n",
    "            cv2.imshow(video_file, img) # 화면에 표시\n",
    "            key = cv2.waitKey(25)   # 25ms 지연(40fps로 가정)\n",
    "            if key != -1:\n",
    "                break\n",
    "        else:                       # 다음 프레임 읽을 수 없음,\n",
    "            break                   # 재생 완료\n",
    "else:\n",
    "    print(\"can't open video.\")      # 캡쳐 객체 초기화 실패\n",
    "    \n",
    "cap.release()                       # 캡쳐 자원 반납\n",
    "cv2.destroyAllWindows()\n",
    "cv2.waitKey(1)"
   ]
  },
  {
   "cell_type": "markdown",
   "id": "ec51d4c1",
   "metadata": {},
   "source": [
    "#### 지연시간 계산 방법\n",
    "지연시간 = 1000 / FPS\n",
    "- FPS(Frame Per Second, 초당 프레임 수)<br>\n",
    "\n",
    "1000 을 기준으로 하는 이유는 1초를 밀리초(ms) 단위로 환산해서 제공해야 되기 때문<br>\n",
    "40 FPS 인 경우 → 25 = 1000 / 40<br>"
   ]
  },
  {
   "cell_type": "markdown",
   "id": "95d11c0b",
   "metadata": {},
   "source": [
    "### 4) 카메라(웹캠) 프레임 읽기\n",
    "\n",
    "cv2.VideoCapture(카메라 장치 인덱스 번호를 정수로 지정)"
   ]
  },
  {
   "cell_type": "code",
   "execution_count": 6,
   "id": "6d43f031",
   "metadata": {},
   "outputs": [
    {
     "data": {
      "text/plain": [
       "-1"
      ]
     },
     "execution_count": 6,
     "metadata": {},
     "output_type": "execute_result"
    }
   ],
   "source": [
    "import cv2\n",
    "\n",
    "cap = cv2.VideoCapture(0)               # 0번 카메라 장치 연결\n",
    "if cap.isOpened():                      # 캡처 객체 연결 확인\n",
    "    while True:\n",
    "        ret, img = cap.read()           # 다음 프레임 읽기\n",
    "        if ret:\n",
    "            cv2.imshow('camera', img)   # 다음 프레임 이미지 표시\n",
    "            if cv2.waitKey(1) != -1:    # 1ms 동안 키 입력 대기\n",
    "                break                   # 아무 키라도 입력이 있으면 중지\n",
    "        else:\n",
    "            print('no frame')\n",
    "            break\n",
    "else:\n",
    "    print(\"can't open camera.\")\n",
    "    \n",
    "cap.release()                           # 자원 반납\n",
    "cv2.destroyAllWindows()\n",
    "cv2.waitKey(1)"
   ]
  },
  {
   "cell_type": "markdown",
   "id": "c504fd11",
   "metadata": {},
   "source": [
    "#### 비디오, 카메라 속성 제어"
   ]
  },
  {
   "cell_type": "code",
   "execution_count": 8,
   "id": "b40f9e25",
   "metadata": {},
   "outputs": [
    {
     "name": "stdout",
     "output_type": "stream",
     "text": [
      "FPS: 24.000000, Delay: 41ms\n"
     ]
    },
    {
     "data": {
      "text/plain": [
       "-1"
      ]
     },
     "execution_count": 8,
     "metadata": {},
     "output_type": "execute_result"
    }
   ],
   "source": [
    "import cv2\n",
    "\n",
    "video_file = \"./img/big_buck.avi\"   # 동영상 파일 경로\n",
    "\n",
    "cap = cv2.VideoCapture(video_file)  # 동영상 캡쳐 객체 생성\n",
    "\n",
    "if cap.isOpened():                  # 캡쳐 객체 초기화 확인\n",
    "    fps = cap.get(cv2.CAP_PROP_FPS) # 동영상의 프레임 수 구하기\n",
    "    delay = int(1000/fps)\n",
    "    print(\"FPS: %f, Delay: %dms\" %(fps, delay))\n",
    "\n",
    "    while True:\n",
    "        ret, img = cap.read()            # 다음 프레임 읽기\n",
    "        if ret:                          # 프레임 읽기 정상\n",
    "            cv2.imshow(video_file, img)  # 화면에 표시\n",
    "            key = cv2.waitKey(delay)     # fps에 맞게 시간 지연\n",
    "            if key == ord('q'):\n",
    "                # 'q'를 누르면 영상 종료\n",
    "                break\n",
    "        else:\n",
    "            break                   # 다음 프레임 읽을 수 없슴, 재생 완료\n",
    "else:\n",
    "    print(\"can't open video.\")      # 캡쳐 객체 초기화 실패\n",
    "    \n",
    "cap.release()                       # 캡쳐 자원 반납\n",
    "cv2.destroyAllWindows()\n",
    "cv2.waitKey(1)"
   ]
  },
  {
   "cell_type": "markdown",
   "id": "9ed98136",
   "metadata": {},
   "source": [
    "#### 카메라 프레임 크기 설정\n",
    " - 동영상 파일에 프레임 크기 재지정하는 것은 적용되지 않음"
   ]
  },
  {
   "cell_type": "code",
   "execution_count": 9,
   "id": "a31cf3ca",
   "metadata": {},
   "outputs": [
    {
     "name": "stdout",
     "output_type": "stream",
     "text": [
      "Original width: 1920, height:1080\n"
     ]
    }
   ],
   "source": [
    "import cv2\n",
    "\n",
    "cap = cv2.VideoCapture(0)                     # 카메라 0번 장치 연결\n",
    "\n",
    "width = cap.get(cv2.CAP_PROP_FRAME_WIDTH)     # 프레임 폭 값 구하기\n",
    "height = cap.get(cv2.CAP_PROP_FRAME_HEIGHT)   # 프레임 높이 값 구하기\n",
    "print(\"Original width: %d, height:%d\" % (width, height)) "
   ]
  },
  {
   "cell_type": "code",
   "execution_count": 10,
   "id": "79a97c34",
   "metadata": {},
   "outputs": [
    {
     "name": "stdout",
     "output_type": "stream",
     "text": [
      "Resized width: 640, height:480\n"
     ]
    }
   ],
   "source": [
    "cap.set(cv2.CAP_PROP_FRAME_WIDTH, 320)        # 프레임 폭을 320으로 설정\n",
    "cap.set(cv2.CAP_PROP_FRAME_HEIGHT, 240)       # 프레임 높이를 240으로 설정\n",
    "width_1 = cap.get(cv2.CAP_PROP_FRAME_WIDTH)   # 재지정한 프레임 폭 값 구하기\n",
    "height_1 = cap.get(cv2.CAP_PROP_FRAME_HEIGHT) # 재지정한 프레임 폭 값 구하기\n",
    "\n",
    "print(\"Resized width: %d, height:%d\" % (width_1, height_1)) # (640, 480)"
   ]
  },
  {
   "cell_type": "markdown",
   "id": "51d34174",
   "metadata": {},
   "source": [
    "단, 카메라마다 지원하는 고유의 크기가 있어 변경이 불가능한 경우도 있음. 그 경우 resize 함수를 통해 변경해야함."
   ]
  },
  {
   "cell_type": "code",
   "execution_count": 11,
   "id": "23ecb0ee",
   "metadata": {},
   "outputs": [
    {
     "data": {
      "text/plain": [
       "-1"
      ]
     },
     "execution_count": 11,
     "metadata": {},
     "output_type": "execute_result"
    }
   ],
   "source": [
    "if cap.isOpened():\n",
    "    while True:\n",
    "        ret, img = cap.read()\n",
    "        if ret:\n",
    "            cv2.namedWindow(\"camera\", cv2.WINDOW_NORMAL)   # \"camera\"라는 이름의 윈도우 생성\n",
    "            cv2.resizeWindow(\"camera\", 320, 240)           # 생성한 윈도우의 사이즈를 변경 (변경할 윈도우의 이름, 너비, 높이)\n",
    "            \n",
    "            cv2.imshow('camera', img)\n",
    "            if cv2.waitKey(1) != -1:\n",
    "                break\n",
    "        else:\n",
    "            print('no frame!')\n",
    "            break\n",
    "else:\n",
    "    print(\"can't open camera!\")\n",
    "    \n",
    "cap.release()\n",
    "cv2.destroyAllWindows()\n",
    "cv2.waitKey(1)"
   ]
  },
  {
   "cell_type": "markdown",
   "id": "42975dca",
   "metadata": {},
   "source": [
    "#### 비디오 파일 저장하기 (순간 캡쳐)"
   ]
  },
  {
   "cell_type": "code",
   "execution_count": 64,
   "id": "5cc5e1e7",
   "metadata": {},
   "outputs": [],
   "source": [
    "import cv2\n",
    "\n",
    "cap = cv2.VideoCapture(0)                       # 0번 카메라 연결\n",
    "if cap.isOpened() :\n",
    "    while True:\n",
    "        ret, frame = cap.read()                 # 카메라 프레임 읽기\n",
    "        if ret:\n",
    "            cv2.imshow('camera',frame)          # 프레임 화면에 표시\n",
    "            if cv2.waitKey(1) != -1:            # 아무 키나 누르면\n",
    "                cv2.imwrite('./out/photo.jpg', frame) # 프레임을 'photo.jpg'에 저장\n",
    "                break\n",
    "        else:\n",
    "            print('no frame!')\n",
    "            break\n",
    "else:\n",
    "    print('no camera!')\n",
    "cap.release()\n",
    "cv2.destroyAllWindows()"
   ]
  },
  {
   "cell_type": "markdown",
   "id": "fdff7e79",
   "metadata": {},
   "source": [
    "#### 하나의 프레임이 아닌 여러 프레임을 동영상으로 저장\n",
    "- cv2.VideoWriter() API 사용\n",
    "\n",
    "----\n",
    "**writer = cv2.VideoWriter(파일 경로, forcc[비디오 인코딩], fps[초당프레임수], (프레임폭, 너비))**\n",
    "- writer: 프레임 저장 객체\n",
    "- writer.write(저장할 frame) : 프레임 저장\n",
    "- writer.set(id, value) : 프로퍼티 변경\n",
    "- writer.get(id) : 프로퍼티 확인\n",
    "  \n",
    "**ret = writer.fourcc(c1, c2, c3, c4) : fourcc 코드 생성**\n",
    "- c1, c2, c3, c4 : 인코딩 형식 4글자, 'MJPG', 'DIVX' 등\n",
    " \n",
    "ret : fourcc 코드\n",
    " \n",
    "**cv2.VideoWriter_fourcc(c1,c2,c3,c4)**\n",
    "- cv2.VideoWriter.fourcc(c1, c2, c3, c4) 동일 \n",
    "\n",
    "(코덱 확인) https://www.fourcc.org/codecs.php\n"
   ]
  },
  {
   "cell_type": "code",
   "execution_count": 12,
   "id": "b98e3897",
   "metadata": {},
   "outputs": [
    {
     "data": {
      "text/plain": [
       "-1"
      ]
     },
     "execution_count": 12,
     "metadata": {},
     "output_type": "execute_result"
    }
   ],
   "source": [
    "import cv2\n",
    "\n",
    "cap = cv2.VideoCapture(0)            # 0번 카메라 연결\n",
    "\n",
    "if cap.isOpened:\n",
    "    file_path = './out/record.avi'   # 저장할 파일 경로 이름 \n",
    "    fps = 30.0                       # FPS, 초당 프레임 수\n",
    "    fourcc = cv2.VideoWriter_fourcc(*'DIVX') # 영상 파일의 코덱, 압축 방식, 색상, 픽셀 포맷 등을 정의하는 정수 값\n",
    "    \n",
    "    # 인코딩 포맷 문자\n",
    "    width = cap.get(cv2.CAP_PROP_FRAME_WIDTH)\n",
    "    height = cap.get(cv2.CAP_PROP_FRAME_HEIGHT)\n",
    "    size = (int(width), int(height))  # 프레임 크기\n",
    "    out = cv2.VideoWriter(file_path, fourcc, fps, size)\n",
    "    \n",
    "    # VideoWriter 객체 생성\n",
    "    while True:\n",
    "        ret, frame = cap.read()\n",
    "        if ret:\n",
    "            cv2.imshow('camera-recording',frame)\n",
    "            out.write(frame)      # 파일 저장\n",
    "            \n",
    "            if cv2.waitKey(int(1000/fps)) != -1: \n",
    "                break\n",
    "        else:\n",
    "            print(\"no frame!\")\n",
    "            break\n",
    "    out.release()    # 파일 닫기\n",
    "else:\n",
    "    print(\"can't open camera!\")\n",
    "    \n",
    "cap.release()\n",
    "cv2.destroyAllWindows()\n",
    "cv2.waitKey(1)"
   ]
  },
  {
   "cell_type": "markdown",
   "id": "d8642540",
   "metadata": {},
   "source": [
    "# 2. Drawing"
   ]
  },
  {
   "cell_type": "markdown",
   "id": "4b0d44a0",
   "metadata": {},
   "source": [
    "#### 실습용 이미지 생성"
   ]
  },
  {
   "cell_type": "code",
   "execution_count": 13,
   "id": "c6963d54",
   "metadata": {},
   "outputs": [
    {
     "data": {
      "text/plain": [
       "-1"
      ]
     },
     "execution_count": 13,
     "metadata": {},
     "output_type": "execute_result"
    }
   ],
   "source": [
    "import cv2\n",
    "import numpy as np\n",
    "\n",
    "img = np.full((500,500,3), [255, 255, 255], dtype=np.uint8) # 3차원 빈 캔버스 생성\n",
    "cv2.imwrite('./img/blank.jpg', img)\n",
    "\n",
    "# 저장한 이미지 확인\n",
    "cv2.imshow(\"blank\", img)\n",
    "cv2.waitKey()\n",
    "cv2.destroyAllWindows()\n",
    "cv2.waitKey(1)"
   ]
  },
  {
   "cell_type": "markdown",
   "id": "50caeb69",
   "metadata": {},
   "source": [
    "### 1) 직선 그리기\n",
    "\n",
    "#### cv2.line() 사용법\n",
    "\n",
    "cv2.line(img, start, end, color[, thickness, lineType])<br>\n",
    "- img: 그림 그릴 이미지, numpy 타입\n",
    "- start: 선 시작 좌표, (x,y) 튜플로 지정\n",
    "- end: 선 끝 좌표, (x,y) 튜플로 지정\n",
    "- color: 선 색상, BGR(Blue, Green, Red), 0-255\n",
    "- thickness = 1 : 선 두께\n",
    "- lineType = cv2.LINE_4/cv2.LINE_8/cv2.LINE_AA<br>\n",
    "  .cv2.LINE_4: 4 연결선 알고리즘<br>\n",
    "  .cv2.LINE_8: 8 연결선 알고리즘<br>\n",
    "  .cv2.LINE_AA: 안티엘리어싱<br>\n",
    "  .브레젠햄(Bresenham) 알고리즘 사용(https://en.wikipedia.org/wiki/Bresenham%27s_line_algorithm)"
   ]
  },
  {
   "cell_type": "code",
   "execution_count": 15,
   "id": "d28e0eb7",
   "metadata": {
    "scrolled": true
   },
   "outputs": [
    {
     "data": {
      "text/plain": [
       "-1"
      ]
     },
     "execution_count": 15,
     "metadata": {},
     "output_type": "execute_result"
    }
   ],
   "source": [
    "import cv2\n",
    "\n",
    "img = cv2.imread('./img/blank.jpg')\n",
    "\n",
    "cv2.line(img, (50, 50), (150, 50), (255,0,0))   # 파란색 1픽셀 선\n",
    "cv2.line(img, (200, 50), (300, 50), (0,255,0))  # 초록색 1픽셀 선\n",
    "cv2.line(img, (350, 50), (450, 50), (0,0,255))  # 빨간색 1픽셀 선\n",
    "\n",
    "cv2.imshow('lines', img)\n",
    "cv2.waitKey(0)\n",
    "cv2.destroyAllWindows()\n",
    "cv2.waitKey(1)"
   ]
  },
  {
   "cell_type": "code",
   "execution_count": 16,
   "id": "c1a66188",
   "metadata": {},
   "outputs": [
    {
     "data": {
      "text/plain": [
       "-1"
      ]
     },
     "execution_count": 16,
     "metadata": {},
     "output_type": "execute_result"
    }
   ],
   "source": [
    "import cv2\n",
    "\n",
    "img = cv2.imread('./img/blank.jpg')\n",
    "\n",
    "# 하늘색(파랑+초록) 10픽셀 선      \n",
    "cv2.line(img, (100, 100), (400, 100), (255,255,0), 10)          \n",
    "# 분홍(파랑+빨강) 10픽셀 선      \n",
    "cv2.line(img, (100, 150), (400, 150), (255,0,255), 10)          \n",
    "# 노랑(초록+빨강) 10픽셀 선      \n",
    "cv2.line(img, (100, 200), (400, 200), (0,255,255), 10)          \n",
    "# 회색(파랑+초록+빨강) 10픽셀 선  \n",
    "cv2.line(img, (100, 250), (400, 250), (200,200,200), 10)        \n",
    "# 검정 10픽셀 선    \n",
    "cv2.line(img, (100, 300), (400, 300), (0,0,0), 10)                    \n",
    "\n",
    "cv2.imshow('lines', img)\n",
    "cv2.waitKey(0)\n",
    "cv2.destroyAllWindows()\n",
    "cv2.waitKey(1)"
   ]
  },
  {
   "cell_type": "code",
   "execution_count": 17,
   "id": "4973364d",
   "metadata": {},
   "outputs": [
    {
     "data": {
      "text/plain": [
       "-1"
      ]
     },
     "execution_count": 17,
     "metadata": {},
     "output_type": "execute_result"
    }
   ],
   "source": [
    "import cv2\n",
    "\n",
    "img = cv2.imread('./img/blank.jpg')\n",
    "\n",
    "# 4연결 선\n",
    "cv2.line(img, (100, 350), (400, 400), (0,0,255), 20, cv2.LINE_4)   \n",
    "# 8연결 선\n",
    "cv2.line(img, (100, 400), (400, 450), (0,0,255), 20, cv2.LINE_8)    \n",
    "# 안티에일리어싱 선 \n",
    "cv2.line(img, (100, 450), (400, 500), (0,0,255), 20, cv2.LINE_AA)   \n",
    "# 대각선 \n",
    "cv2.line(img, (0,0), (500,500), (0,0,255))                      \n",
    "\n",
    "cv2.imshow('lines', img)\n",
    "cv2.waitKey(0)\n",
    "cv2.destroyAllWindows()\n",
    "cv2.waitKey(1)"
   ]
  },
  {
   "cell_type": "markdown",
   "id": "a670c6be",
   "metadata": {},
   "source": [
    "### 2) 사각형 그리기\n",
    "\n",
    "#### cv2.rectangle() 함수 사용법\n",
    "cv2.rectangle(img, start, end, color[, thickness, lineType])\n",
    "- img: 그림 그릴 이미지, numpy 타입\n",
    "- start: 사각형 시작 좌표, (x,y) 튜플로 지정\n",
    "- end: 사각형 끝 좌표, (x,y) 튜플로 지정\n",
    "- color: 선 색상, BGR(Blue, Green, Red), 0-255\n",
    "- thickness=1 : 선 두께\n",
    "  -1 : 채우기\n",
    "- lineType=cv2.LINE_4/cv2.LINE_8/cv2.LINE_AA\n",
    "  .cv2.LINE_4: 4 연결선 알고리즘<br>\n",
    "  .cv2.LINE_8: 8 연결 선 알고리즘<br>\n",
    "  .cv2.LINE_AA: 안티엘리어싱<br>\n",
    "  .브레젠햄(Bresenham) 알고리즘 사용(https://en.wikipedia.org/wiki/Bresenham%27s_line_algorithm)\n",
    "  "
   ]
  },
  {
   "cell_type": "code",
   "execution_count": 18,
   "id": "15dcdeba",
   "metadata": {},
   "outputs": [
    {
     "data": {
      "text/plain": [
       "-1"
      ]
     },
     "execution_count": 18,
     "metadata": {},
     "output_type": "execute_result"
    }
   ],
   "source": [
    "import cv2\n",
    "\n",
    "img = cv2.imread('./img/blank.jpg')\n",
    "\n",
    "# 사각형 그리기1(왼쪽 상단에서 오른쪽 하단으로)\n",
    "cv2.rectangle(img, (50, 50), (150, 150), (255,0,0) )        \n",
    "# 사각형 그리기1(오른쪽 하단에서 왼쪽 상단으로)\n",
    "cv2.rectangle(img, (300, 300), (100, 100), (0,255,0), 10 )  \n",
    "# 사각형 채워 그리기(오른쪽 상단에서 왼쪽 하단으로)\n",
    "cv2.rectangle(img, (450, 200), (200, 450), (0,0,255), -1 )  \n",
    "\n",
    "cv2.imshow('rectangle', img)\n",
    "cv2.waitKey(0)\n",
    "cv2.destroyAllWindows()\n",
    "cv2.waitKey(1)"
   ]
  },
  {
   "cell_type": "markdown",
   "id": "5788b71d",
   "metadata": {},
   "source": [
    "### 3) 다각형 그리기\n",
    "\n",
    "#### cv2.polylines() 함수 사용법\n",
    "cv2.polylines(img, points, isClosed, color[, thickness, lineType])\n",
    "- img: 그림 그릴 이미지, numpy 타입\n",
    "- points: 꼭지점 좌표, Numpy 배열 리스트\n",
    "- isClosed: 닫힌 도형 여부, True/False\n",
    "- color: 선 색상, BGR(Blue, Green, Red), 0-255\n",
    "- thickness=1 : 선 두께, 채우기 지원 안함\n",
    "- lineType=cv2.LINE_4/cv2.LINE_8/cv2.LINE_AA\n",
    "  .cv2.LINE_4: 4 연결선 알고리즘<br>\n",
    "  .cv2.LINE_8: 8 연결 선 알고리즘<br>\n",
    "  .cv2.LINE_AA: 안티엘리어싱<br>\n",
    "  .브레젠햄(Bresenham) 알고리즘 사용(https://en.wikipedia.org/wiki/Bresenham%27s_line_algorithm)\n"
   ]
  },
  {
   "cell_type": "code",
   "execution_count": 19,
   "id": "8166d41b",
   "metadata": {},
   "outputs": [
    {
     "data": {
      "text/plain": [
       "-1"
      ]
     },
     "execution_count": 19,
     "metadata": {},
     "output_type": "execute_result"
    }
   ],
   "source": [
    "import cv2\n",
    "import numpy as np\n",
    "\n",
    "img = cv2.imread('./img/blank.jpg')\n",
    "\n",
    "# Numpy array로 좌표 생성\n",
    "# 번개 모양 선\n",
    "pts1 = np.array([[50,50], [150,150], [100,140], [200,240]], dtype=np.int32)\n",
    "# 삼각형\n",
    "pts2 = np.array([[350,50], [250,200], [450,200]], dtype=np.int32) \n",
    "# 삼각형\n",
    "pts3 = np.array([[150,300], [50,450], [250,450]], dtype=np.int32) \n",
    "# 5각형\n",
    "pts4 = np.array([[350,250], [450,350], [400,450], [300,450], [250,350]],\\\n",
    "                 dtype=np.int32) \n",
    "\n",
    "    \n",
    "# 다각형 그리기\n",
    "cv2.polylines(img, [pts1], False, (255,0,0))       # 번개 모양 선 그리기\n",
    "cv2.polylines(img, [pts2], False, (0,0,0), 10)     # 3각형 열린 선 그리기 \n",
    "cv2.polylines(img, [pts3], True, (0,0,255), 10)    # 3각형 닫힌 도형 그리기\n",
    "cv2.polylines(img, [pts4], True, (0,0,0))          # 5각형 닫힌 도형 그리기\n",
    "\n",
    "cv2.imshow('polyline', img)\n",
    "cv2.waitKey(0)\n",
    "cv2.destroyAllWindows()\n",
    "cv2.waitKey(1)"
   ]
  },
  {
   "cell_type": "markdown",
   "id": "f7854850",
   "metadata": {},
   "source": [
    "### 4) 원/타원/호 그리기\n",
    "\n",
    "#### cv2.circle() 함수 사용법: 원 제작\n",
    "cv2.circle(img, center, radius, color[, thickness, lineType])\n",
    "- img: 그림 그릴 이미지, numpy 타입\n",
    "- center: 원점 좌표\n",
    "- radius: 반지름\n",
    "- color: 선 색상, BGR(Blue, Green, Red), 0-255\n",
    "- thickness=1 : 선 두께, -1 채우기 지원\n",
    "- lineType=cv2.LINE_4/cv2.LINE_8/cv2.LINE_AA\n",
    "  .cv2.LINE_4: 4 연결선 알고리즘\n",
    "  .cv2.LINE_8: 8 연결 선 알고리즘\n",
    "  .cv2.LINE_AA: 안티엘리어싱\n",
    "  .브레젠햄(Bresenham) 알고리즘 사용(https://en.wikipedia.org/wiki/Bresenham%27s_line_algorithm)"
   ]
  },
  {
   "cell_type": "code",
   "execution_count": 21,
   "id": "818f307d",
   "metadata": {},
   "outputs": [
    {
     "data": {
      "text/plain": [
       "-1"
      ]
     },
     "execution_count": 21,
     "metadata": {},
     "output_type": "execute_result"
    }
   ],
   "source": [
    "import cv2\n",
    "\n",
    "img = cv2.imread('./img/blank.jpg')\n",
    "\n",
    "\n",
    "# 원점(150,150), 반지름 100\n",
    "cv2.circle(img, (150, 150), 100, (255,0,0))     \n",
    "# 원점(300,150), 반지름 70\n",
    "cv2.circle(img, (300, 150), 70, (0,255,0), 5)   \n",
    "# 원점(400,150), 반지름 50, 채우기\n",
    "cv2.circle(img, (400, 150), 50, (0,0,255), -1) \n",
    "\n",
    "cv2.imshow('circle', img)\n",
    "cv2.waitKey(0)\n",
    "cv2.destroyAllWindows()\n",
    "cv2.waitKey(1)"
   ]
  },
  {
   "cell_type": "markdown",
   "id": "b74ecfdb",
   "metadata": {},
   "source": [
    "#### cv2.ellipse() 함수 사용법: 호/타원 제작\n",
    "cv2.ellipse(img, center, axes, angle, from, to, color[, thickness, lineType])\n",
    "- img: 그림 그릴 이미지, numpy 타입\n",
    "- center: 원점 좌표\n",
    "- axes: 기준 축 길이\n",
    "- angle: 기준 축 회전 각도\n",
    "- from, to: 호를 그릴 시작 각도와 끝 각도"
   ]
  },
  {
   "cell_type": "code",
   "execution_count": 23,
   "id": "f3ea99c1",
   "metadata": {},
   "outputs": [
    {
     "data": {
      "text/plain": [
       "-1"
      ]
     },
     "execution_count": 23,
     "metadata": {},
     "output_type": "execute_result"
    }
   ],
   "source": [
    "import cv2\n",
    "\n",
    "img = cv2.imread('./img/blank.jpg')\n",
    "\n",
    "# 원점(50,300), 반지름(50), 회전 0, 0도 부터 360도 그리기\n",
    "cv2.ellipse(img, (50, 300), (50, 50), 0, 0, 360, (0,0,255))    \n",
    "# 원점(150, 300), 아래 반원 그리기\n",
    "cv2.ellipse(img, (150, 300), (50, 50), 0, 0, 180, (255,0,0))    \n",
    "# 원점(200, 300), 윗 반원 그리기\n",
    "cv2.ellipse(img, (200, 300), (50, 50), 0, 181, 360, (0,0,255))   \n",
    "\n",
    "cv2.imshow('circle', img)\n",
    "cv2.waitKey(0)\n",
    "cv2.destroyAllWindows()\n",
    "cv2.waitKey(1)"
   ]
  },
  {
   "cell_type": "code",
   "execution_count": 24,
   "id": "7949372a",
   "metadata": {},
   "outputs": [
    {
     "data": {
      "text/plain": [
       "-1"
      ]
     },
     "execution_count": 24,
     "metadata": {},
     "output_type": "execute_result"
    }
   ],
   "source": [
    "import cv2\n",
    "\n",
    "img = cv2.imread('./img/blank.jpg')\n",
    "\n",
    "\n",
    "# 원점(325, 300), 반지름(75,50) 납작한 타원 그리기\n",
    "cv2.ellipse(img, (325, 300), (75, 50), 0, 0, 360, (0,255,0))    \n",
    "# 원점(450,300), 반지름(50,75) 홀쭉한 타원 그리기\n",
    "cv2.ellipse(img, (450, 300), (50, 75), 0, 0, 360, (255,0,255))\n",
    "\n",
    "cv2.imshow('circle', img)\n",
    "cv2.waitKey(0)\n",
    "cv2.destroyAllWindows()\n",
    "cv2.waitKey(1)"
   ]
  },
  {
   "cell_type": "code",
   "execution_count": 25,
   "id": "726e9fab",
   "metadata": {},
   "outputs": [
    {
     "data": {
      "text/plain": [
       "-1"
      ]
     },
     "execution_count": 25,
     "metadata": {},
     "output_type": "execute_result"
    }
   ],
   "source": [
    "import cv2\n",
    "\n",
    "img = cv2.imread('./img/blank.jpg')\n",
    "\n",
    "# 원점(50, 425), 반지름(50,75), 회전 15도\n",
    "cv2.ellipse(img, (50, 425), (50, 75), 15, 0, 360, (0,0,0))    \n",
    "# 원점(200,425), 반지름(50,75), 회전 45도\n",
    "cv2.ellipse(img, (200, 425), (50, 75), 45, 0, 360, (0,0,0))    \n",
    "\n",
    "cv2.imshow('circle', img)\n",
    "cv2.waitKey(0)\n",
    "cv2.destroyAllWindows()\n",
    "cv2.waitKey(1)"
   ]
  },
  {
   "cell_type": "code",
   "execution_count": 26,
   "id": "b59621ef",
   "metadata": {},
   "outputs": [
    {
     "data": {
      "text/plain": [
       "-1"
      ]
     },
     "execution_count": 26,
     "metadata": {},
     "output_type": "execute_result"
    }
   ],
   "source": [
    "import cv2\n",
    "\n",
    "img = cv2.imread('./img/blank.jpg')\n",
    "\n",
    "# 원점(350,425), 홀쭉한 타원 45도 회전 후 아랫 반원 그리기\n",
    "cv2.ellipse(img, (350, 425), (50, 75), 45, 0, 180, (0,0,255))    \n",
    "# 원점(400,425), 홀쭉한 타원 45도 회전 후 윗 반원 그리기\n",
    "cv2.ellipse(img, (400, 425), (50, 75), 45, 181, 360, (255,0,0))    \n",
    "\n",
    "cv2.imshow('circle', img)\n",
    "cv2.waitKey(0)\n",
    "cv2.destroyAllWindows()\n",
    "cv2.waitKey(1)"
   ]
  },
  {
   "cell_type": "markdown",
   "id": "a83d0e36",
   "metadata": {},
   "source": [
    "### 5) 이미지에 글자 쓰기\n",
    "\n",
    "#### cv2.putText() 함수 사용법: 원 제작\n",
    "cv2.putText(img, text, point, fontFace, fontSize, color[, thickness, lineType])\n",
    "- img: 문자열을 표시할 이미지, numpy 타입\n",
    "- text: 표시할 문자열\n",
    "- point: 문자열을 표시할 좌표(문자열 기준 좌측 하단)\n",
    "- fontFace: 글꼴\n",
    "- fontSize: 글꼴 크기\n",
    "\n",
    "#### 산세리프체: 세리프가 없다는 의미\n",
    "즉, 고딕체 처럼 획에 특별히 모양이 낸 것이 없는 글꼴을 지칭<br>\n",
    "cv2.FONT_HERSHEY_PLAIN: 산세리프체 작은 글꼴<br>\n",
    "cv2.FONT_HERSHEY_SIMPLE: 산세리프체 일반 글꼴<br>\n",
    "cv2.FONT_HERSHEY_DUPLEX: 산세리프체 진한 글꼴<br>\n",
    "\n",
    "#### 세리프체: 명조체처럼 글자 끝에 장식을 붙여 모양을 낸 글꼴 통틀어 지칭\n",
    "cv2.FONT_HERSHEY_COMPLEX_SMALL: 세리프체 작은 글꼴<br>\n",
    "cv2.FONT_HERSHEY_COMPLEX: 세리프체 일반 글꼴<br>\n",
    "cv2.FONT_HERSHEY_TRIPLEX: 세리프체 진한 글꼴<br>\n",
    "\n",
    "#### 필기체\n",
    "cv2.FONT_HERSHEY_SCRIPT_SIMPLEX: 필기체 산세리프 글꼴<br>\n",
    "cv2.FONT_HERSHEY_SCRIPT_COMPLEX: 필기체 세리프 글꼴<br>\n",
    "cv2.FONT_ITALIC: 이탤리체 플래그<br>\n"
   ]
  },
  {
   "cell_type": "code",
   "execution_count": 28,
   "id": "b14e1204",
   "metadata": {},
   "outputs": [
    {
     "data": {
      "text/plain": [
       "-1"
      ]
     },
     "execution_count": 28,
     "metadata": {},
     "output_type": "execute_result"
    }
   ],
   "source": [
    "import cv2\n",
    "\n",
    "img = cv2.imread('./img/blank.jpg')\n",
    "\n",
    "# 산세리프체 작은 글꼴(sans-serif small)\n",
    "cv2.putText(img, \"Plain\", (50, 30), cv2.FONT_HERSHEY_PLAIN, 1, (0, 0,0))            \n",
    "# sans-serif normal\n",
    "cv2.putText(img, \"Simplex\", (50, 70), cv2.FONT_HERSHEY_SIMPLEX, 1, (0, 0,0))        \n",
    "# sans-serif bold\n",
    "cv2.putText(img, \"Duplex\", (50, 110), cv2.FONT_HERSHEY_DUPLEX, 1, (0, 0,0))         \n",
    "# sans-serif normall\n",
    "cv2.putText(img, \"Simplex\", (200, 110), cv2.FONT_HERSHEY_SIMPLEX, 2, (0,0,250)) \n",
    "\n",
    "cv2.imshow('draw text', img)\n",
    "cv2.waitKey()\n",
    "cv2.destroyAllWindows()\n",
    "cv2.waitKey(1)"
   ]
  },
  {
   "cell_type": "code",
   "execution_count": 29,
   "id": "67f71bf4",
   "metadata": {},
   "outputs": [
    {
     "data": {
      "text/plain": [
       "-1"
      ]
     },
     "execution_count": 29,
     "metadata": {},
     "output_type": "execute_result"
    }
   ],
   "source": [
    "import cv2\n",
    "\n",
    "img = cv2.imread('./img/blank.jpg')\n",
    "\n",
    "# 세리프체 작은 글꼴(serif small)\n",
    "cv2.putText(img, \"Complex Small\", (50, 180), cv2.FONT_HERSHEY_COMPLEX_SMALL, \\\n",
    "            1, (0, 0,0))   \n",
    "# serif normal\n",
    "cv2.putText(img, \"Complex\", (50, 220), cv2.FONT_HERSHEY_COMPLEX, 1, (0, 0,0))\n",
    "# serif bold\n",
    "cv2.putText(img, \"Triplex\", (50, 260), cv2.FONT_HERSHEY_TRIPLEX, 1, (0, 0,0))               \n",
    "# serif normal\n",
    "cv2.putText(img, \"Complex\", (200, 260), cv2.FONT_HERSHEY_TRIPLEX, 2, (0,0,255)) \n",
    "\n",
    "cv2.imshow('draw text', img)\n",
    "cv2.waitKey()\n",
    "cv2.destroyAllWindows()\n",
    "cv2.waitKey(1)"
   ]
  },
  {
   "cell_type": "code",
   "execution_count": 31,
   "id": "e25f8df3",
   "metadata": {},
   "outputs": [
    {
     "data": {
      "text/plain": [
       "-1"
      ]
     },
     "execution_count": 31,
     "metadata": {},
     "output_type": "execute_result"
    }
   ],
   "source": [
    "import cv2\n",
    "\n",
    "img = cv2.imread('./img/blank.jpg')\n",
    "# hand-wringing sans-serif\n",
    "cv2.putText(img, \"Script Simplex\", (50, 330), cv2.FONT_HERSHEY_SCRIPT_SIMPLEX, \\\n",
    "            1, (0, 0,0)) \n",
    "# hand-wringing serif\n",
    "cv2.putText(img, \"Script Complex\", (50, 370), cv2.FONT_HERSHEY_SCRIPT_COMPLEX, \\\n",
    "            1, (0, 0,0)) \n",
    "\n",
    "# sans-serif + italic\n",
    "cv2.putText(img, \"Plain Italic\", (50, 430), \\\n",
    "            cv2.FONT_HERSHEY_PLAIN | cv2.FONT_ITALIC, 1, (0, 0,0)) \n",
    "# sarif + italic\n",
    "cv2.putText(img, \"Complex Italic\", (50, 470), \\\n",
    "            cv2.FONT_HERSHEY_COMPLEX | cv2.FONT_ITALIC, 1, (0, 0,0)) \n",
    "\n",
    "cv2.imshow('draw text', img)\n",
    "cv2.waitKey()\n",
    "cv2.destroyAllWindows()\n",
    "cv2.waitKey(1)"
   ]
  },
  {
   "cell_type": "markdown",
   "id": "5cfd3ac5",
   "metadata": {},
   "source": [
    "### 6) 창 관리\n",
    "\n",
    "#### cv2.namedWindow() 사용법: window에 이름 부여, 이름을 갖는 창 열기\n",
    "cv2.namedWindow(title [, option])\n",
    "- title: 창 이름, 제목 줄에 표시\n",
    "- option: 창 옵션, 'cv2.WINDOW_'로 시작<br>\n",
    "cv2.WINDOW_NORMAL: 임의 크기, 사용자 창 크기 조정 가능<br>\n",
    "cv2.WINDOW_AUTOSIZE: 이미지와 같은 크기, 창 크기 재조정 불가능"
   ]
  },
  {
   "cell_type": "code",
   "execution_count": 43,
   "id": "63c57202",
   "metadata": {},
   "outputs": [
    {
     "data": {
      "text/plain": [
       "-1"
      ]
     },
     "execution_count": 43,
     "metadata": {},
     "output_type": "execute_result"
    }
   ],
   "source": [
    "import cv2\n",
    "\n",
    "file_path = './img/girl.jpg'\n",
    "img = cv2.imread(file_path) # 이미지를 기본 값으로 읽기\n",
    "img_gray = cv2.imread(file_path, cv2.IMREAD_GRAYSCALE) # 이미지를 그레이 스케일로 읽기\n",
    "\n",
    "\n",
    "cv2.namedWindow('origin')                   # origin 이름으로 창 생성\n",
    "cv2.namedWindow('gray', cv2.WINDOW_NORMAL)  # gray 이름으로 창 생성\n",
    "\n",
    "cv2.imshow('origin', img)     # origin 창에 이미지 표시\n",
    "cv2.imshow('gray', img_gray)  # gray 창에 이미지 표시\n",
    "\n",
    "cv2.waitKey(0)  \n",
    "cv2.destroyAllWindows() \n",
    "cv2.waitKey(1)"
   ]
  },
  {
   "cell_type": "markdown",
   "id": "bb0eaf55",
   "metadata": {},
   "source": [
    "#### cv2.resizeWindow() 사용법: 창 크기 변경\n",
    "cv2.resizeWindow(title, width, height)<br>\n",
    "- title: 크기를 변경할 창 이름<br>\n",
    "- width, height: 크기를 변경할 창의 폭과 높이<br>\n",
    "\n",
    "-----\n",
    "\n",
    "#### cv2.moveWindow() 사용법: 창 위치 이동\n",
    "cv2.moveWindow(title, x, y)\n",
    " - title: 위치를 변경할 창 이름\n",
    " - x,y: 이동할 창의 위치\n",
    " "
   ]
  },
  {
   "cell_type": "code",
   "execution_count": 44,
   "id": "db4b254a",
   "metadata": {},
   "outputs": [
    {
     "data": {
      "text/plain": [
       "-1"
      ]
     },
     "execution_count": 44,
     "metadata": {},
     "output_type": "execute_result"
    }
   ],
   "source": [
    "# cv2.WINDOW_NORMAL: 원본이미지 크기로 만들 수 있지만 사용자가 크기를 바꿀 수 있다.\n",
    "# cv2.WINDOW_AUTOSIZE: 원본이미지 크기로 고정하여 윈도우를 생성한다.(defualt)\n",
    "cv2.namedWindow('origin')                   # origin 이름으로 창 생성\n",
    "cv2.namedWindow('gray', cv2.WINDOW_NORMAL)  # gray 이름으로 창 생성\n",
    "\n",
    "cv2.imshow('origin', img)   # origin 창에 이미지 표시\n",
    "cv2.imshow('gray', img_gray) \n",
    "\n",
    "cv2.moveWindow('origin', 0, 0)  # 창 위치 변경\n",
    "cv2.moveWindow('gray', 100, 100)  # 창 위치 변경\n",
    "\n",
    "cv2.waitKey(0)      # 아무키나 누르면\n",
    "cv2.resizeWindow('origin', 100, 100)  # 창 크기 변경 (변경 안됨)\n",
    "cv2.resizeWindow('gray', 100, 100)  # 창 크기 변경 (변경 됨)\n",
    "\n",
    "cv2.waitKey(0)      \n",
    "cv2.destroyAllWindows()  \n",
    "cv2.waitKey(1)"
   ]
  },
  {
   "cell_type": "markdown",
   "id": "341e8b33",
   "metadata": {},
   "source": [
    "### 7) 마우스 이벤트\n",
    "\n",
    "#### 클릭으로 원 그리기"
   ]
  },
  {
   "cell_type": "code",
   "execution_count": 45,
   "id": "62995ac3",
   "metadata": {},
   "outputs": [
    {
     "name": "stdout",
     "output_type": "stream",
     "text": [
      "0 287 436\n",
      "0 304 389\n",
      "0 326 333\n",
      "0 335 307\n",
      "0 337 297\n",
      "0 336 286\n",
      "0 333 280\n",
      "0 330 278\n",
      "0 325 275\n",
      "0 319 272\n",
      "0 316 272\n",
      "0 315 270\n",
      "0 314 268\n",
      "0 312 266\n",
      "0 311 266\n",
      "1 312 266\n",
      "0 312 266\n",
      "4 312 266\n",
      "0 312 266\n",
      "0 312 265\n",
      "0 311 265\n",
      "0 306 263\n",
      "0 297 258\n",
      "0 288 252\n",
      "0 283 248\n",
      "0 281 246\n",
      "0 279 243\n",
      "0 277 240\n",
      "0 268 226\n",
      "0 264 221\n",
      "0 261 217\n",
      "0 260 216\n",
      "0 259 215\n",
      "0 259 214\n",
      "0 258 214\n",
      "0 257 213\n",
      "0 255 212\n",
      "0 253 211\n",
      "1 246 208\n",
      "0 246 208\n",
      "0 239 207\n",
      "0 231 204\n",
      "0 222 202\n",
      "0 215 201\n",
      "0 207 200\n",
      "0 197 200\n",
      "0 183 200\n",
      "0 175 199\n",
      "0 153 199\n",
      "0 145 198\n",
      "0 141 198\n",
      "0 140 198\n",
      "0 139 199\n",
      "0 138 201\n",
      "0 137 204\n",
      "0 135 209\n",
      "0 134 212\n",
      "0 132 216\n",
      "0 132 220\n",
      "0 130 225\n",
      "0 130 230\n",
      "0 130 239\n",
      "0 131 242\n",
      "0 135 251\n",
      "0 139 255\n",
      "0 149 258\n",
      "0 167 261\n",
      "0 193 261\n",
      "4 223 258\n",
      "0 240 255\n",
      "0 261 250\n",
      "0 277 244\n",
      "0 284 240\n",
      "0 287 237\n",
      "0 288 234\n",
      "0 288 234\n",
      "1 288 234\n",
      "0 288 234\n",
      "0 288 234\n",
      "0 288 234\n",
      "4 288 234\n",
      "0 287 235\n",
      "0 287 235\n",
      "0 287 237\n",
      "0 285 242\n",
      "0 284 249\n",
      "1 283 252\n",
      "0 278 266\n",
      "0 278 266\n",
      "0 276 269\n",
      "0 272 273\n",
      "4 257 275\n",
      "0 245 276\n",
      "0 218 276\n",
      "0 201 276\n",
      "0 185 276\n",
      "1 183 277\n",
      "0 183 277\n",
      "0 183 277\n",
      "4 184 277\n",
      "0 188 279\n",
      "0 193 280\n",
      "0 197 282\n",
      "0 207 286\n",
      "0 215 290\n",
      "1 224 294\n",
      "0 224 295\n",
      "0 224 295\n",
      "4 224 294\n",
      "0 224 294\n",
      "0 223 290\n",
      "0 221 280\n",
      "0 218 269\n",
      "0 210 252\n",
      "0 196 229\n",
      "0 182 205\n",
      "0 162 176\n",
      "0 142 145\n",
      "0 126 113\n",
      "0 120 103\n",
      "0 111 87\n",
      "0 106 76\n",
      "0 102 70\n",
      "0 101 69\n",
      "0 100 69\n",
      "0 98 69\n",
      "0 97 69\n",
      "0 95 69\n",
      "0 91 67\n",
      "0 85 65\n",
      "0 73 63\n",
      "0 69 60\n",
      "0 65 54\n",
      "0 63 49\n",
      "0 56 34\n",
      "0 48 19\n",
      "0 45 13\n",
      "0 40 4\n",
      "0 41 3\n",
      "0 53 17\n",
      "0 71 37\n",
      "0 88 54\n",
      "0 123 86\n",
      "0 169 126\n",
      "0 188 142\n",
      "0 206 157\n",
      "0 210 159\n",
      "0 211 159\n",
      "1 211 159\n",
      "4 211 159\n",
      "0 211 159\n",
      "0 211 159\n",
      "0 212 159\n",
      "0 217 158\n",
      "0 227 157\n",
      "0 267 155\n",
      "0 349 155\n",
      "0 436 160\n",
      "0 482 295\n",
      "0 438 281\n",
      "0 412 272\n",
      "0 367 258\n",
      "0 325 246\n",
      "0 289 239\n",
      "0 277 237\n",
      "0 269 235\n",
      "0 267 234\n",
      "0 266 234\n",
      "0 266 234\n",
      "0 266 234\n",
      "0 266 233\n",
      "0 267 233\n",
      "0 267 233\n",
      "0 267 233\n",
      "0 267 233\n",
      "0 267 233\n",
      "0 268 233\n",
      "0 268 233\n",
      "0 268 233\n",
      "0 268 233\n",
      "0 268 233\n",
      "0 268 233\n",
      "0 268 234\n",
      "0 269 234\n",
      "0 269 234\n",
      "0 269 234\n",
      "0 269 235\n",
      "0 269 235\n",
      "0 269 235\n",
      "0 269 236\n",
      "0 269 237\n",
      "0 269 237\n",
      "0 269 238\n"
     ]
    },
    {
     "data": {
      "text/plain": [
       "-1"
      ]
     },
     "execution_count": 45,
     "metadata": {},
     "output_type": "execute_result"
    }
   ],
   "source": [
    "import cv2\n",
    "\n",
    "title = 'mouse event'                   # 창 제목\n",
    "img = cv2.imread('./img/blank.jpg')     # 백색 이미지 읽기\n",
    "cv2.imshow(title, img)                  # 백색 이미지 표시\n",
    "\n",
    "def onMouse(event, x, y, flags, param):         # 아무스 콜백 함수 구현 ---①\n",
    "    print(event, x, y, )                        # 파라미터 출력\n",
    "    if event == cv2.EVENT_LBUTTONDOWN:          # 왼쪽 버튼 누름인 경우 ---②\n",
    "        cv2.circle(img, (x,y), 30, (0,0,0), -1) # 지름 30 크기의 검은색 원을 해당 좌표에 그림\n",
    "        cv2.imshow(title, img)                  # 그려진 이미지를 다시 표시 ---③\n",
    "\n",
    "cv2.setMouseCallback(title, onMouse)    # 마우스 콜백 함수를 GUI 윈도우에 등록 ---④\n",
    "\n",
    "while True:\n",
    "    if cv2.waitKey(0) & 0xFF == 27:     # esc로 종료\n",
    "        break\n",
    "        \n",
    "cv2.destroyAllWindows()\n",
    "cv2.waitKey(1)"
   ]
  },
  {
   "cell_type": "markdown",
   "id": "ef0bc2e3",
   "metadata": {},
   "source": [
    "#### 키보드와 마우스를 함께 사용하는 이벤트"
   ]
  },
  {
   "cell_type": "code",
   "execution_count": 48,
   "id": "86b88fb3",
   "metadata": {
    "scrolled": true
   },
   "outputs": [
    {
     "name": "stdout",
     "output_type": "stream",
     "text": [
      "0 167 26 0\n",
      "0 108 79 0\n",
      "0 61 125 0\n",
      "0 45 136 0\n",
      "0 39 138 0\n",
      "0 38 138 0\n",
      "0 39 138 0\n",
      "0 45 136 0\n",
      "0 62 136 0\n",
      "0 106 141 0\n",
      "0 141 148 0\n",
      "0 162 153 0\n",
      "0 174 156 0\n",
      "0 180 157 0\n",
      "0 181 157 0\n",
      "1 181 157 1\n",
      "0 180 157 1\n",
      "4 180 157 1\n",
      "0 180 157 0\n"
     ]
    },
    {
     "data": {
      "text/plain": [
       "-1"
      ]
     },
     "execution_count": 48,
     "metadata": {},
     "output_type": "execute_result"
    }
   ],
   "source": [
    "import cv2\n",
    "\n",
    "title = 'mouse event'                   # 창 제목\n",
    "img = cv2.imread('./img/blank.jpg')     # 백색 이미지 읽기\n",
    "cv2.imshow(title, img)                  # 백색 이미지 표시\n",
    "\n",
    "colors = {'black':(0,0,0),\n",
    "         'red' : (0,0,255),\n",
    "         'blue':(255,0,0),\n",
    "         'green': (0,255,0) } # 색상 미리 정의\n",
    "\n",
    "def onMouse(event, x, y, flags, param): # 아무스 콜백 함수 구현 ---①\n",
    "    print(event, x, y, flags)           # 파라미터 출력\n",
    "    color = colors['black']\n",
    "    if event == cv2.EVENT_LBUTTONDOWN:  # 왼쪽 버튼 누름인 경우 ---②\n",
    "        # 컨트롤키와 쉬프트 키를 모두 누른 경우\n",
    "        if flags & cv2.EVENT_FLAG_CTRLKEY and flags & cv2.EVENT_FLAG_SHIFTKEY : \n",
    "            color = colors['green']\n",
    "        elif flags & cv2.EVENT_FLAG_SHIFTKEY : # 쉬프트 키를 누른 경우\n",
    "            color = colors['blue']\n",
    "        elif flags & cv2.EVENT_FLAG_CTRLKEY : # 컨트롤 키를 누른 경우\n",
    "            color = colors['red']\n",
    "        # 지름 30 크기의 검은색 원을 해당 좌표에 그림\n",
    "        cv2.circle(img, (x,y), 30, color, -1) \n",
    "        cv2.imshow(title, img)          # 그려진 이미지를 다시 표시 ---③\n",
    "\n",
    "cv2.setMouseCallback(title, onMouse)    # 마우스 콜백 함수를 GUI 윈도우에 등록 ---④\n",
    "\n",
    "while True:\n",
    "    if cv2.waitKey(0) & 0xFF == 27:     # esc로 종료\n",
    "        break\n",
    "cv2.destroyAllWindows()\n",
    "cv2.waitKey(1)"
   ]
  },
  {
   "cell_type": "markdown",
   "id": "c6142a60",
   "metadata": {},
   "source": [
    "### 8) 트랙바로 원하는 값 조절"
   ]
  },
  {
   "cell_type": "code",
   "execution_count": 49,
   "id": "67c15491",
   "metadata": {},
   "outputs": [
    {
     "name": "stdout",
     "output_type": "stream",
     "text": [
      "255\n",
      "255 255 255\n",
      "254\n",
      "255 254 255\n",
      "247\n",
      "255 247 255\n",
      "240\n",
      "255 240 255\n",
      "231\n",
      "255 231 255\n",
      "225\n",
      "255 225 255\n",
      "218\n",
      "255 218 255\n",
      "205\n",
      "255 205 255\n",
      "201\n",
      "255 201 255\n",
      "201\n",
      "255 201 255\n",
      "201\n",
      "255 201 255\n",
      "120\n",
      "255 201 120\n",
      "119\n",
      "255 201 119\n",
      "118\n",
      "255 201 118\n",
      "116\n",
      "255 201 116\n",
      "112\n",
      "255 201 112\n",
      "109\n",
      "255 201 109\n",
      "103\n",
      "255 201 103\n",
      "95\n",
      "255 201 95\n",
      "93\n",
      "255 201 93\n",
      "88\n",
      "255 201 88\n",
      "85\n",
      "255 201 85\n",
      "84\n",
      "255 201 84\n",
      "84\n",
      "255 201 84\n",
      "101\n",
      "255 201 101\n",
      "103\n",
      "255 201 103\n",
      "104\n",
      "255 201 104\n",
      "107\n",
      "255 201 107\n",
      "110\n",
      "255 201 110\n",
      "112\n",
      "255 201 112\n",
      "115\n",
      "255 201 115\n",
      "116\n",
      "255 201 116\n",
      "117\n",
      "255 201 117\n",
      "117\n",
      "255 201 117\n",
      "117\n",
      "255 201 117\n",
      "117\n",
      "255 201 117\n",
      "118\n",
      "255 201 118\n",
      "118\n",
      "255 201 118\n",
      "120\n",
      "255 201 120\n",
      "121\n",
      "255 201 121\n",
      "122\n",
      "255 201 122\n",
      "126\n",
      "255 201 126\n",
      "129\n",
      "255 201 129\n",
      "132\n",
      "255 201 132\n",
      "133\n",
      "255 201 133\n",
      "135\n",
      "255 201 135\n",
      "136\n",
      "255 201 136\n",
      "137\n",
      "255 201 137\n",
      "137\n",
      "255 201 137\n",
      "138\n",
      "255 201 138\n",
      "138\n",
      "255 201 138\n",
      "138\n",
      "255 201 138\n",
      "139\n",
      "255 201 139\n",
      "139\n",
      "255 201 139\n",
      "140\n",
      "255 201 140\n",
      "141\n",
      "255 201 141\n",
      "142\n",
      "255 201 142\n",
      "144\n",
      "255 201 144\n",
      "145\n",
      "255 201 145\n",
      "146\n",
      "255 201 146\n",
      "146\n",
      "255 201 146\n",
      "146\n",
      "255 201 146\n",
      "146\n",
      "255 201 146\n",
      "146\n",
      "255 201 146\n",
      "145\n",
      "255 201 145\n",
      "145\n",
      "255 201 145\n",
      "143\n",
      "255 201 143\n",
      "142\n",
      "255 201 142\n",
      "141\n",
      "255 201 141\n",
      "139\n",
      "255 201 139\n",
      "137\n",
      "255 201 137\n",
      "133\n",
      "255 201 133\n",
      "132\n",
      "255 201 132\n",
      "129\n",
      "255 201 129\n",
      "128\n",
      "255 201 128\n",
      "127\n",
      "255 201 127\n",
      "127\n",
      "255 201 127\n",
      "127\n",
      "255 201 127\n",
      "127\n",
      "255 201 127\n",
      "127\n",
      "255 201 127\n",
      "255\n",
      "255 201 127\n",
      "254\n",
      "254 201 127\n",
      "254\n",
      "254 201 127\n",
      "249\n",
      "249 201 127\n",
      "238\n",
      "238 201 127\n",
      "228\n",
      "228 201 127\n",
      "208\n",
      "208 201 127\n",
      "188\n",
      "188 201 127\n",
      "169\n",
      "169 201 127\n",
      "163\n",
      "163 201 127\n",
      "152\n",
      "152 201 127\n",
      "148\n",
      "148 201 127\n",
      "145\n",
      "145 201 127\n",
      "141\n",
      "141 201 127\n",
      "137\n",
      "137 201 127\n",
      "133\n",
      "133 201 127\n",
      "129\n",
      "129 201 127\n",
      "124\n",
      "124 201 127\n",
      "112\n",
      "112 201 127\n",
      "104\n",
      "104 201 127\n",
      "99\n",
      "99 201 127\n",
      "83\n",
      "83 201 127\n",
      "73\n",
      "73 201 127\n",
      "69\n",
      "69 201 127\n",
      "64\n",
      "64 201 127\n",
      "61\n",
      "61 201 127\n",
      "61\n",
      "61 201 127\n",
      "60\n",
      "60 201 127\n",
      "60\n",
      "60 201 127\n",
      "59\n",
      "59 201 127\n",
      "59\n",
      "59 201 127\n",
      "59\n",
      "59 201 127\n",
      "59\n",
      "59 201 127\n",
      "58\n",
      "58 201 127\n",
      "58\n",
      "58 201 127\n",
      "58\n",
      "58 201 127\n",
      "57\n",
      "57 201 127\n",
      "57\n",
      "57 201 127\n",
      "57\n",
      "57 201 127\n",
      "56\n",
      "56 201 127\n",
      "52\n",
      "52 201 127\n",
      "48\n",
      "48 201 127\n",
      "42\n",
      "42 201 127\n",
      "39\n",
      "39 201 127\n",
      "36\n",
      "36 201 127\n",
      "36\n",
      "36 201 127\n",
      "35\n",
      "35 201 127\n",
      "35\n",
      "35 201 127\n",
      "201\n",
      "35 201 127\n",
      "200\n",
      "35 200 127\n",
      "193\n",
      "35 193 127\n",
      "181\n",
      "35 181 127\n",
      "171\n",
      "35 171 127\n",
      "162\n",
      "35 162 127\n",
      "137\n",
      "35 137 127\n",
      "123\n",
      "35 123 127\n",
      "116\n",
      "35 116 127\n",
      "116\n",
      "35 116 127\n",
      "116\n",
      "35 116 127\n",
      "118\n",
      "35 116 118\n",
      "118\n",
      "35 116 118\n",
      "118\n",
      "35 116 118\n",
      "118\n",
      "35 116 118\n",
      "117\n",
      "35 116 117\n",
      "117\n",
      "35 116 117\n",
      "116\n",
      "35 116 116\n",
      "111\n",
      "35 116 111\n",
      "104\n",
      "35 116 104\n",
      "99\n",
      "35 116 99\n",
      "90\n",
      "35 116 90\n",
      "82\n",
      "35 116 82\n",
      "77\n",
      "35 116 77\n",
      "76\n",
      "35 116 76\n",
      "76\n",
      "35 116 76\n",
      "76\n",
      "35 116 76\n",
      "81\n",
      "35 116 81\n",
      "73\n",
      "35 116 73\n",
      "66\n",
      "35 116 66\n",
      "64\n",
      "35 116 64\n",
      "64\n",
      "35 116 64\n",
      "64\n",
      "35 116 64\n",
      "64\n",
      "35 116 64\n",
      "63\n",
      "35 116 63\n",
      "61\n",
      "35 116 61\n",
      "57\n",
      "35 116 57\n",
      "55\n",
      "35 116 55\n",
      "53\n",
      "35 116 53\n",
      "51\n",
      "35 116 51\n",
      "51\n",
      "35 116 51\n",
      "50\n",
      "35 116 50\n",
      "50\n",
      "35 116 50\n",
      "50\n",
      "35 116 50\n",
      "49\n",
      "35 116 49\n",
      "49\n",
      "35 116 49\n",
      "48\n",
      "35 116 48\n",
      "47\n",
      "35 116 47\n",
      "45\n",
      "35 116 45\n",
      "44\n",
      "35 116 44\n",
      "43\n",
      "35 116 43\n",
      "43\n",
      "35 116 43\n",
      "43\n",
      "35 116 43\n",
      "43\n",
      "35 116 43\n",
      "43\n",
      "35 116 43\n",
      "44\n",
      "35 116 44\n",
      "43\n",
      "35 116 43\n",
      "43\n",
      "35 116 43\n",
      "43\n",
      "35 116 43\n",
      "43\n",
      "35 116 43\n",
      "42\n",
      "35 116 42\n",
      "41\n",
      "35 116 41\n",
      "41\n",
      "35 116 41\n",
      "41\n",
      "35 116 41\n",
      "41\n",
      "35 116 41\n",
      "40\n",
      "35 116 40\n",
      "41\n",
      "35 116 41\n",
      "41\n",
      "35 116 41\n",
      "41\n",
      "35 116 41\n",
      "42\n",
      "35 116 42\n",
      "47\n",
      "35 116 47\n",
      "52\n",
      "35 116 52\n",
      "55\n",
      "35 116 55\n",
      "61\n",
      "35 116 61\n",
      "66\n",
      "35 116 66\n",
      "68\n",
      "35 116 68\n",
      "70\n",
      "35 116 70\n",
      "71\n",
      "35 116 71\n",
      "72\n",
      "35 116 72\n",
      "73\n",
      "35 116 73\n",
      "73\n",
      "35 116 73\n",
      "74\n",
      "35 116 74\n",
      "75\n",
      "35 116 75\n",
      "76\n",
      "35 116 76\n",
      "79\n",
      "35 116 79\n",
      "81\n",
      "35 116 81\n",
      "85\n",
      "35 116 85\n",
      "88\n",
      "35 116 88\n",
      "91\n",
      "35 116 91\n",
      "94\n",
      "35 116 94\n",
      "96\n",
      "35 116 96\n",
      "98\n",
      "35 116 98\n",
      "100\n",
      "35 116 100\n",
      "102\n",
      "35 116 102\n",
      "103\n",
      "35 116 103\n",
      "103\n",
      "35 116 103\n",
      "103\n",
      "35 116 103\n",
      "102\n",
      "35 116 102\n",
      "102\n",
      "35 116 102\n",
      "101\n",
      "35 116 101\n",
      "100\n",
      "35 116 100\n",
      "99\n",
      "35 116 99\n",
      "99\n",
      "35 116 99\n",
      "98\n",
      "35 116 98\n",
      "96\n",
      "35 116 96\n",
      "95\n",
      "35 116 95\n",
      "94\n",
      "35 116 94\n",
      "93\n",
      "35 116 93\n",
      "92\n",
      "35 116 92\n",
      "92\n",
      "35 116 92\n",
      "91\n",
      "35 116 91\n",
      "91\n",
      "35 116 91\n",
      "90\n",
      "35 116 90\n",
      "90\n",
      "35 116 90\n",
      "90\n",
      "35 116 90\n",
      "91\n",
      "35 116 91\n",
      "94\n",
      "35 116 94\n",
      "97\n",
      "35 116 97\n",
      "100\n",
      "35 116 100\n",
      "110\n",
      "35 116 110\n",
      "118\n",
      "35 116 118\n",
      "125\n",
      "35 116 125\n",
      "127\n",
      "35 116 127\n",
      "130\n",
      "35 116 130\n",
      "130\n",
      "35 116 130\n",
      "130\n",
      "35 116 130\n",
      "129\n",
      "35 116 129\n",
      "125\n",
      "35 116 125\n",
      "123\n",
      "35 116 123\n",
      "115\n",
      "35 116 115\n",
      "105\n",
      "35 116 105\n",
      "100\n",
      "35 116 100\n",
      "94\n",
      "35 116 94\n",
      "92\n",
      "35 116 92\n",
      "92\n",
      "35 116 92\n",
      "93\n",
      "35 116 93\n",
      "95\n",
      "35 116 95\n",
      "101\n",
      "35 116 101\n",
      "105\n",
      "35 116 105\n",
      "112\n",
      "35 116 112\n",
      "116\n",
      "35 116 116\n",
      "120\n",
      "35 116 120\n",
      "121\n",
      "35 116 121\n",
      "121\n",
      "35 116 121\n",
      "121\n",
      "35 116 121\n"
     ]
    },
    {
     "data": {
      "text/plain": [
       "-1"
      ]
     },
     "execution_count": 49,
     "metadata": {},
     "output_type": "execute_result"
    }
   ],
   "source": [
    "import cv2\n",
    "import numpy as np\n",
    "\n",
    "win_name = 'Trackbar'                                   # 창 이름\n",
    "\n",
    "img = cv2.imread('./img/blank.jpg')\n",
    "cv2.imshow(win_name,img)                                # 초기 이미지를 창에 표시\n",
    "\n",
    "# 트랙바 이벤트 처리 함수 선언 ---①\n",
    "def onChange(x):                                        \n",
    "    print(x)                                            # 트랙바 새로운 위치 값 --- ②\n",
    "    # 'R', 'G', 'B' 각 트랙바 위치 값    --- ③\n",
    "    r = cv2.getTrackbarPos('R',win_name)               \n",
    "    g = cv2.getTrackbarPos('G',win_name)               \n",
    "    b = cv2.getTrackbarPos('B',win_name)               \n",
    "    print(r, g, b)\n",
    "    img[:] = [b,g,r]                                    # 기존 이미지에 새로운 픽셀 값 적용 --- ④\n",
    "    cv2.imshow(win_name, img)                           # 새 이미지 창에 표시\n",
    "\n",
    "# 트랙바 생성    --- ⑤\n",
    "cv2.createTrackbar('R', win_name, 255, 255, onChange)  \n",
    "cv2.createTrackbar('G', win_name, 255, 255, onChange)\n",
    "cv2.createTrackbar('B', win_name, 255, 255, onChange)\n",
    "\n",
    "while True:\n",
    "    if cv2.waitKey(1) & 0xFF == 27:\n",
    "        break\n",
    "        \n",
    "cv2.destroyAllWindows()        \n",
    "cv2.waitKey(1)"
   ]
  },
  {
   "cell_type": "markdown",
   "id": "d0dc07d9",
   "metadata": {},
   "source": [
    "# 3. transform\n",
    "\n",
    "#### warpAffine() 사용법\n",
    "\n",
    "dst = warpAffine(src, mtrx, dsize,[, dst, flags, borderMode, borderValue])\n",
    "\n",
    "- src: 원본이미지(numpy)\n",
    "- mtrx: 변환행렬, numpy, float32\n",
    "- dsize: 결과 이미지 크기\n",
    "- flags: 보간법 알고리즘 선택 플래그\n",
    "  - cv2.INTER_LINEAR: 기본값, 인접한 4개 픽셀 값에 거리 가중치 사용\n",
    "  - cv2.INTER_NEAREST: 가장 가까운 픽셀값 사용\n",
    "  - cv2.INTER_AREA: 픽셀 영역 관계를 이용한 재샘플링\n",
    "  - cv2.INTER_CUBIC: 인접한 16개 픽셀값에 거리 가중치 사용\n",
    "  - cv2.INTER_LANCZOS4: 인접한 8개 픽셀을 이용한 란초 알고리즘\n",
    "  - https://en.wikipedia.org/wiki/Lanczos_resampling\n",
    "  \n",
    " \n",
    "- borderMode: 외곽 영역 보정 플래그\n",
    "  - cv2.BORDER_CONSTANT: 고정 색상 값(999|12345|999)\n",
    "  - cv2.BORDER_REPLICATE: 가장 자리 복제(111|12345|555)\n",
    "  - cv2.BORDER_WRAP: 반복(345|12345|555)\n",
    "  - cv2.BORDER_REFLECT: 반사(321|12345|543)\n",
    "\n",
    "- borderValue: cv2.BORDER_CONSTANT 경우 사용할 색상 값(기본값 = 0)\n",
    "\n",
    "- dst: 이미지로 리턴(numpy)"
   ]
  },
  {
   "cell_type": "code",
   "execution_count": 51,
   "id": "f98ed13a",
   "metadata": {},
   "outputs": [
    {
     "data": {
      "text/plain": [
       "-1"
      ]
     },
     "execution_count": 51,
     "metadata": {},
     "output_type": "execute_result"
    }
   ],
   "source": [
    "import cv2\n",
    "import numpy as np\n",
    "\n",
    "img = cv2.imread('./img/fish.jpg')\n",
    "rows,cols = img.shape[0:2]  # 영상의 크기\n",
    "\n",
    "dx, dy = 100, 50            # 이동할 픽셀 거리\n",
    "\n",
    "# 변환 행렬 생성 \n",
    "mtrx = np.float32([[1, 0, dx],\n",
    "                   [0, 1, dy]])  \n",
    "# 단순 이동\n",
    "dst = cv2.warpAffine(img, mtrx, (cols+dx, rows+dy))   \n",
    "\n",
    "# 탈락된 외곽 픽셀을 파랑색으로 보정\n",
    "dst2 = cv2.warpAffine(img, mtrx, (cols+dx, rows+dy), None, \\\n",
    "                        cv2.INTER_LINEAR, cv2.BORDER_CONSTANT, (255,0,0) )\n",
    "\n",
    "# 탈락된 외곽 픽셀을 원본을 반사 시켜서 보정\n",
    "dst3 = cv2.warpAffine(img, mtrx, (cols+dx, rows+dy), None, \\\n",
    "                        cv2.INTER_LINEAR, cv2.BORDER_WRAP)\n",
    "\n",
    "cv2.imshow('original', img)\n",
    "\n",
    "cv2.waitKey(0)\n",
    "cv2.imshow('trans',dst)\n",
    "\n",
    "cv2.waitKey(0)\n",
    "cv2.imshow('BORDER_CONSTATNT', dst2)\n",
    "\n",
    "cv2.waitKey(0)\n",
    "cv2.imshow('BORDER_FEFLECT', dst3)\n",
    "\n",
    "cv2.waitKey(0)\n",
    "cv2.destroyAllWindows()\n",
    "cv2.waitKey(1)"
   ]
  },
  {
   "cell_type": "markdown",
   "id": "a7378ef0",
   "metadata": {},
   "source": [
    "#### resize : 크기 변환"
   ]
  },
  {
   "cell_type": "code",
   "execution_count": 52,
   "id": "5c9b509c",
   "metadata": {},
   "outputs": [
    {
     "data": {
      "text/plain": [
       "-1"
      ]
     },
     "execution_count": 52,
     "metadata": {},
     "output_type": "execute_result"
    }
   ],
   "source": [
    "import cv2\n",
    "import numpy as np\n",
    "\n",
    "img = cv2.imread('./img/fish.jpg')\n",
    "height, width = img.shape[:2]\n",
    "\n",
    "# 0.5배 축소 변환 행렬\n",
    "m_small = np.float32([[0.5, 0, 0],\n",
    "                       [0, 0.5,0]])  \n",
    "# 2배 확대 변환 행렬\n",
    "m_big = np.float32([[3, 0, 0],\n",
    "                     [0, 3, 0]])  \n",
    "\n",
    "# 보간법 적용 없이 확대 축소\n",
    "dst1 = cv2.warpAffine(img, m_small, (int(height*0.5), int(width*0.5)))\n",
    "dst2 = cv2.warpAffine(img, m_big, (int(height*3), int(width*3)))\n",
    "\n",
    "# 보간법 적용한 확대 축소\n",
    "dst3 = cv2.warpAffine(img, m_small, (int(height*0.5), int(width*0.5)), \\\n",
    "                        None, cv2.INTER_AREA)\n",
    "dst4 = cv2.warpAffine(img, m_big, (int(height*3), int(width*3)), \\\n",
    "                        None, cv2.INTER_CUBIC)\n",
    "\n",
    "# 결과 출력\n",
    "cv2.imshow(\"original\", img)\n",
    "\n",
    "cv2.waitKey(0)\n",
    "cv2.imshow(\"small\", dst1)\n",
    "cv2.imshow(\"small INTER_AREA\", dst3)\n",
    "\n",
    "cv2.waitKey(0)\n",
    "cv2.imshow(\"big\", dst2)\n",
    "cv2.imshow(\"big INTER_CUBIC\", dst4)\n",
    "\n",
    "cv2.waitKey(0)\n",
    "cv2.destroyAllWindows()\n",
    "cv2.waitKey(1)"
   ]
  },
  {
   "cell_type": "markdown",
   "id": "e61231bb",
   "metadata": {},
   "source": [
    "#### resize( ) 사용\n",
    "- https://docs.opencv.org/3.4/da/d54/group__imgproc__transform.html#ga47a974309e9102f5f08231edc7e7529d"
   ]
  },
  {
   "cell_type": "code",
   "execution_count": 53,
   "id": "5ba2bcec",
   "metadata": {},
   "outputs": [
    {
     "data": {
      "text/plain": [
       "-1"
      ]
     },
     "execution_count": 53,
     "metadata": {},
     "output_type": "execute_result"
    }
   ],
   "source": [
    "import cv2\n",
    "import numpy as np\n",
    "\n",
    "img = cv2.imread('./img/fish.jpg')\n",
    "height, width = img.shape[:2]\n",
    "\n",
    "# 크기 지정으로 축소\n",
    "dst1 = cv2.resize(img, (int(width*0.5), int(height*0.5)), \\\n",
    "                         interpolation=cv2.INTER_AREA)\n",
    "\n",
    "# 비율 지정으로 확대\n",
    "dst2 = cv2.resize(img, None, None, 2, 2, cv2.INTER_CUBIC)\n",
    "\n",
    "#--③ 결과 출력\n",
    "cv2.imshow(\"original\", img)\n",
    "cv2.imshow(\"small\", dst1)\n",
    "cv2.imshow(\"big\", dst2)\n",
    "cv2.waitKey(0)\n",
    "cv2.destroyAllWindows()\n",
    "cv2.waitKey(1)"
   ]
  },
  {
   "cell_type": "markdown",
   "id": "8953a7c3",
   "metadata": {},
   "source": [
    "#### rotation : 회전"
   ]
  },
  {
   "cell_type": "code",
   "execution_count": 54,
   "id": "1b29765a",
   "metadata": {},
   "outputs": [
    {
     "data": {
      "text/plain": [
       "-1"
      ]
     },
     "execution_count": 54,
     "metadata": {},
     "output_type": "execute_result"
    }
   ],
   "source": [
    "import cv2\n",
    "import numpy as np\n",
    "\n",
    "img = cv2.imread('./img/fish.jpg')\n",
    "rows,cols = img.shape[0:2]\n",
    "\n",
    "# 라디안 각도 계산(60진법을 호도법으로 변경)\n",
    "d45 = 45.0 * np.pi / 180    # 45도\n",
    "d90 = 90.0 * np.pi / 180    # 90도\n",
    "\n",
    "# 회전을 위한 변환 행렬 생성\n",
    "m45 = np.float32([[np.cos(d45), -1* np.sin(d45), rows//2],\n",
    "                  [np.sin(d45), np.cos(d45), -1*cols//4]])\n",
    "m90 = np.float32([[np.cos(d90), -1* np.sin(d90), rows],\n",
    "                  [np.sin(d90), np.cos(d90), 0]])\n",
    "\n",
    "# 회전 변환 행렬 적용\n",
    "r45 = cv2.warpAffine(img,m45,(cols,rows))\n",
    "r90 = cv2.warpAffine(img,m90,(rows,cols))\n",
    "\n",
    "# 결과 출력\n",
    "cv2.imshow(\"origin\", img)\n",
    "\n",
    "cv2.waitKey(0)\n",
    "cv2.imshow(\"45\", r45)\n",
    "cv2.imshow(\"90\", r90)\n",
    "\n",
    "cv2.waitKey(0)\n",
    "cv2.destroyAllWindows()\n",
    "cv2.waitKey(1)"
   ]
  },
  {
   "cell_type": "markdown",
   "id": "7b79e065",
   "metadata": {},
   "source": [
    "#### 회전 변환 행렬 구하기: cv2.getRotationMatrix2D()\n",
    "cv2.getRotationMatrix2D(center, angle, scale)\n",
    "- center: 회전 축 중심좌표, 튜플(x,y)\n",
    "- angle: 회전 각도, 60진법\n",
    "- scale: 확대/축소 배율"
   ]
  },
  {
   "cell_type": "code",
   "execution_count": 57,
   "id": "e7c2188f",
   "metadata": {},
   "outputs": [
    {
     "data": {
      "text/plain": [
       "-1"
      ]
     },
     "execution_count": 57,
     "metadata": {},
     "output_type": "execute_result"
    }
   ],
   "source": [
    "import cv2\n",
    "\n",
    "img = cv2.imread('./img/fish.jpg')\n",
    "rows,cols = img.shape[0:2]\n",
    "\n",
    "# 회전을 위한 변환 행렬 구하기\n",
    "# 회전축:중앙, 각도:45, 배율:0.5\n",
    "m45 = cv2.getRotationMatrix2D((cols/2,rows/2), 45, 0.5) \n",
    "# 회전축:중앙, 각도:90, 배율:1.5\n",
    "m90 = cv2.getRotationMatrix2D((cols/2,rows/2), 90, 1.5) \n",
    "\n",
    "# 변환 행렬 적용\n",
    "img45 = cv2.warpAffine(img, m45,(cols, rows))\n",
    "img90 = cv2.warpAffine(img, m90,(cols, rows))\n",
    "\n",
    "# 결과 출력\n",
    "cv2.imshow('origin',img)\n",
    "\n",
    "cv2.waitKey(0)\n",
    "cv2.imshow(\"45\", img45)\n",
    "cv2.imshow(\"90\", img90)\n",
    "\n",
    "cv2.waitKey(0)\n",
    "cv2.destroyAllWindows()\n",
    "cv2.waitKey(1)"
   ]
  },
  {
   "cell_type": "markdown",
   "id": "3c09d8c1",
   "metadata": {},
   "source": [
    "#### 뒤틀기: 아핀 변환(affine transform)\n",
    "\n",
    "변환 행렬 계산: getAffineTransform() 사용<br>\n",
    "matrix = getAffineTransform(pts1, pts2)\n",
    "\n",
    "- pts1: 변환 전 이미지 좌표 3개, 3X2 numpy 배열(float32)\n",
    "- pts2: 변환 후 이미지 좌표 3개, pts1과 동일\n",
    "- matrix: 변환행렬 반환, 2X3\n"
   ]
  },
  {
   "cell_type": "code",
   "execution_count": 2,
   "id": "3104d00c",
   "metadata": {},
   "outputs": [
    {
     "name": "stdout",
     "output_type": "stream",
     "text": [
      "[[100.  50.]\n",
      " [200.  50.]\n",
      " [100. 200.]] \n",
      "\n",
      " [[100.  50.]\n",
      " [200.  50.]\n",
      " [100. 200.]]\n"
     ]
    },
    {
     "data": {
      "text/plain": [
       "-1"
      ]
     },
     "execution_count": 2,
     "metadata": {},
     "output_type": "execute_result"
    }
   ],
   "source": [
    "import cv2\n",
    "import numpy as np\n",
    "from matplotlib import pyplot as plt\n",
    "\n",
    "file_name = './img/fish.jpg'\n",
    "img = cv2.imread(file_name)\n",
    "rows, cols = img.shape[:2]\n",
    "\n",
    "# 변환 전, 후 각 3개의 좌표 생성\n",
    "pts1 = np.float32([[100, 50], [200, 50], [100, 200]])\n",
    "pts2 = np.float32([[100, 50], [200, 50], [100, 200]])\n",
    "# pts2 = np.float32([[80, 70], [210, 60], [250, 120]])\n",
    "\n",
    "print(pts1, \"\\n\\n\", pts2)\n",
    "# 변환 전 좌표를 이미지에 표시\n",
    "cv2.circle(img, (100,50), 5, (255,0), -1)\n",
    "cv2.circle(img, (200,50), 5, (0,255,0), -1)\n",
    "cv2.circle(img, (100,200), 5, (0,0,255), -1)\n",
    "\n",
    "# 짝지은 3개의 좌표로 변환 행렬 계산\n",
    "mtrx = cv2.getAffineTransform(pts1, pts2)\n",
    "\n",
    "\n",
    "# 아핀 변환 적용\n",
    "dst = cv2.warpAffine(img, mtrx, (int(cols*1.5), rows))\n",
    "\n",
    "# 결과 출력\n",
    "cv2.imshow('origin',img)\n",
    "\n",
    "cv2.waitKey(0)\n",
    "cv2.imshow('affin', dst)\n",
    "\n",
    "cv2.waitKey(0)\n",
    "cv2.destroyAllWindows()\n",
    "cv2.waitKey(1)"
   ]
  },
  {
   "cell_type": "markdown",
   "id": "01e55e03",
   "metadata": {},
   "source": [
    "#### 원근 변환(perspective)"
   ]
  },
  {
   "cell_type": "code",
   "execution_count": 4,
   "id": "c35ee5c3",
   "metadata": {},
   "outputs": [
    {
     "name": "stdout",
     "output_type": "stream",
     "text": [
      "256 256\n"
     ]
    },
    {
     "data": {
      "text/plain": [
       "-1"
      ]
     },
     "execution_count": 4,
     "metadata": {},
     "output_type": "execute_result"
    }
   ],
   "source": [
    "import cv2\n",
    "import numpy as np\n",
    "\n",
    "file_name = \"./img/fish.jpg\"\n",
    "img = cv2.imread(file_name)\n",
    "rows, cols = img.shape[:2]\n",
    "print(rows, cols)\n",
    "\n",
    "# 원근 변환 전 후 4개 좌표\n",
    "pts1 = np.float32([[0,0], [0,rows], [cols, 0], [cols,rows]])\n",
    "pts2 = np.float32([[100,50], [10,rows-50], [cols-100, 50], [cols-10,rows-50]])\n",
    "\n",
    "# 변환 전 좌표를 원본 이미지에 표시\n",
    "cv2.circle(img, (0,0), 10, (255,0,0), -1)\n",
    "cv2.circle(img, (0,rows), 10, (0,255,0), -1)\n",
    "cv2.circle(img, (cols,0), 10, (0,0,255), -1)\n",
    "cv2.circle(img, (cols,rows), 10, (0,255,255), -1)\n",
    "\n",
    "# 원근 변환 행렬 계산\n",
    "mtrx = cv2.getPerspectiveTransform(pts1, pts2)\n",
    "\n",
    "# 원근 변환 적용\n",
    "dst = cv2.warpPerspective(img, mtrx, (cols, rows))\n",
    "\n",
    "cv2.imshow(\"origin\", img)\n",
    "cv2.imshow('perspective', dst)\n",
    "cv2.waitKey(0)\n",
    "cv2.destroyAllWindows()\n",
    "cv2.waitKey(1)"
   ]
  },
  {
   "cell_type": "markdown",
   "id": "d6434bf1",
   "metadata": {},
   "source": [
    "# 4. masking\n",
    "\n",
    "#### RGBA"
   ]
  },
  {
   "cell_type": "code",
   "execution_count": 6,
   "id": "b910fabe",
   "metadata": {},
   "outputs": [
    {
     "name": "stdout",
     "output_type": "stream",
     "text": [
      "default (120, 98, 3) color (120, 98, 3) unchanged (120, 98, 4)\n"
     ]
    },
    {
     "data": {
      "text/plain": [
       "-1"
      ]
     },
     "execution_count": 6,
     "metadata": {},
     "output_type": "execute_result"
    }
   ],
   "source": [
    "import cv2\n",
    "import numpy as np\n",
    "\n",
    "# 기본 값 옵션\n",
    "img = cv2.imread('./img/opencv_logo.png')   \n",
    "# IMREAD_COLOR 옵션                   \n",
    "bgr = cv2.imread('./img/opencv_logo.png', cv2.IMREAD_COLOR)    \n",
    "# IMREAD_UNCHANGED 옵션\n",
    "bgra = cv2.imread('./img/opencv_logo.png', cv2.IMREAD_UNCHANGED) # 알파채널은 이미지의 투명도를 나타내는 채널이다.\n",
    "# 각 옵션에 따른 이미지 shape\n",
    "print(\"default\", img.shape, \"color\", bgr.shape, \"unchanged\", bgra.shape) \n",
    "\n",
    "cv2.imshow('bgr', bgr)\n",
    "cv2.imshow('bgra', bgra)\n",
    "cv2.imshow('alpha', bgra[:,:,3])  # 알파 채널만 표시\n",
    "cv2.waitKey(0)\n",
    "cv2.destroyAllWindows()\n",
    "cv2.waitKey(1)"
   ]
  },
  {
   "cell_type": "markdown",
   "id": "069c4361",
   "metadata": {},
   "source": [
    "#### bgr2gray"
   ]
  },
  {
   "cell_type": "code",
   "execution_count": 7,
   "id": "79465301",
   "metadata": {},
   "outputs": [
    {
     "data": {
      "text/plain": [
       "-1"
      ]
     },
     "execution_count": 7,
     "metadata": {},
     "output_type": "execute_result"
    }
   ],
   "source": [
    "import cv2\n",
    "import numpy as np\n",
    "\n",
    "img = cv2.imread('./img/girl.jpg')\n",
    "\n",
    "img2 = img.astype(np.uint16)                # dtype 변경 ---①\n",
    "b,g,r = cv2.split(img2)                     # 채널 별로 분리 ---②\n",
    "#b,g,r = img2[:,:,0], img2[:,:,1], img2[:,:,2]\n",
    "gray1 = ((b + g + r)/3).astype(np.uint8)    # 평균 값 연산후 dtype 변경 ---③\n",
    "\n",
    "gray2 = cv2.cvtColor(img, cv2.COLOR_BGR2GRAY) # BGR을 그레이 스케일로 변경 ---④\n",
    "cv2.imshow('original', img)\n",
    "cv2.imshow('gray1', gray1) # 평균 값 연산을 통한 gray scale 표현\n",
    "cv2.imshow('gray2', gray2) # 함수에 의한 gray scale 표현\n",
    "\n",
    "cv2.waitKey(0)\n",
    "cv2.destroyAllWindows()\n",
    "cv2.waitKey(1)"
   ]
  },
  {
   "cell_type": "markdown",
   "id": "6674141f",
   "metadata": {},
   "source": [
    "#### bgr2hsv"
   ]
  },
  {
   "cell_type": "code",
   "execution_count": 8,
   "id": "3445a45b",
   "metadata": {},
   "outputs": [
    {
     "name": "stdout",
     "output_type": "stream",
     "text": [
      "red: [[[  0 255 255]]]\n",
      "green: [[[ 60 255 255]]]\n",
      "blue [[[120 255 255]]]\n",
      "yellow [[[ 30 255 255]]]\n"
     ]
    }
   ],
   "source": [
    "import cv2\n",
    "import numpy as np\n",
    "\n",
    "# BGR 컬러 스페이스로 원색 픽셀 생성\n",
    "red_bgr = np.array([[[0,0,255]]], dtype=np.uint8)   # 빨강 값만 갖는 픽셀\n",
    "green_bgr = np.array([[[0,255,0]]], dtype=np.uint8) # 초록 값만 갖는 픽셀\n",
    "blue_bgr = np.array([[[255,0,0]]], dtype=np.uint8)  # 파랑 값만 갖는 픽셀\n",
    "yellow_bgr = np.array([[[0,255,255]]], dtype=np.uint8) # 노랑 값만 갖는 픽셀\n",
    "\n",
    "# BGR 컬러 스페이스를 HSV 컬러 스페이스로 변환 / 색상(Hue), 채도(Saturation), 명도(Value)\n",
    "red_hsv = cv2.cvtColor(red_bgr, cv2.COLOR_BGR2HSV);\n",
    "green_hsv = cv2.cvtColor(green_bgr, cv2.COLOR_BGR2HSV);\n",
    "blue_hsv = cv2.cvtColor(blue_bgr, cv2.COLOR_BGR2HSV);\n",
    "yellow_hsv = cv2.cvtColor(yellow_bgr, cv2.COLOR_BGR2HSV);\n",
    "\n",
    "# HSV로 변환한 픽셀 출력\n",
    "print(\"red:\",red_hsv)\n",
    "print(\"green:\", green_hsv)\n",
    "print(\"blue\", blue_hsv)\n",
    "print(\"yellow\", yellow_hsv)"
   ]
  },
  {
   "cell_type": "markdown",
   "id": "307f137a",
   "metadata": {},
   "source": [
    "#### bgr2yuv"
   ]
  },
  {
   "cell_type": "code",
   "execution_count": 9,
   "id": "0c8c09ee",
   "metadata": {},
   "outputs": [
    {
     "name": "stdout",
     "output_type": "stream",
     "text": [
      "dark: [[[  0 128 128]]]\n",
      "middle: [[[127 128 128]]]\n",
      "bright [[[255 128 128]]]\n"
     ]
    }
   ],
   "source": [
    "import cv2\n",
    "import numpy as np\n",
    "\n",
    "# BGR 컬러 스페이스로 3가지 밝기의 픽셀 생성\n",
    "dark = np.array([[[0,0,0]]], dtype=np.uint8)        # 3 채널 모두 0인 가장 어두운 픽셀\n",
    "middle = np.array([[[127,127,127]]], dtype=np.uint8) # 3 채널 모두 127인 중간 밝기 픽셀\n",
    "bright = np.array([[[255,255,255]]], dtype=np.uint8) # 3 채널 모두 255인 가장 밝은 픽셀\n",
    "\n",
    "# BGR 컬러 스페이스를 YUV 컬러 스페이스로 변환 / 1개의 루마 컴포넌트(Y)와 2개의 색차 컴포넌트(각각 파랑의 U와 빨강의 V)\n",
    "dark_yuv = cv2.cvtColor(dark, cv2.COLOR_BGR2YUV)\n",
    "middle_yuv = cv2.cvtColor(middle, cv2.COLOR_BGR2YUV)\n",
    "bright_yuv = cv2.cvtColor(bright, cv2.COLOR_BGR2YUV)\n",
    "\n",
    "# YUV로 변환한 픽셀 출력\n",
    "print(\"dark:\",dark_yuv)\n",
    "print(\"middle:\", middle_yuv)\n",
    "print(\"bright\", bright_yuv)"
   ]
  },
  {
   "cell_type": "markdown",
   "id": "2e4bc5fd",
   "metadata": {},
   "source": [
    "#### grayscale 이미지를 일정 값(threshold) 기준으로 흑백으로 나누기"
   ]
  },
  {
   "cell_type": "code",
   "execution_count": 12,
   "id": "df152124",
   "metadata": {},
   "outputs": [
    {
     "data": {
      "image/png": "[encoded data removed]",
      "text/plain": [
       "<Figure size 640x480 with 8 Axes>"
      ]
     },
     "metadata": {},
     "output_type": "display_data"
    }
   ],
   "source": [
    "import cv2\n",
    "import numpy as np\n",
    "import matplotlib.pylab as plt\n",
    "\n",
    "# 이미지를 그레이 스케일로 읽기\n",
    "img = cv2.imread('./img/scaned_paper.jpg', cv2.IMREAD_GRAYSCALE) \n",
    "\n",
    "thresholds = [80, 100, 120, 140, 150, 170, 190]\n",
    "imgs = {'Original' : img}\n",
    "\n",
    "# threshold 를 기준으로 흑백을 나눔\n",
    "for t in thresholds:\n",
    "    _, t_img = cv2.threshold(img, t, 255, cv2.THRESH_BINARY) \n",
    "    imgs['t:%d'%t] = t_img\n",
    "\n",
    "for i , (key, value) in enumerate(imgs.items()):\n",
    "    plt.subplot(2, 4, i+1)\n",
    "    plt.title(key)\n",
    "    plt.imshow(value, cmap='gray')\n",
    "    plt.xticks([]); plt.yticks([])\n",
    "\n",
    "plt.show()"
   ]
  },
  {
   "cell_type": "markdown",
   "id": "354cf748",
   "metadata": {},
   "source": [
    "#### mask 연산"
   ]
  },
  {
   "cell_type": "code",
   "execution_count": 13,
   "id": "5c51c526",
   "metadata": {},
   "outputs": [
    {
     "name": "stdout",
     "output_type": "stream",
     "text": [
      "[[11  0]]\n",
      "[[11 20]] [[10 20]]\n"
     ]
    }
   ],
   "source": [
    "import cv2\n",
    "import numpy as np\n",
    "\n",
    "# 연산에 사용할 배열 생성\n",
    "a = np.array([[1, 2]], dtype=np.uint8)\n",
    "b = np.array([[10, 20]], dtype=np.uint8)\n",
    "\n",
    "#---② 2번째 요소가 0인 마스크 배열 생성 \n",
    "mask = np.array([[1, 0]], dtype=np.uint8)\n",
    "\n",
    "# 누적 할당과의 비교 연산\n",
    "c1 = cv2.add( a, b , None, mask)\n",
    "print(c1)\n",
    "c2 = cv2.add( a, b , b.copy(), mask)\n",
    "print(c2, b)"
   ]
  },
  {
   "cell_type": "markdown",
   "id": "58fd296f",
   "metadata": {},
   "source": [
    "#### hsv_color_mask"
   ]
  },
  {
   "cell_type": "code",
   "execution_count": 14,
   "id": "f815c536",
   "metadata": {},
   "outputs": [
    {
     "data": {
      "image/png": "[encoded data removed]",
      "text/plain": [
       "<Figure size 640x480 with 5 Axes>"
      ]
     },
     "metadata": {},
     "output_type": "display_data"
    }
   ],
   "source": [
    "import cv2\n",
    "import numpy as np\n",
    "import matplotlib.pylab as plt\n",
    "\n",
    "# 큐브 영상 읽어서 HSV로 변환\n",
    "img = cv2.imread(\"./img/cube.jpg\")\n",
    "hsv = cv2.cvtColor(img, cv2.COLOR_BGR2HSV)\n",
    "\n",
    "# 색상별 영역(범위) 지정\n",
    "blue1 = np.array([90, 50, 50])\n",
    "blue2 = np.array([120, 255,255])\n",
    "green1 = np.array([45, 50,50])\n",
    "green2 = np.array([75, 255,255])\n",
    "red1 = np.array([0, 50,50])\n",
    "red2 = np.array([15, 255,255])\n",
    "red3 = np.array([165, 50,50])\n",
    "red4 = np.array([180, 255,255])\n",
    "yellow1 = np.array([20, 50,50])\n",
    "yellow2 = np.array([35, 255,255])\n",
    "\n",
    "# 색상에 따른 마스크 생성\n",
    "mask_blue = cv2.inRange(hsv, blue1, blue2)\n",
    "mask_green = cv2.inRange(hsv, green1, green2)\n",
    "mask_red = cv2.inRange(hsv, red1, red2)\n",
    "mask_red2 = cv2.inRange(hsv, red3, red4)\n",
    "mask_yellow = cv2.inRange(hsv, yellow1, yellow2)\n",
    "\n",
    "# 색상별 마스크로 색상만 추출\n",
    "res_blue = cv2.bitwise_and(img, img, mask=mask_blue)\n",
    "res_green = cv2.bitwise_and(img, img, mask=mask_green)\n",
    "res_red1 = cv2.bitwise_and(img, img, mask=mask_red)\n",
    "res_red2 = cv2.bitwise_and(img, img, mask=mask_red2)\n",
    "res_red = cv2.bitwise_or(res_red1, res_red2)\n",
    "res_yellow = cv2.bitwise_and(img, img, mask=mask_yellow)\n",
    "\n",
    "# 결과 출력\n",
    "imgs = {'original': img, 'blue':res_blue, 'green':res_green, \n",
    "        'red':res_red, 'yellow':res_yellow}\n",
    "\n",
    "for i, (k, v) in enumerate(imgs.items()):\n",
    "    plt.subplot(2,3, i+1)\n",
    "    plt.title(k)\n",
    "    plt.imshow(v[:,:,::-1])\n",
    "    plt.xticks([]); plt.yticks([])\n",
    "plt.show()"
   ]
  },
  {
   "cell_type": "markdown",
   "id": "43360783",
   "metadata": {},
   "source": [
    "### ROI(Region of Interest, 관심 영역)"
   ]
  },
  {
   "cell_type": "code",
   "execution_count": 15,
   "id": "c89ca736",
   "metadata": {},
   "outputs": [
    {
     "name": "stdout",
     "output_type": "stream",
     "text": [
      "(50, 50, 3)\n"
     ]
    },
    {
     "data": {
      "text/plain": [
       "-1"
      ]
     },
     "execution_count": 15,
     "metadata": {},
     "output_type": "execute_result"
    }
   ],
   "source": [
    "import cv2\n",
    "import numpy as np\n",
    "\n",
    "img = cv2.imread('./img/sunset.jpg')\n",
    "\n",
    "x=320; y=150; w=50; h=50        # roi 좌표\n",
    "roi = img[y:y+h, x:x+w]         # roi 지정\n",
    "\n",
    "print(roi.shape)                # roi shape, (50,50,3)\n",
    "cv2.rectangle(roi, (0,0), (h-1, w-1), (0,255,0)) # roi 전체에 사각형 그리기\n",
    "cv2.imshow(\"img\", img)\n",
    "\n",
    "key = cv2.waitKey(0)\n",
    "cv2.destroyAllWindows()\n",
    "cv2.waitKey(1)"
   ]
  },
  {
   "cell_type": "markdown",
   "id": "0dc6de35",
   "metadata": {},
   "source": [
    "#### ROI select img"
   ]
  },
  {
   "cell_type": "code",
   "execution_count": 7,
   "id": "f4cf1048",
   "metadata": {},
   "outputs": [
    {
     "data": {
      "text/plain": [
       "-1"
      ]
     },
     "execution_count": 7,
     "metadata": {},
     "output_type": "execute_result"
    }
   ],
   "source": [
    "import cv2,  numpy as np\n",
    "\n",
    "img = cv2.imread('./img/sunset.jpg')\n",
    "\n",
    "x,y,w,h = cv2.selectROI('img', img, False)\n",
    "\n",
    "if w and h:\n",
    "    roi = img[y:y+h, x:x+w]\n",
    "    cv2.imshow('cropped', roi)  # ROI 지정 영역을 새창으로 표시\n",
    "    cv2.moveWindow('cropped', 0, 0) # 새창을 화면 좌측 상단에 이동\n",
    "    cv2.imwrite('./cropped2.jpg', roi)   # ROI 영역만 파일로 저장\n",
    "\n",
    "cv2.imshow('img', img)\n",
    "cv2.waitKey(0)\n",
    "cv2.destroyAllWindows()\n",
    "cv2.waitKey(1)"
   ]
  },
  {
   "cell_type": "markdown",
   "id": "bf6f2458",
   "metadata": {},
   "source": [
    "#### ROI crop mouse"
   ]
  },
  {
   "cell_type": "code",
   "execution_count": null,
   "id": "a33e8450",
   "metadata": {},
   "outputs": [
    {
     "name": "stdout",
     "output_type": "stream",
     "text": [
      "x:325, y:162, w:54, h:47\n",
      "croped.\n"
     ]
    }
   ],
   "source": [
    "import cv2\n",
    "import numpy as np\n",
    "\n",
    "isDragging = False                      # 마우스 드래그 상태 저장 \n",
    "x0, y0, w, h = -1,-1,-1,-1              # 영역 선택 좌표 저장\n",
    "blue, red = (255,0,0),(0,0,255)         # 색상 값 \n",
    "\n",
    "def onMouse(event,x,y,flags,param):     # 마우스 이벤트 핸들 함수\n",
    "    global isDragging, x0, y0, img      # 전역변수 참조\n",
    "    if event == cv2.EVENT_LBUTTONDOWN:  # 왼쪽 마우스 버튼 다운, 드래그 시작\n",
    "        isDragging = True\n",
    "        x0 = x\n",
    "        y0 = y\n",
    "    elif event == cv2.EVENT_MOUSEMOVE:  # 마우스 움직임\n",
    "        if isDragging:                  # 드래그 진행 중\n",
    "            img_draw = img.copy()       # 사각형 그림 표현을 위한 이미지 복제\n",
    "            cv2.rectangle(img_draw, (x0, y0), (x, y), blue, 2) # 드래그 진행 영역 표시\n",
    "            cv2.imshow('img', img_draw) # 사각형 표시된 그림 화면 출력\n",
    "            cv2.waitKey()\n",
    "            cv2.destroyWindow(\"img\")\n",
    "            \n",
    "    elif event == cv2.EVENT_LBUTTONUP:  # 왼쪽 마우스 버튼 업\n",
    "        if isDragging:                  # 드래그 중지\n",
    "            isDragging = False          \n",
    "            w = x - x0                  # 드래그 영역 폭 계산\n",
    "            h = y - y0                  # 드래그 영역 높이 계산\n",
    "            print(\"x:%d, y:%d, w:%d, h:%d\" % (x0, y0, w, h))\n",
    "            if w > 0 and h > 0:         # 폭과 높이가 음수이면 드래그 방향이 옳음\n",
    "                img_draw = img.copy()   # 선택 영역에 사각형 그림을 표시할 이미지 복제\n",
    "                # 선택 영역에 빨간 사각형 표시\n",
    "                cv2.rectangle(img_draw, (x0, y0), (x, y), red, 2) \n",
    "                cv2.imshow('img', img_draw) # 빨간 사각형 그려진 이미지 화면 출력\n",
    "                roi = img[y0:y0+h, x0:x0+w] # 원본 이미지에서 선택 영영만 ROI로 지정\n",
    "                cv2.imshow('cropped', roi)  # ROI 지정 영역을 새창으로 표시\n",
    "                cv2.moveWindow('cropped', 0, 0) # 새창을 화면 좌측 상단에 이동\n",
    "                cv2.imwrite('./cropped.jpg', roi)   # ROI 영역만 파일로 저장\n",
    "                print(\"croped.\")\n",
    "            else:\n",
    "                cv2.imshow('img', img)  # 드래그 방향이 잘못된 경우 사각형 그림이 없는 원본 이미지 출력\n",
    "                print(\"좌측 상단에서 우측 하단으로 영역을 드래그 하세요.\")\n",
    "\n",
    "img = cv2.imread('./img/sunset.jpg')\n",
    "cv2.imshow('img', img)\n",
    "cv2.setMouseCallback('img', onMouse) # 마우스 이벤트 등록\n",
    "cv2.waitKey()\n",
    "cv2.destroyAllWindows()\n",
    "cv2.waitKey(1)"
   ]
  },
  {
   "cell_type": "markdown",
   "id": "ecf221e3",
   "metadata": {},
   "source": [
    "#### 두 이미지간 차이 표시하기"
   ]
  },
  {
   "cell_type": "code",
   "execution_count": 3,
   "id": "ec92bbc6",
   "metadata": {},
   "outputs": [
    {
     "data": {
      "text/plain": [
       "-1"
      ]
     },
     "execution_count": 3,
     "metadata": {},
     "output_type": "execute_result"
    }
   ],
   "source": [
    "import numpy as np, cv2\n",
    "\n",
    "# 연산에 필요한 영상을 읽고 그레이스케일로 변환\n",
    "img1 = cv2.imread('./img/robot_arm1.jpg')\n",
    "img2 = cv2.imread('./img/robot_arm2.jpg')\n",
    "img1_gray = cv2.cvtColor(img1, cv2.COLOR_BGR2GRAY)\n",
    "img2_gray = cv2.cvtColor(img2, cv2.COLOR_BGR2GRAY)\n",
    "\n",
    "# 두 영상의 절대값 차 연산\n",
    "diff = cv2.absdiff(img1_gray, img2_gray)\n",
    "\n",
    "# 차 영상을 극대화 하기 위해 쓰레시홀드 처리 및 컬러로 변환 \n",
    "_, diff = cv2.threshold(diff, 1, 255, cv2.THRESH_BINARY) # 픽셀 값이 1 이상인 경우 픽셀 값을 255로 변경\n",
    "diff_red = cv2.cvtColor(diff, cv2.COLOR_GRAY2BGR)\n",
    "diff_red[:,:,2] = 0\n",
    "\n",
    "# 두 번째 이미지에 변화 부분 표시\n",
    "spot = cv2.bitwise_xor(img2, diff_red)\n",
    "\n",
    "# 결과 영상 출력\n",
    "cv2.imshow('img1', img1)\n",
    "cv2.imshow('img2', img2)\n",
    "\n",
    "cv2.waitKey()\n",
    "cv2.imshow('diff', diff)\n",
    "cv2.imshow('spot', spot)\n",
    "cv2.waitKey()\n",
    "cv2.destroyAllWindows()\n",
    "cv2.waitKey(1)"
   ]
  },
  {
   "cell_type": "markdown",
   "id": "4996696b",
   "metadata": {},
   "source": [
    "#### chromakey"
   ]
  },
  {
   "cell_type": "code",
   "execution_count": 4,
   "id": "cc09521f",
   "metadata": {},
   "outputs": [
    {
     "data": {
      "text/plain": [
       "-1"
      ]
     },
     "execution_count": 4,
     "metadata": {},
     "output_type": "execute_result"
    }
   ],
   "source": [
    "import cv2\n",
    "import numpy as np\n",
    "import matplotlib.pylab as plt\n",
    "\n",
    "# 크로마키 배경 영상과 합성할 배경 영상 읽기\n",
    "img1 = cv2.imread('./img/man_chromakey.jpg')\n",
    "img2 = cv2.imread('./img/street.jpg')\n",
    "\n",
    "cv2.imshow('chromakey', img1)\n",
    "cv2.imshow('street', img2)\n",
    "\n",
    "cv2.waitKey()\n",
    "cv2.destroyAllWindows()\n",
    "cv2.waitKey(1)\n",
    "\n",
    "# ROI 선택을 위한 좌표 계산\n",
    "height1, width1 = img1.shape[:2]\n",
    "height2, width2 = img2.shape[:2]\n",
    "x = (width2 - width1)//2\n",
    "y = height2 - height1\n",
    "w = x + width1\n",
    "h = y + height1\n",
    "\n",
    "# 크로마키 배경 영상에서 크로마키 영역을 10픽셀 정도로 지정\n",
    "chromakey = img1[:10, :10, :]\n",
    "offset = 20\n",
    "\n",
    "# 크로마키 영역과 영상 전체를 HSV로 변경\n",
    "hsv_chroma = cv2.cvtColor(chromakey, cv2.COLOR_BGR2HSV)\n",
    "hsv_img = cv2.cvtColor(img1, cv2.COLOR_BGR2HSV)\n",
    "\n",
    "cv2.imshow('chromakey_col', hsv_chroma)\n",
    "cv2.imshow('img', hsv_img)\n",
    "\n",
    "cv2.waitKey()\n",
    "cv2.destroyAllWindows()\n",
    "cv2.waitKey(1)\n",
    "\n",
    "# 크로마키 영역의 H값에서 offset 만큼 여유를 두어서 범위 지정\n",
    "# offset 값은 여러차례 시도 후 결정\n",
    "#chroma_h = hsv_chroma[0]\n",
    "chroma_h = hsv_chroma[:,:,0]\n",
    "lower = np.array([chroma_h.min()-offset, 100, 100])\n",
    "upper = np.array([chroma_h.max()+offset, 255, 255])\n",
    "\n",
    "# 마스크 생성 및 마스킹 후 합성\n",
    "mask = cv2.inRange(hsv_img, lower, upper)  # 크로마키의 녹색 배경인 경우 1 / 녹색배경이 아닌 경우 0\n",
    "mask_inv = cv2.bitwise_not(mask)           # 크로마키의 녹색 배경인 경우 0 / 녹색배경이 아닌 경우 1\n",
    "\n",
    "cv2.imshow('mask_inv', mask_inv)\n",
    "cv2.waitKey()\n",
    "cv2.destroyAllWindows()\n",
    "cv2.waitKey(1)\n",
    "\n",
    "roi = img2[y:h, x:w]\n",
    "\n",
    "cv2.imshow('roi', roi)\n",
    "cv2.waitKey()\n",
    "cv2.destroyAllWindows()\n",
    "cv2.waitKey(1)\n",
    "\n",
    "fg = cv2.bitwise_and(img1, img1, mask=mask_inv)\n",
    "bg = cv2.bitwise_and(roi, roi, mask=mask)\n",
    "\n",
    "cv2.imshow('fg', fg)\n",
    "cv2.imshow('bg', bg)\n",
    "cv2.waitKey()\n",
    "cv2.destroyAllWindows()\n",
    "cv2.waitKey(1)\n",
    "\n",
    "img2[y:h, x:w] = fg + bg\n",
    "\n",
    "# 결과 출력\n",
    "cv2.imshow('chromakey', img1)\n",
    "cv2.imshow('added', img2)\n",
    "cv2.waitKey()\n",
    "cv2.destroyAllWindows()\n",
    "cv2.waitKey(1)"
   ]
  },
  {
   "cell_type": "markdown",
   "id": "8fa39a28",
   "metadata": {},
   "source": [
    "# 5. filter\n",
    "\n",
    "### 1) 케니 엣지(canny edge)"
   ]
  },
  {
   "cell_type": "code",
   "execution_count": null,
   "id": "f10bc0b8",
   "metadata": {},
   "outputs": [],
   "source": [
    "import cv2, time\n",
    "import numpy as np\n",
    "\n",
    "img = cv2.imread(\"./img/sudoku.jpg\")\n",
    "\n",
    "\n",
    "# 케니 엣지 적용 \n",
    "edges = cv2.Canny(img,100,200)\n",
    "\n",
    "# 결과 출력\n",
    "cv2.imshow('Original', img)\n",
    "cv2.imshow('Canny', edges)\n",
    "cv2.waitKey(0)\n",
    "cv2.destroyAllWindows()\n",
    "cv2.waitKey(1)"
   ]
  }
 ],
 "metadata": {
  "kernelspec": {
   "display_name": "Python 3",
   "language": "python",
   "name": "python3"
  },
  "language_info": {
   "codemirror_mode": {
    "name": "ipython",
    "version": 3
   },
   "file_extension": ".py",
   "mimetype": "text/x-python",
   "name": "python",
   "nbconvert_exporter": "python",
   "pygments_lexer": "ipython3",
   "version": "3.8.13"
  }
 },
 "nbformat": 4,
 "nbformat_minor": 5
}
