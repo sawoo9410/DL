{
 "cells": [
  {
   "cell_type": "markdown",
   "id": "273d6e19",
   "metadata": {},
   "source": [
    "### Created on 2023\n",
    "### @author: S.W"
   ]
  },
  {
   "cell_type": "markdown",
   "id": "fd719198",
   "metadata": {},
   "source": [
    "### 1. 학습에 필요한 라이브러리 불러오기"
   ]
  },
  {
   "cell_type": "code",
   "execution_count": 1,
   "id": "00e7f37a",
   "metadata": {},
   "outputs": [],
   "source": [
    "import torch\n",
    "import torchvision\n",
    "import torchvision.transforms as transforms\n",
    "import matplotlib.pyplot as plt\n",
    "import numpy as np\n",
    "\n",
    "import torch.nn as nn\n",
    "import torch.optim as optim\n",
    "\n",
    "import PIL\n",
    "import matplotlib \n",
    "import matplotlib.pyplot as plt"
   ]
  },
  {
   "cell_type": "markdown",
   "id": "ea9840e9",
   "metadata": {},
   "source": [
    "### 2. MNIST 데이터 불러오기\n",
    "\n",
    "#### 효과적인 이미지 전처리를 위해 pytorch에서 제공하는 transform 클래스\n",
    "\n",
    "- https://pytorch.org/vision/stable/transforms.html"
   ]
  },
  {
   "cell_type": "code",
   "execution_count": 2,
   "id": "aad662c4",
   "metadata": {},
   "outputs": [],
   "source": [
    "transform = transforms.Compose(\n",
    "    [transforms.ToTensor(), # 데이터 타입을 tensor 타입으로 변경\n",
    "     transforms.Normalize((0.5,), (0.5,)), # 데이터 정규화(정규분포)\n",
    "    ])"
   ]
  },
  {
   "cell_type": "markdown",
   "id": "8343d8e7",
   "metadata": {},
   "source": [
    "#### pytorch에서 불러올 수 있는 내장 데이터 셋 목록\n",
    "- https://pytorch.org/vision/stable/datasets.html"
   ]
  },
  {
   "cell_type": "code",
   "execution_count": 3,
   "id": "5af7ee34",
   "metadata": {},
   "outputs": [
    {
     "name": "stderr",
     "output_type": "stream",
     "text": [
      "C:\\Users\\sangwoo\\anaconda3\\envs\\pytorch-gpu\\lib\\site-packages\\torchvision\\datasets\\mnist.py:498: UserWarning: The given NumPy array is not writeable, and PyTorch does not support non-writeable tensors. This means you can write to the underlying (supposedly non-writeable) NumPy array using the tensor. You may want to copy the array to protect its data or make it writeable before converting it to a tensor. This type of warning will be suppressed for the rest of this program. (Triggered internally at  ..\\torch\\csrc\\utils\\tensor_numpy.cpp:180.)\n",
      "  return torch.from_numpy(parsed.astype(m[2], copy=False)).view(*s)\n",
      "C:\\Users\\sangwoo\\anaconda3\\envs\\pytorch-gpu\\lib\\site-packages\\torchvision\\datasets\\mnist.py:498: UserWarning: The given NumPy array is not writeable, and PyTorch does not support non-writeable tensors. This means you can write to the underlying (supposedly non-writeable) NumPy array using the tensor. You may want to copy the array to protect its data or make it writeable before converting it to a tensor. This type of warning will be suppressed for the rest of this program. (Triggered internally at  ..\\torch\\csrc\\utils\\tensor_numpy.cpp:180.)\n",
      "  return torch.from_numpy(parsed.astype(m[2], copy=False)).view(*s)\n"
     ]
    }
   ],
   "source": [
    "# Load the MNIST dataset\n",
    "trainset = torchvision.datasets.MNIST(root='./data', train=True,\n",
    "                                        download=True, transform=transform)\n",
    "trainloader = torch.utils.data.DataLoader(trainset, batch_size=64,\n",
    "                                          shuffle=True, num_workers=2)\n",
    "\n",
    "testset = torchvision.datasets.MNIST(root='./data', train=False,\n",
    "                                       download=True, transform=transform)\n",
    "testloader = torch.utils.data.DataLoader(testset, batch_size=64,\n",
    "                                         shuffle=False, num_workers=2)"
   ]
  },
  {
   "cell_type": "code",
   "execution_count": 4,
   "id": "1de4d807",
   "metadata": {},
   "outputs": [
    {
     "name": "stdout",
     "output_type": "stream",
     "text": [
      "이미지 형태 : torch.Size([1, 28, 28]) \n",
      "매핑되는 출력값 : tensor(7)\n",
      "이미지 형태 : torch.Size([1, 28, 28]) \n",
      "매핑되는 출력값 : tensor(7)\n"
     ]
    }
   ],
   "source": [
    "train_features, train_labels = next(iter(trainloader))\n",
    "\n",
    "print(\"이미지 형태 :\", train_features[0].shape, \"\\n매핑되는 출력값 :\",train_labels[0])"
   ]
  },
  {
   "cell_type": "code",
   "execution_count": 5,
   "id": "82b7b5e5",
   "metadata": {},
   "outputs": [
    {
     "name": "stdout",
     "output_type": "stream",
     "text": [
      "AxesImage(80,52.8;496x369.6)\n",
      "숫자:  tensor(7)\n",
      "AxesImage(80,52.8;496x369.6)\n",
      "숫자:  tensor(7)\n"
     ]
    },
    {
     "data": {
      "image/png": "[encoded data removed]",
      "text/plain": [
       "<Figure size 640x480 with 1 Axes>"
      ]
     },
     "metadata": {},
     "output_type": "display_data"
    },
    {
     "data": {
      "image/png": "[encoded data removed]",
      "text/plain": [
       "<Figure size 640x480 with 1 Axes>"
      ]
     },
     "metadata": {},
     "output_type": "display_data"
    }
   ],
   "source": [
    "n = 0\n",
    "img = torch.squeeze(train_features[n]).numpy() # 0번째 차원 제거 및 torch → numpy 형태로 변환\n",
    "\n",
    "print(plt.imshow(img))\n",
    "print(\"숫자: \",train_labels[n])"
   ]
  },
  {
   "cell_type": "markdown",
   "id": "e1ad7621",
   "metadata": {},
   "source": [
    "### 3. CNN 모델 구성"
   ]
  },
  {
   "cell_type": "code",
   "execution_count": 6,
   "id": "6757728b",
   "metadata": {},
   "outputs": [
    {
     "name": "stdout",
     "output_type": "stream",
     "text": [
      "Net(\n",
      "  (conv1): Conv2d(1, 32, kernel_size=(3, 3), stride=(1, 1))\n",
      "  (pool): MaxPool2d(kernel_size=2, stride=2, padding=0, dilation=1, ceil_mode=False)\n",
      "  (conv2): Conv2d(32, 64, kernel_size=(3, 3), stride=(1, 1))\n",
      "  (fc1): Linear(in_features=1600, out_features=64, bias=True)\n",
      "  (fc2): Linear(in_features=64, out_features=10, bias=True)\n",
      ")\n",
      "Net(\n",
      "  (conv1): Conv2d(1, 32, kernel_size=(3, 3), stride=(1, 1))\n",
      "  (pool): MaxPool2d(kernel_size=2, stride=2, padding=0, dilation=1, ceil_mode=False)\n",
      "  (conv2): Conv2d(32, 64, kernel_size=(3, 3), stride=(1, 1))\n",
      "  (fc1): Linear(in_features=1600, out_features=64, bias=True)\n",
      "  (fc2): Linear(in_features=64, out_features=10, bias=True)\n",
      ")\n"
     ]
    }
   ],
   "source": [
    "# Define the CNN model\n",
    "class Net(nn.Module):\n",
    "    def __init__(self):\n",
    "        super(Net, self).__init__()\n",
    "        self.conv1 = nn.Conv2d(1, 32, 3)\n",
    "        self.pool = nn.MaxPool2d(2, 2)\n",
    "        self.conv2 = nn.Conv2d(32, 64, 3)\n",
    "        self.fc1 = nn.Linear(64 * 5 * 5, 64)\n",
    "        self.fc2 = nn.Linear(64, 10)\n",
    "\n",
    "    def forward(self, x):\n",
    "        x = self.pool(nn.functional.relu(self.conv1(x)))\n",
    "        x = self.pool(nn.functional.relu(self.conv2(x)))\n",
    "        x = x.view(-1, 64 * 5 * 5)\n",
    "        x = nn.functional.relu(self.fc1(x))\n",
    "        x = self.fc2(x)\n",
    "        return x\n",
    "\n",
    "net = Net()\n",
    "print(net) # pytorch는 print()를 이용해서 모델의 구조를 알 수 있다."
   ]
  },
  {
   "cell_type": "code",
   "execution_count": 7,
   "id": "e340116d",
   "metadata": {},
   "outputs": [
    {
     "name": "stderr",
     "output_type": "stream",
     "text": [
      "C:\\Users\\sangwoo\\anaconda3\\envs\\pytorch-gpu\\lib\\site-packages\\torch\\nn\\functional.py:718: UserWarning: Named tensors and all their associated APIs are an experimental feature and subject to change. Please do not use them for anything important until they are released as stable. (Triggered internally at  ..\\c10/core/TensorImpl.h:1156.)\n",
      "  return torch.max_pool2d(input, kernel_size, stride, padding, dilation, ceil_mode)\n",
      "C:\\Users\\sangwoo\\anaconda3\\envs\\pytorch-gpu\\lib\\site-packages\\torch\\nn\\functional.py:718: UserWarning: Named tensors and all their associated APIs are an experimental feature and subject to change. Please do not use them for anything important until they are released as stable. (Triggered internally at  ..\\c10/core/TensorImpl.h:1156.)\n",
      "  return torch.max_pool2d(input, kernel_size, stride, padding, dilation, ceil_mode)\n"
     ]
    },
    {
     "name": "stdout",
     "output_type": "stream",
     "text": [
      "----------------------------------------------------------------\n",
      "        Layer (type)               Output Shape         Param #\n",
      "================================================================\n",
      "            Conv2d-1           [-1, 32, 26, 26]             320\n",
      "         MaxPool2d-2           [-1, 32, 13, 13]               0\n",
      "            Conv2d-3           [-1, 64, 11, 11]          18,496\n",
      "         MaxPool2d-4             [-1, 64, 5, 5]               0\n",
      "            Linear-5                   [-1, 64]         102,464\n",
      "            Linear-6                   [-1, 10]             650\n",
      "================================================================\n",
      "Total params: 121,930\n",
      "Trainable params: 121,930\n",
      "Non-trainable params: 0\n",
      "----------------------------------------------------------------\n",
      "Input size (MB): 0.00\n",
      "Forward/backward pass size (MB): 0.28\n",
      "Params size (MB): 0.47\n",
      "Estimated Total Size (MB): 0.75\n",
      "----------------------------------------------------------------\n",
      "----------------------------------------------------------------\n",
      "        Layer (type)               Output Shape         Param #\n",
      "================================================================\n",
      "            Conv2d-1           [-1, 32, 26, 26]             320\n",
      "         MaxPool2d-2           [-1, 32, 13, 13]               0\n",
      "            Conv2d-3           [-1, 64, 11, 11]          18,496\n",
      "         MaxPool2d-4             [-1, 64, 5, 5]               0\n",
      "            Linear-5                   [-1, 64]         102,464\n",
      "            Linear-6                   [-1, 10]             650\n",
      "================================================================\n",
      "Total params: 121,930\n",
      "Trainable params: 121,930\n",
      "Non-trainable params: 0\n",
      "----------------------------------------------------------------\n",
      "Input size (MB): 0.00\n",
      "Forward/backward pass size (MB): 0.28\n",
      "Params size (MB): 0.47\n",
      "Estimated Total Size (MB): 0.75\n",
      "----------------------------------------------------------------\n"
     ]
    }
   ],
   "source": [
    "from torchsummary import summary\n",
    "\n",
    "summary(net.cuda(), (1, 28, 28)) # torchsummary라는 라이브러리에 tensorflow의 summary와 유사한 함수가 있다."
   ]
  },
  {
   "cell_type": "markdown",
   "id": "cd8169e5",
   "metadata": {},
   "source": [
    "### 4. 모델 학습"
   ]
  },
  {
   "cell_type": "code",
   "execution_count": 8,
   "id": "170bed2f",
   "metadata": {
    "scrolled": true
   },
   "outputs": [
    {
     "name": "stdout",
     "output_type": "stream",
     "text": [
      "[1,   200] loss: 0.442\n",
      "[1,   200] loss: 0.442\n",
      "[1,   400] loss: 0.123\n",
      "[1,   400] loss: 0.123\n",
      "[1,   600] loss: 0.088\n",
      "[1,   600] loss: 0.088\n",
      "[1,   800] loss: 0.072\n",
      "[1,   800] loss: 0.072\n",
      "[2,   200] loss: 0.060\n",
      "[2,   200] loss: 0.060\n",
      "[2,   400] loss: 0.049\n",
      "[2,   400] loss: 0.049\n",
      "[2,   600] loss: 0.049\n",
      "[2,   600] loss: 0.049\n",
      "[2,   800] loss: 0.044\n",
      "[2,   800] loss: 0.044\n",
      "[3,   200] loss: 0.034\n",
      "[3,   200] loss: 0.034\n",
      "[3,   400] loss: 0.038\n",
      "[3,   400] loss: 0.038\n",
      "[3,   600] loss: 0.034\n",
      "[3,   600] loss: 0.034\n",
      "[3,   800] loss: 0.038\n",
      "[3,   800] loss: 0.038\n",
      "[4,   200] loss: 0.028\n",
      "[4,   200] loss: 0.028\n",
      "[4,   400] loss: 0.024\n",
      "[4,   400] loss: 0.024\n",
      "[4,   600] loss: 0.027\n",
      "[4,   600] loss: 0.027\n",
      "[4,   800] loss: 0.029\n",
      "[4,   800] loss: 0.029\n",
      "[5,   200] loss: 0.020\n",
      "[5,   200] loss: 0.020\n",
      "[5,   400] loss: 0.017\n",
      "[5,   400] loss: 0.017\n",
      "[5,   600] loss: 0.022\n",
      "[5,   600] loss: 0.022\n",
      "[5,   800] loss: 0.019\n",
      "[5,   800] loss: 0.019\n"
     ]
    }
   ],
   "source": [
    "# Define the loss function and optimizer\n",
    "criterion = nn.CrossEntropyLoss()\n",
    "optimizer = optim.Adam(net.parameters())\n",
    "\n",
    "# Train the model\n",
    "for epoch in range(5):  # loop over the dataset multiple times\n",
    "\n",
    "    running_loss = 0.0\n",
    "    for i, data in enumerate(trainloader, 0):\n",
    "        # 데이터 불러오기\n",
    "        inputs, labels = data\n",
    "\n",
    "        # 순전파 진행.\n",
    "        outputs = net(inputs.cuda()).cuda()\n",
    "        loss = criterion(outputs, labels.cuda()) # 손실함수 값 계산\n",
    "        \n",
    "        # 역전파 진행\n",
    "        optimizer.zero_grad() # 역전파를 진행하기 전 gradient를 0으로 바꿈.\n",
    "        loss.backward()\n",
    "        optimizer.step() # 모델 파라미터 업데이트\n",
    "\n",
    "        # 손실함수 값 저장\n",
    "        running_loss += loss.item()\n",
    "        if i % 200 == 199:    # print every 200 mini-batches\n",
    "            print('[%d, %5d] loss: %.3f' %\n",
    "                  (epoch + 1, i + 1, running_loss / 200))\n",
    "            running_loss = 0.0"
   ]
  },
  {
   "cell_type": "markdown",
   "id": "004b1189",
   "metadata": {},
   "source": [
    "### 5. 모델 평가"
   ]
  },
  {
   "cell_type": "code",
   "execution_count": 9,
   "id": "0cbaf0bd",
   "metadata": {},
   "outputs": [
    {
     "name": "stdout",
     "output_type": "stream",
     "text": [
      "Accuracy of the network on the 10000 test images: 99.080000 %\n",
      "Accuracy of the network on the 10000 test images: 99.080000 %\n"
     ]
    }
   ],
   "source": [
    "# Evaluate the model\n",
    "correct = 0\n",
    "total = 0\n",
    "\n",
    "with torch.no_grad():\n",
    "    for data in testloader:\n",
    "        # 데이터 불러오기\n",
    "        images, labels = data\n",
    "        \n",
    "        # 순전파\n",
    "        outputs = net(images.cuda()).cuda()\n",
    "        \n",
    "        # 예측 - 가장 높은 값을 가진 레이블을 가져옴\n",
    "        _, predicted = torch.max(outputs.data, 1) # 가장 높은 확률 값, 라벨\n",
    "        \n",
    "        # 전체 데이터 개수\n",
    "        total += labels.size(0)\n",
    "        \n",
    "        # 정답 개수\n",
    "        correct += (predicted == labels.cuda()).sum().item()\n",
    "\n",
    "print('Accuracy of the network on the 10000 test images: %f %%' % (\n",
    "    100 * correct / total))"
   ]
  }
 ],
 "metadata": {
  "kernelspec": {
   "display_name": "pytorch-gpu",
   "language": "python",
   "name": "pytorch-gpu"
  },
  "language_info": {
   "codemirror_mode": {
    "name": "ipython",
    "version": 3
   },
   "file_extension": ".py",
   "mimetype": "text/x-python",
   "name": "python",
   "nbconvert_exporter": "python",
   "pygments_lexer": "ipython3",
   "version": "3.8.16"
  }
 },
 "nbformat": 4,
 "nbformat_minor": 5
}
