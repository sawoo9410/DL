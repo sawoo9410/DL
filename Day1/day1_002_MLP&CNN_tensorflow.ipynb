{
 "cells": [
  {
   "cell_type": "markdown",
   "id": "7a810f38",
   "metadata": {},
   "source": [
    "### Created on 2023\n",
    "### @author: S.W"
   ]
  },
  {
   "cell_type": "markdown",
   "id": "90f3e6bf",
   "metadata": {},
   "source": [
    "----\n",
    "\n",
    "# Tensorflow\n",
    "\n",
    "----"
   ]
  },
  {
   "cell_type": "markdown",
   "id": "51a8999e",
   "metadata": {},
   "source": [
    "## CIFAR-10 데이터셋으로 이미지 분류 해보기 - MLP\n",
    "\n",
    "### 0. CIFAR-10 데이터\n",
    "\n",
    "CIFAR-10은 Canadian Institute For Advanced Research (CIAR)에서 만든 컴퓨터 비전용 데이터셋입니다. 이 데이터셋은 32x32 크기의 컬러 이미지를 10개의 클래스로 분류하는 문제를 다룹니다.\n",
    "\n",
    "CIFAR-10 데이터셋은 다음과 같은 10개의 클래스로 구성되어 있습니다.\n",
    "\n",
    "- Airplane\n",
    "- Automobile\n",
    "- Bird\n",
    "- Cat\n",
    "- Deer\n",
    "- Dog\n",
    "- Frog\n",
    "- Horse\n",
    "- Ship\n",
    "- Truck\n",
    "\n",
    "데이터셋은 50,000개의 훈련 이미지와 10,000개의 테스트 이미지로 구성되어 있습니다. 각 이미지는 RGB 채널 값으로 이루어져 있고, 픽셀 값은 0~255의 범위를 가집니다.\n",
    "\n",
    "- https://www.cs.toronto.edu/~kriz/cifar.html\n",
    "\n",
    "### 1. 학습에 필요한 라이브러리 불러오기"
   ]
  },
  {
   "cell_type": "code",
   "execution_count": 1,
   "id": "77903900",
   "metadata": {},
   "outputs": [],
   "source": [
    "import numpy as np\n",
    "\n",
    "# 시각화 관련 라이브러리 불러오기\n",
    "import PIL\n",
    "import matplotlib \n",
    "import matplotlib.pyplot as plt\n",
    "\n",
    "\n",
    "# 딥러닝 관련 라이브러리인 tensorflow, keras 불러오기\n",
    "import keras\n",
    "from keras.utils import np_utils\n",
    "import tensorflow as tf\n",
    "from tensorflow.keras import datasets, layers, models\n",
    "from tensorflow.keras.models import Model\n",
    "from tensorflow.keras.layers import Input,Dense"
   ]
  },
  {
   "cell_type": "markdown",
   "id": "cf9ac936",
   "metadata": {},
   "source": [
    "아래의 코드에서 tf.config.list_physical_devices('GPU')는 시스템에 연결된 모든 GPU 장치들의 리스트를 반환합니다. 반환값이 []이면 시스템에 GPU가 없는 것입니다.\n",
    "\n",
    "tf.test.is_gpu_available() 함수는 TensorFlow가 GPU를 사용할 수 있는지 확인합니다. 이 함수는 True 또는 False 값을 반환합니다. GPU가 설정되어 있지 않은 경우, TensorFlow는 CPU를 사용하여 연산을 수행합니다."
   ]
  },
  {
   "cell_type": "code",
   "execution_count": 2,
   "id": "023715da",
   "metadata": {},
   "outputs": [
    {
     "name": "stdout",
     "output_type": "stream",
     "text": [
      "Num GPUs Available:  0\n",
      "WARNING:tensorflow:From /var/folders/f5/y2439bls50z1n9fr018yc9q40000gn/T/ipykernel_99100/3057038082.py:5: is_gpu_available (from tensorflow.python.framework.test_util) is deprecated and will be removed in a future version.\n",
      "Instructions for updating:\n",
      "Use `tf.config.list_physical_devices('GPU')` instead.\n",
      "False\n"
     ]
    }
   ],
   "source": [
    "# GPU 사용 가능 여부 확인\n",
    "print(\"Num GPUs Available: \", len(tf.config.list_physical_devices('GPU')))\n",
    "\n",
    "# GPU가 설정되어 있는지 확인\n",
    "print(tf.test.is_gpu_available())"
   ]
  },
  {
   "cell_type": "markdown",
   "id": "b417a3e6",
   "metadata": {},
   "source": [
    "### 2. CIFAR-10 데이터 불러오기"
   ]
  },
  {
   "cell_type": "code",
   "execution_count": 3,
   "id": "ecea598d",
   "metadata": {},
   "outputs": [
    {
     "name": "stdout",
     "output_type": "stream",
     "text": [
      "(50000, 32, 32, 3) (50000, 1) (10000, 32, 32, 3) (10000, 1)\n"
     ]
    }
   ],
   "source": [
    "# tensorflow에 내장되어 있는 CIFAR-10 데이터 셋 불러오기\n",
    "(train_images, train_labels), (test_images, test_labels) = datasets.cifar10.load_data()\n",
    "\n",
    "print(train_images.shape, train_labels.shape, test_images.shape, test_labels.shape)"
   ]
  },
  {
   "cell_type": "markdown",
   "id": "56c193ed",
   "metadata": {},
   "source": [
    "### 3. 이미지 데이터 전처리\n",
    "\n",
    "- 픽셀 값을 0과 1 사이의 값으로 변경 → 딥러닝은 학습할 때 작은 숫자에 더 잘 학습됨."
   ]
  },
  {
   "cell_type": "code",
   "execution_count": 4,
   "id": "21721fdb",
   "metadata": {},
   "outputs": [],
   "source": [
    "# CNN 학습을 위해 데이터 구조 변경\n",
    "# CNN의 일반적인 데이터 input 구조 - (데이터 수, 높이, 너비, 채널)\n",
    "train_images = train_images.reshape((50000, 32, 32, 3))\n",
    "test_images = test_images.reshape((10000, 32, 32, 3))\n",
    "\n",
    "# 픽셀 값을 0~1 사이로 정규화합니다.\n",
    "train_images, test_images = train_images / 255.0, test_images / 255.0"
   ]
  },
  {
   "cell_type": "markdown",
   "id": "ba5c0ab8",
   "metadata": {},
   "source": [
    "### 4. 모델 정의(keras sequential API)"
   ]
  },
  {
   "cell_type": "code",
   "execution_count": 5,
   "id": "50c5a96a",
   "metadata": {},
   "outputs": [
    {
     "name": "stdout",
     "output_type": "stream",
     "text": [
      "Model: \"sequential\"\n",
      "_________________________________________________________________\n",
      " Layer (type)                Output Shape              Param #   \n",
      "=================================================================\n",
      " flatten (Flatten)           (None, 3072)              0         \n",
      "                                                                 \n",
      " dense (Dense)               (None, 512)               1573376   \n",
      "                                                                 \n",
      " dense_1 (Dense)             (None, 256)               131328    \n",
      "                                                                 \n",
      " dense_2 (Dense)             (None, 128)               32896     \n",
      "                                                                 \n",
      " dense_3 (Dense)             (None, 10)                1290      \n",
      "                                                                 \n",
      "=================================================================\n",
      "Total params: 1,738,890\n",
      "Trainable params: 1,738,890\n",
      "Non-trainable params: 0\n",
      "_________________________________________________________________\n"
     ]
    }
   ],
   "source": [
    "model = keras.Sequential(\n",
    "    [\n",
    "        keras.Input(shape=(32, 32, 3)),\n",
    "        layers.Flatten(), # 다차원 데이터를 1차원 데이터로 바꿔줌.\n",
    "        layers.Dense(512, activation=\"relu\"),\n",
    "        layers.Dense(256, activation=\"relu\"),\n",
    "        layers.Dense(128, activation=\"relu\"),\n",
    "        layers.Dense(10),\n",
    "    ]\n",
    ")\n",
    "\n",
    "model.summary()"
   ]
  },
  {
   "cell_type": "markdown",
   "id": "c7e1f46f",
   "metadata": {},
   "source": [
    "### 5. 모델 학습"
   ]
  },
  {
   "cell_type": "code",
   "execution_count": 6,
   "id": "067b8743",
   "metadata": {
    "scrolled": true
   },
   "outputs": [
    {
     "name": "stdout",
     "output_type": "stream",
     "text": [
      "Epoch 1/10\n"
     ]
    },
    {
     "name": "stderr",
     "output_type": "stream",
     "text": [
      "2023-04-21 17:11:12.472749: W tensorflow/core/platform/profile_utils/cpu_utils.cc:128] Failed to get CPU frequency: 0 Hz\n"
     ]
    },
    {
     "name": "stdout",
     "output_type": "stream",
     "text": [
      "625/625 [==============================] - 14s 23ms/step - loss: 1.8795 - accuracy: 0.3185 - val_loss: 1.7398 - val_accuracy: 0.3753\n",
      "Epoch 2/10\n",
      "625/625 [==============================] - 9s 14ms/step - loss: 1.6828 - accuracy: 0.3939 - val_loss: 1.6966 - val_accuracy: 0.3887\n",
      "Epoch 3/10\n",
      "625/625 [==============================] - 6s 10ms/step - loss: 1.6112 - accuracy: 0.4245 - val_loss: 1.5827 - val_accuracy: 0.4394\n",
      "Epoch 4/10\n",
      "625/625 [==============================] - 6s 10ms/step - loss: 1.5492 - accuracy: 0.4442 - val_loss: 1.5960 - val_accuracy: 0.4308\n",
      "Epoch 5/10\n",
      "625/625 [==============================] - 6s 9ms/step - loss: 1.5038 - accuracy: 0.4592 - val_loss: 1.5195 - val_accuracy: 0.4654\n",
      "Epoch 6/10\n",
      "625/625 [==============================] - 6s 9ms/step - loss: 1.4672 - accuracy: 0.4763 - val_loss: 1.5440 - val_accuracy: 0.4545\n",
      "Epoch 7/10\n",
      "625/625 [==============================] - 6s 9ms/step - loss: 1.4344 - accuracy: 0.4882 - val_loss: 1.5244 - val_accuracy: 0.4615\n",
      "Epoch 8/10\n",
      "625/625 [==============================] - 6s 10ms/step - loss: 1.4098 - accuracy: 0.4938 - val_loss: 1.4864 - val_accuracy: 0.4782\n",
      "Epoch 9/10\n",
      "625/625 [==============================] - 6s 9ms/step - loss: 1.3791 - accuracy: 0.5055 - val_loss: 1.4894 - val_accuracy: 0.4716\n",
      "Epoch 10/10\n",
      "625/625 [==============================] - 6s 10ms/step - loss: 1.3486 - accuracy: 0.5181 - val_loss: 1.4687 - val_accuracy: 0.4817\n"
     ]
    }
   ],
   "source": [
    "# 모델 컴파일\n",
    "# model.compile() - 학습할 때 필요한 요인들을 설정한다.\n",
    "model.compile(\n",
    "    loss=tf.keras.losses.SparseCategoricalCrossentropy(from_logits=True), # 손실함수 설정\n",
    "    optimizer=tf.keras.optimizers.Adam(learning_rate=0.001), # 최적화 방법 설정\n",
    "    metrics=[\"accuracy\"], # 모델의 평가지표 설정\n",
    ")\n",
    "\n",
    "# 모델 학습\n",
    "# model.fit() - 모델을 학습시킨다.\n",
    "history = model.fit(train_images, train_labels, batch_size=64, epochs=10, validation_split=0.2)\n",
    "\n",
    "# 학습 관련 함수가 있는 keras 공식 documents - https://keras.io/api/models/model_training_apis/"
   ]
  },
  {
   "cell_type": "markdown",
   "id": "58ac2eaa",
   "metadata": {},
   "source": [
    "### 6. 모델 평가(Loss, Accuracy)"
   ]
  },
  {
   "cell_type": "code",
   "execution_count": 7,
   "id": "948270fc",
   "metadata": {},
   "outputs": [
    {
     "name": "stdout",
     "output_type": "stream",
     "text": [
      "157/157 - 0s - loss: 1.4539 - accuracy: 0.4872 - 284ms/epoch - 2ms/step\n"
     ]
    },
    {
     "data": {
      "text/plain": [
       "[1.4538723230361938, 0.487199991941452]"
      ]
     },
     "execution_count": 7,
     "metadata": {},
     "output_type": "execute_result"
    }
   ],
   "source": [
    "# evaluate() : model.compile() 함수에서 사용한 metrics의 함수를 통해 test data에 대한 metric 결과 출력\n",
    "model.evaluate(test_images, test_labels, batch_size=64, verbose=2)"
   ]
  },
  {
   "cell_type": "markdown",
   "id": "26f2f7f0",
   "metadata": {},
   "source": [
    "### 7. 모델 학습과정 시각화"
   ]
  },
  {
   "cell_type": "code",
   "execution_count": 8,
   "id": "963c3453",
   "metadata": {},
   "outputs": [
    {
     "name": "stdout",
     "output_type": "stream",
     "text": [
      "313/313 [==============================] - 0s 1ms/step - loss: 1.4539 - accuracy: 0.4872\n",
      "\n",
      "Accuracy: 0.4872\n"
     ]
    },
    {
     "data": {
      "image/png": "[encoded data removed]",
      "text/plain": [
       "<Figure size 640x480 with 1 Axes>"
      ]
     },
     "metadata": {},
     "output_type": "display_data"
    }
   ],
   "source": [
    "# 출처\n",
    "# https://snowdeer.github.io/machine-learning/2018/01/10/check-relation-between-epoch-and-loss-using-graph/\n",
    "\n",
    "print('\\nAccuracy: {:.4f}'.format(model.evaluate(test_images, test_labels)[1]))\n",
    "\n",
    "y_vloss = history.history['val_loss']\n",
    "y_loss = history.history['loss']\n",
    "\n",
    "x_len = np.arange(len(y_loss))\n",
    "plt.plot(x_len, y_vloss, marker='.', c='red', label=\"Validation-set Loss\")\n",
    "plt.plot(x_len, y_loss, marker='.', c='blue', label=\"Train-set Loss\")\n",
    "\n",
    "plt.legend(loc='upper right')\n",
    "plt.grid()\n",
    "plt.xlabel('epoch')\n",
    "plt.ylabel('loss')\n",
    "plt.show()"
   ]
  },
  {
   "cell_type": "markdown",
   "id": "b466f0c4",
   "metadata": {},
   "source": [
    "## CIFAR-10 데이터셋으로 이미지 분류 해보기 - CNN\n",
    "\n",
    "### 1. 학습에 필요한 라이브러리 불러오기 - 생략\n",
    "### 2. CIFAR-10 데이터 불러오기"
   ]
  },
  {
   "cell_type": "code",
   "execution_count": 9,
   "id": "3eda90fb",
   "metadata": {},
   "outputs": [
    {
     "name": "stdout",
     "output_type": "stream",
     "text": [
      "(50000, 32, 32, 3) (50000, 1) (10000, 32, 32, 3)\n"
     ]
    }
   ],
   "source": [
    "(train_images, train_labels), (test_images, test_labels) = datasets.cifar10.load_data()\n",
    "\n",
    "print(train_images.shape, train_labels.shape, test_images.shape)"
   ]
  },
  {
   "cell_type": "markdown",
   "id": "95496c98",
   "metadata": {},
   "source": [
    "### 3. 이미지 데이터 전처리"
   ]
  },
  {
   "cell_type": "code",
   "execution_count": 10,
   "id": "06bc233d",
   "metadata": {},
   "outputs": [],
   "source": [
    "# CNN 학습을 위해 데이터 구조 변경\n",
    "# CNN의 일반적인 데이터 input 구조 - (데이터 수, 높이, 너비, 채널)\n",
    "train_images = train_images.reshape((50000, 32, 32, 3))\n",
    "test_images = test_images.reshape((10000, 32, 32, 3))\n",
    "\n",
    "# 픽셀 값을 0~1 사이로 정규화합니다.\n",
    "train_images, test_images = train_images / 255.0, test_images / 255.0"
   ]
  },
  {
   "cell_type": "markdown",
   "id": "fe4220b7",
   "metadata": {},
   "source": [
    "### 4. 모델 정의(keras functional API)"
   ]
  },
  {
   "cell_type": "code",
   "execution_count": 11,
   "id": "e60ec91b",
   "metadata": {},
   "outputs": [],
   "source": [
    "# keras functional API\n",
    "input_layer = Input(shape = (32, 32, 3))\n",
    "cnn_1 = layers.Conv2D(32, (3,3), activation=\"relu\", padding=\"same\")(input_layer)\n",
    "pooling_1 = layers.MaxPooling2D((2,2))(cnn_1)\n",
    "cnn_2 = layers.Conv2D(64, (3,3), activation=\"relu\", padding=\"same\")(pooling_1)\n",
    "pooling_2 = layers.MaxPooling2D((2,2))(cnn_2)\n",
    "cnn_3 = layers.Conv2D(64, (3,3), activation=\"relu\", padding=\"same\")(pooling_2)\n",
    "\n",
    "flat = layers.Flatten()(cnn_3) # 고차원 데이터를 1차원 데이터로 flatten 시킴\n",
    "dense_1 = layers.Dense(64, activation='relu')(flat)\n",
    "output_layer= Dense(10, activation=\"softmax\")(dense_1)\n",
    "\n",
    "model = Model(inputs=input_layer, outputs=output_layer)"
   ]
  },
  {
   "cell_type": "code",
   "execution_count": 12,
   "id": "7603a2f7",
   "metadata": {},
   "outputs": [
    {
     "name": "stdout",
     "output_type": "stream",
     "text": [
      "Model: \"model\"\n",
      "_________________________________________________________________\n",
      " Layer (type)                Output Shape              Param #   \n",
      "=================================================================\n",
      " input_2 (InputLayer)        [(None, 32, 32, 3)]       0         \n",
      "                                                                 \n",
      " conv2d (Conv2D)             (None, 32, 32, 32)        896       \n",
      "                                                                 \n",
      " max_pooling2d (MaxPooling2D  (None, 16, 16, 32)       0         \n",
      " )                                                               \n",
      "                                                                 \n",
      " conv2d_1 (Conv2D)           (None, 16, 16, 64)        18496     \n",
      "                                                                 \n",
      " max_pooling2d_1 (MaxPooling  (None, 8, 8, 64)         0         \n",
      " 2D)                                                             \n",
      "                                                                 \n",
      " conv2d_2 (Conv2D)           (None, 8, 8, 64)          36928     \n",
      "                                                                 \n",
      " flatten_1 (Flatten)         (None, 4096)              0         \n",
      "                                                                 \n",
      " dense_4 (Dense)             (None, 64)                262208    \n",
      "                                                                 \n",
      " dense_5 (Dense)             (None, 10)                650       \n",
      "                                                                 \n",
      "=================================================================\n",
      "Total params: 319,178\n",
      "Trainable params: 319,178\n",
      "Non-trainable params: 0\n",
      "_________________________________________________________________\n"
     ]
    }
   ],
   "source": [
    "model.summary()"
   ]
  },
  {
   "cell_type": "markdown",
   "id": "82e42ee7",
   "metadata": {},
   "source": [
    "### 5. 모델 학습"
   ]
  },
  {
   "cell_type": "code",
   "execution_count": 13,
   "id": "c3a770f7",
   "metadata": {
    "scrolled": true
   },
   "outputs": [
    {
     "name": "stdout",
     "output_type": "stream",
     "text": [
      "Epoch 1/10\n",
      "782/782 [==============================] - 15s 18ms/step - loss: 1.4961 - accuracy: 0.4599 - sparse_categorical_crossentropy: 1.4961 - val_loss: 1.1663 - val_accuracy: 0.5872 - val_sparse_categorical_crossentropy: 1.1663\n",
      "Epoch 2/10\n",
      "782/782 [==============================] - 15s 20ms/step - loss: 1.0676 - accuracy: 0.6240 - sparse_categorical_crossentropy: 1.0676 - val_loss: 0.9842 - val_accuracy: 0.6530 - val_sparse_categorical_crossentropy: 0.9842\n",
      "Epoch 3/10\n",
      "782/782 [==============================] - 16s 20ms/step - loss: 0.8910 - accuracy: 0.6878 - sparse_categorical_crossentropy: 0.8910 - val_loss: 0.8731 - val_accuracy: 0.6975 - val_sparse_categorical_crossentropy: 0.8731\n",
      "Epoch 4/10\n",
      "782/782 [==============================] - 16s 21ms/step - loss: 0.7970 - accuracy: 0.7223 - sparse_categorical_crossentropy: 0.7970 - val_loss: 0.8178 - val_accuracy: 0.7125 - val_sparse_categorical_crossentropy: 0.8178\n",
      "Epoch 5/10\n",
      "782/782 [==============================] - 16s 21ms/step - loss: 0.7136 - accuracy: 0.7498 - sparse_categorical_crossentropy: 0.7136 - val_loss: 0.7834 - val_accuracy: 0.7327 - val_sparse_categorical_crossentropy: 0.7834\n",
      "Epoch 6/10\n",
      "782/782 [==============================] - 17s 21ms/step - loss: 0.6471 - accuracy: 0.7739 - sparse_categorical_crossentropy: 0.6471 - val_loss: 0.7790 - val_accuracy: 0.7319 - val_sparse_categorical_crossentropy: 0.7790\n",
      "Epoch 7/10\n",
      "782/782 [==============================] - 17s 21ms/step - loss: 0.5842 - accuracy: 0.7956 - sparse_categorical_crossentropy: 0.5842 - val_loss: 0.8948 - val_accuracy: 0.7062 - val_sparse_categorical_crossentropy: 0.8948\n",
      "Epoch 8/10\n",
      "782/782 [==============================] - 17s 21ms/step - loss: 0.5386 - accuracy: 0.8123 - sparse_categorical_crossentropy: 0.5386 - val_loss: 0.7936 - val_accuracy: 0.7391 - val_sparse_categorical_crossentropy: 0.7936\n",
      "Epoch 9/10\n",
      "782/782 [==============================] - 17s 21ms/step - loss: 0.4881 - accuracy: 0.8269 - sparse_categorical_crossentropy: 0.4881 - val_loss: 0.8090 - val_accuracy: 0.7408 - val_sparse_categorical_crossentropy: 0.8090\n",
      "Epoch 10/10\n",
      "782/782 [==============================] - 17s 21ms/step - loss: 0.4412 - accuracy: 0.8455 - sparse_categorical_crossentropy: 0.4412 - val_loss: 0.8540 - val_accuracy: 0.7338 - val_sparse_categorical_crossentropy: 0.8540\n"
     ]
    }
   ],
   "source": [
    "# 모델 컴파일\n",
    "# model.compile() - 학습할 때 필요한 요인들을 설정한다.\n",
    "model.compile(optimizer='adam', # 최적화 방법 설정\n",
    "              loss='sparse_categorical_crossentropy', # 손실함수 설정\n",
    "              metrics=['accuracy', 'sparse_categorical_crossentropy'], # 평가지표 설정\n",
    "             )\n",
    "\n",
    "# 모델 학습\n",
    "# model.fit() - 모델을 학습시킨다.\n",
    "history = model.fit(train_images, train_labels,\n",
    "                    validation_data=(test_images, test_labels),\n",
    "                    batch_size = 64,\n",
    "                    epochs=10)\n",
    "\n",
    "# 학습 관련 함수가 있는 keras 공식 documents - https://keras.io/api/models/model_training_apis/"
   ]
  },
  {
   "cell_type": "markdown",
   "id": "c911d492",
   "metadata": {},
   "source": [
    "### 6. 모델 평가(Loss, Accuracy)"
   ]
  },
  {
   "cell_type": "code",
   "execution_count": 14,
   "id": "1f691c11",
   "metadata": {},
   "outputs": [
    {
     "data": {
      "text/plain": [
       "[0.8540404438972473, 0.7337999939918518, 0.8540404438972473]"
      ]
     },
     "execution_count": 14,
     "metadata": {},
     "output_type": "execute_result"
    }
   ],
   "source": [
    "# evaluate() : model.compile() 함수에서 사용한 metrics의 함수를 통해 test data에 대한 metric 결과 출력\n",
    "\n",
    "model.evaluate(test_images, test_labels, verbose=0)"
   ]
  },
  {
   "cell_type": "markdown",
   "id": "c6355301",
   "metadata": {},
   "source": [
    "#### scikit-learn에 있는 평가지표를 통해 모델 평가하기"
   ]
  },
  {
   "cell_type": "code",
   "execution_count": 15,
   "id": "fa76ebb5",
   "metadata": {},
   "outputs": [
    {
     "data": {
      "text/plain": [
       "array([4.0398684e-04, 4.5844790e-05, 3.8841864e-04, 8.4704238e-01,\n",
       "       1.4496638e-04, 1.4963946e-01, 1.2243526e-03, 2.7654551e-05,\n",
       "       9.8326034e-04, 9.9672616e-05], dtype=float32)"
      ]
     },
     "execution_count": 15,
     "metadata": {},
     "output_type": "execute_result"
    }
   ],
   "source": [
    "# 모델 테스트 데이터 예측값 출력\n",
    "y_pred = model.predict(test_images)\n",
    "y_pred[0]"
   ]
  },
  {
   "cell_type": "code",
   "execution_count": 16,
   "id": "8730e172",
   "metadata": {},
   "outputs": [
    {
     "data": {
      "text/plain": [
       "array([3, 8, 0, ..., 5, 4, 7])"
      ]
     },
     "execution_count": 16,
     "metadata": {},
     "output_type": "execute_result"
    }
   ],
   "source": [
    "# 열 단위, 가장 높은 값을 반환\n",
    "np.argmax(y_pred, axis=1)"
   ]
  },
  {
   "cell_type": "code",
   "execution_count": 17,
   "id": "d4a018cf",
   "metadata": {},
   "outputs": [
    {
     "data": {
      "text/plain": [
       "0.7338"
      ]
     },
     "execution_count": 17,
     "metadata": {},
     "output_type": "execute_result"
    }
   ],
   "source": [
    "from sklearn.metrics import accuracy_score\n",
    "\n",
    "accuracy_score(test_labels, np.argmax(y_pred, axis=1))"
   ]
  },
  {
   "cell_type": "markdown",
   "id": "ee983360",
   "metadata": {},
   "source": [
    "### 7. 모델 학습과정 시각화"
   ]
  },
  {
   "cell_type": "code",
   "execution_count": 18,
   "id": "7781710e",
   "metadata": {},
   "outputs": [
    {
     "name": "stdout",
     "output_type": "stream",
     "text": [
      "313/313 [==============================] - 2s 6ms/step - loss: 0.8540 - accuracy: 0.7338 - sparse_categorical_crossentropy: 0.8540\n",
      "\n",
      "Accuracy: 0.7338\n"
     ]
    },
    {
     "data": {
      "image/png": "[encoded data removed]",
      "text/plain": [
       "<Figure size 640x480 with 1 Axes>"
      ]
     },
     "metadata": {},
     "output_type": "display_data"
    }
   ],
   "source": [
    "# 출처\n",
    "# https://snowdeer.github.io/machine-learning/2018/01/10/check-relation-between-epoch-and-loss-using-graph/\n",
    "\n",
    "print('\\nAccuracy: {:.4f}'.format(model.evaluate(test_images, test_labels)[1]))\n",
    "\n",
    "y_vloss = history.history['val_loss']\n",
    "y_loss = history.history['loss']\n",
    "\n",
    "x_len = np.arange(len(y_loss))\n",
    "plt.plot(x_len, y_vloss, marker='.', c='red', label=\"Validation-set Loss\")\n",
    "plt.plot(x_len, y_loss, marker='.', c='blue', label=\"Train-set Loss\")\n",
    "\n",
    "plt.legend(loc='upper right')\n",
    "plt.grid()\n",
    "plt.xlabel('epoch')\n",
    "plt.ylabel('loss')\n",
    "plt.show()"
   ]
  },
  {
   "cell_type": "markdown",
   "id": "8b0737d7",
   "metadata": {},
   "source": [
    "## 실제로 잘 맞췄는지 확인해보기"
   ]
  },
  {
   "cell_type": "code",
   "execution_count": 19,
   "id": "4dc55ad1",
   "metadata": {},
   "outputs": [
    {
     "name": "stdout",
     "output_type": "stream",
     "text": [
      "AxesImage(80,52.8;496x369.6)\n",
      "실제 라벨 값:  [3] \n",
      "예측 라벨 값: 3\n"
     ]
    },
    {
     "data": {
      "image/png": "[encoded data removed]",
      "text/plain": [
       "<Figure size 640x480 with 1 Axes>"
      ]
     },
     "metadata": {},
     "output_type": "display_data"
    }
   ],
   "source": [
    "n = 0\n",
    "print(plt.imshow(test_images[n]))\n",
    "print(\"실제 라벨 값: \",test_labels[n], \"\\n예측 라벨 값:\", np.argmax(y_pred[n], axis=0))# "
   ]
  }
 ],
 "metadata": {
  "kernelspec": {
   "display_name": "Python 3",
   "language": "python",
   "name": "python3"
  },
  "language_info": {
   "codemirror_mode": {
    "name": "ipython",
    "version": 3
   },
   "file_extension": ".py",
   "mimetype": "text/x-python",
   "name": "python",
   "nbconvert_exporter": "python",
   "pygments_lexer": "ipython3",
   "version": "3.8.13"
  }
 },
 "nbformat": 4,
 "nbformat_minor": 5
}
