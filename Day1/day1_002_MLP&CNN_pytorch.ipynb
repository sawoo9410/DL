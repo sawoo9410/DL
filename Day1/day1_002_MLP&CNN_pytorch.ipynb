{
 "cells": [
  {
   "cell_type": "markdown",
   "id": "0dc0f1e1",
   "metadata": {},
   "source": [
    "### Created on 2023\n",
    "### @author: S.W"
   ]
  },
  {
   "cell_type": "markdown",
   "id": "38fc6961",
   "metadata": {},
   "source": [
    "----\n",
    "\n",
    "# Pytorch\n",
    "\n",
    "----"
   ]
  },
  {
   "cell_type": "markdown",
   "id": "6142b47d",
   "metadata": {},
   "source": [
    "## CIFAR-10 데이터셋으로 이미지 분류 해보기 - MLP\n",
    "\n",
    "### 0. CIFAR-10 데이터\n",
    "\n",
    "CIFAR-10은 Canadian Institute For Advanced Research (CIAR)에서 만든 컴퓨터 비전용 데이터셋입니다. 이 데이터셋은 32x32 크기의 컬러 이미지를 10개의 클래스로 분류하는 문제를 다룹니다.\n",
    "\n",
    "CIFAR-10 데이터셋은 다음과 같은 10개의 클래스로 구성되어 있습니다.\n",
    "\n",
    "- Airplane\n",
    "- Automobile\n",
    "- Bird\n",
    "- Cat\n",
    "- Deer\n",
    "- Dog\n",
    "- Frog\n",
    "- Horse\n",
    "- Ship\n",
    "- Truck\n",
    "\n",
    "데이터셋은 50,000개의 훈련 이미지와 10,000개의 테스트 이미지로 구성되어 있습니다. 각 이미지는 RGB 채널 값으로 이루어져 있고, 픽셀 값은 0~255의 범위를 가집니다.\n",
    "\n",
    "- https://www.cs.toronto.edu/~kriz/cifar.html\n",
    "\n",
    "### 1. 학습에 필요한 라이브러리 불러오기"
   ]
  },
  {
   "cell_type": "code",
   "execution_count": 1,
   "id": "0c01c7b3",
   "metadata": {},
   "outputs": [],
   "source": [
    "import numpy as np\n",
    "\n",
    "# 시각화 관련 라이브러리 불러오기\n",
    "import PIL\n",
    "import matplotlib \n",
    "import matplotlib.pyplot as plt\n",
    "\n",
    "# 딥러닝 관련 라이브러리인 pytorch 불러오기\n",
    "import torch\n",
    "import torch.nn as nn\n",
    "import torch.optim as optim\n",
    "from torch.utils.data import DataLoader\n",
    "from torchvision.datasets import CIFAR10\n",
    "from torchvision.transforms import ToTensor, Normalize, RandomCrop, RandomHorizontalFlip\n",
    "import torchvision.transforms as transforms"
   ]
  },
  {
   "cell_type": "markdown",
   "id": "2bc8b4ea",
   "metadata": {},
   "source": [
    "torch.cuda.device_count() 함수는 시스템에 연결된 GPU 장치의 수를 반환합니다. 반환값이 0인 경우, 시스템에 GPU가 없는 것입니다.\n",
    "\n",
    "torch.cuda.is_available() 함수는 PyTorch에서 CUDA (NVIDIA의 GPU를 사용하는 라이브러리)가 사용 가능한지 여부를 확인합니다. 이 함수는 True 또는 False 값을 반환합니다. GPU가 설정되어 있지 않은 경우, PyTorch는 CPU를 사용하여 연산을 수행합니다."
   ]
  },
  {
   "cell_type": "code",
   "execution_count": 2,
   "id": "c323fad0",
   "metadata": {},
   "outputs": [
    {
     "name": "stdout",
     "output_type": "stream",
     "text": [
      "Num GPUs Available:  1\n",
      "True\n"
     ]
    }
   ],
   "source": [
    "# GPU 사용 가능 여부 확인\n",
    "print(\"Num GPUs Available: \", torch.cuda.device_count())\n",
    "\n",
    "# GPU가 설정되어 있는지 확인\n",
    "print(torch.cuda.is_available())"
   ]
  },
  {
   "cell_type": "markdown",
   "id": "d717e16d",
   "metadata": {},
   "source": [
    "### 2. CIFAR-10 데이터 불러오기 & 이미지 데이터 전처리\n",
    "\n",
    "#### 이미지 데이터 전처리"
   ]
  },
  {
   "cell_type": "code",
   "execution_count": 3,
   "id": "ccfbc9e6",
   "metadata": {},
   "outputs": [
    {
     "name": "stdout",
     "output_type": "stream",
     "text": [
      "Files already downloaded and verified\n",
      "Files already downloaded and verified\n"
     ]
    }
   ],
   "source": [
    "# CIFAR-10 데이터셋 전처리\n",
    "train_transform = transforms.Compose([\n",
    "    RandomCrop(32, padding=4),  # 4겹의 패딩 후 32x32의 크기로 이미지를 뽑아냄.\n",
    "    RandomHorizontalFlip(),     # 이미지가 주어진 확률(default = 0.5)로 가로로 뒤집음.\n",
    "    ToTensor(),                 # 0~255의 픽셀 값을 0과 1사이의 값으로 변환\n",
    "    \n",
    "    # 데이터를 -1과 1사이의 값으로 변경, (평균이 0.5 표준편차가 0.5인 데이터)\n",
    "    Normalize((0.5, 0.5, 0.5), # 채널 별 평균\n",
    "              (0.5, 0.5, 0.5)) # 채널 별 표준편차 값  \n",
    "    \n",
    "])\n",
    "\n",
    "test_transform = transforms.Compose([\n",
    "    ToTensor(),\n",
    "    Normalize((0.5, 0.5, 0.5), (0.5, 0.5, 0.5))\n",
    "])\n",
    "\n",
    "# pytorch에 내장되어 있는 CIFAR-10 데이터 셋 불러오기\n",
    "train_dataset = CIFAR10(root=\"./data\", train=True, transform=train_transform, download=True)\n",
    "test_dataset = CIFAR10(root=\"./data\", train=False, transform=test_transform, download=True)\n",
    "\n",
    "# 데이터로더 생성\n",
    "train_loader = DataLoader(train_dataset, batch_size=128, shuffle=True)\n",
    "test_loader = DataLoader(test_dataset, batch_size=128, shuffle=False)"
   ]
  },
  {
   "cell_type": "code",
   "execution_count": 4,
   "id": "d893f6c6",
   "metadata": {},
   "outputs": [
    {
     "data": {
      "text/plain": [
       "(Dataset CIFAR10\n",
       "     Number of datapoints: 50000\n",
       "     Root location: ./data\n",
       "     Split: Train\n",
       "     StandardTransform\n",
       " Transform: Compose(\n",
       "                RandomCrop(size=(32, 32), padding=4)\n",
       "                RandomHorizontalFlip(p=0.5)\n",
       "                ToTensor()\n",
       "                Normalize(mean=(0.5, 0.5, 0.5), std=(0.5, 0.5, 0.5))\n",
       "            ),\n",
       " Dataset CIFAR10\n",
       "     Number of datapoints: 10000\n",
       "     Root location: ./data\n",
       "     Split: Test\n",
       "     StandardTransform\n",
       " Transform: Compose(\n",
       "                ToTensor()\n",
       "                Normalize(mean=(0.5, 0.5, 0.5), std=(0.5, 0.5, 0.5))\n",
       "            ))"
      ]
     },
     "execution_count": 4,
     "metadata": {},
     "output_type": "execute_result"
    }
   ],
   "source": [
    "# 데이터 셋의 전반적인 정보 확인\n",
    "train_dataset, test_dataset"
   ]
  },
  {
   "cell_type": "markdown",
   "id": "c8d14b3b",
   "metadata": {},
   "source": [
    "### 3. 모델 정의"
   ]
  },
  {
   "cell_type": "code",
   "execution_count": 7,
   "id": "d87d9556",
   "metadata": {},
   "outputs": [],
   "source": [
    "# 모델 정의\n",
    "class DNN(nn.Module):\n",
    "    def __init__(self):\n",
    "        super(DNN, self).__init__()\n",
    "        self.fc1 = nn.Linear(32*32*3, 512)\n",
    "        self.fc2 = nn.Linear(512, 256)\n",
    "        self.fc3 = nn.Linear(256, 128)\n",
    "        self.fc4 = nn.Linear(128, 10)\n",
    "        self.relu = nn.ReLU()\n",
    "\n",
    "    def forward(self, x):\n",
    "        x = x.view(-1, 32*32*3)\n",
    "        x = self.relu(self.fc1(x))\n",
    "        x = self.relu(self.fc2(x))\n",
    "        x = self.relu(self.fc3(x))\n",
    "        x = self.fc4(x)\n",
    "        return x\n",
    "    \n",
    "# 모델 초기화\n",
    "model = DNN().cuda()#.to(device)"
   ]
  },
  {
   "cell_type": "markdown",
   "id": "70560d05",
   "metadata": {},
   "source": [
    "### 4. 모델 학습"
   ]
  },
  {
   "cell_type": "code",
   "execution_count": 9,
   "id": "60f2f79c",
   "metadata": {},
   "outputs": [
    {
     "name": "stdout",
     "output_type": "stream",
     "text": [
      "Epoch 1 - Training loss: 1.8015\n",
      "Epoch 2 - Training loss: 1.6279\n",
      "Epoch 3 - Training loss: 1.5549\n",
      "Epoch 4 - Training loss: 1.5121\n",
      "Epoch 5 - Training loss: 1.4665\n",
      "Epoch 6 - Training loss: 1.4416\n",
      "Epoch 7 - Training loss: 1.4146\n",
      "Epoch 8 - Training loss: 1.3956\n",
      "Epoch 9 - Training loss: 1.3755\n",
      "Epoch 10 - Training loss: 1.3623\n"
     ]
    }
   ],
   "source": [
    "# 손실함수, 최적화 함수 정의\n",
    "criterion = nn.CrossEntropyLoss()\n",
    "optimizer = optim.Adam(model.parameters(), lr=0.001)\n",
    "\n",
    "# 학습\n",
    "for epoch in range(10):\n",
    "    running_loss = 0.0\n",
    "    for images, labels in train_loader:\n",
    "        images = images.cuda()#.to(device)\n",
    "        labels = labels.cuda()#.to(device)\n",
    "\n",
    "        optimizer.zero_grad()\n",
    "\n",
    "        outputs = model(images).cuda()\n",
    "        loss = criterion(outputs, labels)\n",
    "        loss.backward()\n",
    "        optimizer.step()\n",
    "\n",
    "        running_loss += loss.item()\n",
    "\n",
    "    print(\"Epoch {} - Training loss: {:.4f}\".format(epoch+1, running_loss / len(train_loader)))"
   ]
  },
  {
   "cell_type": "markdown",
   "id": "b3c9ec45",
   "metadata": {},
   "source": [
    "### 5. 모델 평가"
   ]
  },
  {
   "cell_type": "code",
   "execution_count": 10,
   "id": "494df173",
   "metadata": {},
   "outputs": [
    {
     "name": "stdout",
     "output_type": "stream",
     "text": [
      "Accuracy on test set: 49.71%\n"
     ]
    }
   ],
   "source": [
    "# 테스트\n",
    "correct = 0\n",
    "total = 0\n",
    "\n",
    "with torch.no_grad():\n",
    "    for images, labels in test_loader:\n",
    "        images = images.cuda()#.to(device)\n",
    "        labels = labels.cuda()#.to(device)\n",
    "\n",
    "        outputs = model(images)\n",
    "        _, predicted = torch.max(outputs.data, 1)\n",
    "        total += labels.size(0)\n",
    "        correct += (predicted == labels).sum().item()\n",
    "\n",
    "print(\"Accuracy on test set: {:.2f}%\".format(100 * correct / total))"
   ]
  },
  {
   "cell_type": "markdown",
   "id": "7c20de73",
   "metadata": {},
   "source": [
    "## CIFAR-10 데이터셋으로 이미지 분류 해보기 - CNN\n",
    "\n",
    "### 1. 학습에 필요한 라이브러리 불러오기 - 생략\n",
    "### 2. CIFAR-10 데이터 불러오기\n",
    "\n",
    "#### 이미지 데이터 전처리"
   ]
  },
  {
   "cell_type": "code",
   "execution_count": 11,
   "id": "96e5df0a",
   "metadata": {},
   "outputs": [
    {
     "name": "stdout",
     "output_type": "stream",
     "text": [
      "Files already downloaded and verified\n",
      "Files already downloaded and verified\n"
     ]
    }
   ],
   "source": [
    "# CIFAR-10 데이터셋 전처리\n",
    "train_transform = transforms.Compose([\n",
    "    RandomCrop(32, padding=4),  # 4겹의 패딩 후 32x32의 크기로 이미지를 뽑아냄.\n",
    "    RandomHorizontalFlip(),     # 이미지가 주어진 확률(default = 0.5)로 가로로 뒤집음.\n",
    "    ToTensor(),                 # 0~255의 픽셀 값을 0과 1사이의 값으로 변환\n",
    "    \n",
    "    # 데이터를 -1과 1사이의 값으로 변경, (평균이 0.5 표준편차가 0.5인 데이터)\n",
    "    Normalize((0.5, 0.5, 0.5), # 채널 별 평균\n",
    "              (0.5, 0.5, 0.5)) # 채널 별 표준편차 값  \n",
    "    \n",
    "])\n",
    "\n",
    "test_transform = transforms.Compose([\n",
    "    ToTensor(),\n",
    "    Normalize((0.5, 0.5, 0.5), (0.5, 0.5, 0.5))\n",
    "])\n",
    "\n",
    "# pytorch에 내장되어 있는 CIFAR-10 데이터 셋 불러오기\n",
    "train_dataset = CIFAR10(root=\"./data\", train=True, transform=train_transform, download=True)\n",
    "test_dataset = CIFAR10(root=\"./data\", train=False, transform=test_transform, download=True)\n",
    "\n",
    "# 데이터로더 생성\n",
    "train_loader = DataLoader(train_dataset, batch_size=128, shuffle=True)\n",
    "test_loader = DataLoader(test_dataset, batch_size=128, shuffle=False)"
   ]
  },
  {
   "cell_type": "markdown",
   "id": "9637855c",
   "metadata": {},
   "source": [
    "### 3. 모델 정의"
   ]
  },
  {
   "cell_type": "code",
   "execution_count": 13,
   "id": "52a789b7",
   "metadata": {},
   "outputs": [],
   "source": [
    "class CNN(nn.Module):\n",
    "    def __init__(self):\n",
    "        super(CNN, self).__init__()\n",
    "        self.conv1 = nn.Conv2d(in_channels=3, out_channels=64, kernel_size=3, stride=1, padding=1)\n",
    "        self.bn1 = nn.BatchNorm2d(64)\n",
    "        self.relu1 = nn.ReLU()\n",
    "        self.pool1 = nn.MaxPool2d(kernel_size=2, stride=2)\n",
    "\n",
    "        self.conv2 = nn.Conv2d(in_channels=64, out_channels=128, kernel_size=3, stride=1, padding=1)\n",
    "        self.bn2 = nn.BatchNorm2d(128)\n",
    "        self.relu2 = nn.ReLU()\n",
    "        self.pool2 = nn.MaxPool2d(kernel_size=2, stride=2)\n",
    "\n",
    "        self.conv3 = nn.Conv2d(in_channels=128, out_channels=256, kernel_size=3, stride=1, padding=1)\n",
    "        self.bn3 = nn.BatchNorm2d(256)\n",
    "        self.relu3 = nn.ReLU()\n",
    "        self.pool3 = nn.MaxPool2d(kernel_size=2, stride=2)\n",
    "\n",
    "        self.fc1 = nn.Linear(4 * 4 * 256, 512)\n",
    "        self.bn4 = nn.BatchNorm1d(512)\n",
    "        self.relu4 = nn.ReLU()\n",
    "\n",
    "        self.fc2 = nn.Linear(512, 10)\n",
    "\n",
    "    def forward(self, x):\n",
    "        x = self.conv1(x)\n",
    "        x = self.bn1(x)\n",
    "        x = self.relu1(x)\n",
    "        x = self.pool1(x)\n",
    "\n",
    "        x = self.conv2(x)\n",
    "        x = self.bn2(x)\n",
    "        x = self.relu2(x)\n",
    "        x = self.pool2(x)\n",
    "\n",
    "        x = self.conv3(x)\n",
    "        x = self.bn3(x)\n",
    "        x = self.relu3(x)\n",
    "        x = self.pool3(x)\n",
    "\n",
    "        x = x.view(-1, 4 * 4 * 256)\n",
    "\n",
    "        x = self.fc1(x)\n",
    "        x = self.bn4(x)\n",
    "        x = self.relu4(x)\n",
    "\n",
    "        x = self.fc2(x)\n",
    "        return x\n",
    "\n",
    "# 모델 초기화\n",
    "model = CNN().cuda()#.to(device)"
   ]
  },
  {
   "cell_type": "markdown",
   "id": "1679d986",
   "metadata": {},
   "source": [
    "### 4. 모델 학습"
   ]
  },
  {
   "cell_type": "code",
   "execution_count": 14,
   "id": "28462cc4",
   "metadata": {},
   "outputs": [
    {
     "name": "stderr",
     "output_type": "stream",
     "text": [
      "C:\\Users\\sangwoo\\anaconda3\\envs\\pytorch-gpu\\lib\\site-packages\\torch\\nn\\functional.py:718: UserWarning: Named tensors and all their associated APIs are an experimental feature and subject to change. Please do not use them for anything important until they are released as stable. (Triggered internally at  ..\\c10/core/TensorImpl.h:1156.)\n",
      "  return torch.max_pool2d(input, kernel_size, stride, padding, dilation, ceil_mode)\n"
     ]
    },
    {
     "name": "stdout",
     "output_type": "stream",
     "text": [
      "Epoch 1 - Training loss: 1.2261\n",
      "Epoch 2 - Training loss: 0.8708\n",
      "Epoch 3 - Training loss: 0.7405\n",
      "Epoch 4 - Training loss: 0.6614\n",
      "Epoch 5 - Training loss: 0.6050\n",
      "Epoch 6 - Training loss: 0.5643\n",
      "Epoch 7 - Training loss: 0.5181\n",
      "Epoch 8 - Training loss: 0.4883\n",
      "Epoch 9 - Training loss: 0.4579\n",
      "Epoch 10 - Training loss: 0.4304\n"
     ]
    }
   ],
   "source": [
    "# 손실함수, 최적화 함수 정의\n",
    "criterion = nn.CrossEntropyLoss()\n",
    "optimizer = optim.Adam(model.parameters(), lr=0.001)\n",
    "\n",
    "# 학습\n",
    "for epoch in range(10):\n",
    "    running_loss = 0.0\n",
    "    for images, labels in train_loader:\n",
    "        images = images.cuda()#.to(device)\n",
    "        labels = labels.cuda()#.to(device)\n",
    "\n",
    "        optimizer.zero_grad()\n",
    "\n",
    "        outputs = model(images).cuda()\n",
    "        loss = criterion(outputs, labels)\n",
    "        loss.backward()\n",
    "        optimizer.step()\n",
    "\n",
    "        running_loss += loss.item()\n",
    "\n",
    "    print(\"Epoch {} - Training loss: {:.4f}\".format(epoch+1, running_loss / len(train_loader)))"
   ]
  },
  {
   "cell_type": "markdown",
   "id": "c958b9d9",
   "metadata": {},
   "source": [
    "### 5. 모델 학습"
   ]
  },
  {
   "cell_type": "code",
   "execution_count": 15,
   "id": "e0a1eb93",
   "metadata": {},
   "outputs": [
    {
     "name": "stdout",
     "output_type": "stream",
     "text": [
      "Accuracy on test set: 83.79%\n"
     ]
    }
   ],
   "source": [
    "# 테스트\n",
    "correct = 0\n",
    "total = 0\n",
    "predicted_all = []\n",
    "y_true_all = []\n",
    "\n",
    "with torch.no_grad():\n",
    "    for images, labels in test_loader:\n",
    "        images = images.cuda()#.to(device)\n",
    "        labels = labels.cuda()#.to(device)\n",
    "\n",
    "        outputs = model(images).cuda()\n",
    "        _, predicted = torch.max(outputs.data, 1)\n",
    "        \n",
    "        \n",
    "        total += labels.size(0)\n",
    "        correct += (predicted == labels).sum().item()\n",
    "        \n",
    "        predicted_all = predicted_all + list(predicted)\n",
    "        y_true_all = y_true_all + list(labels)\n",
    "        \n",
    "print(\"Accuracy on test set: {:.2f}%\".format(100 * correct / total))"
   ]
  },
  {
   "cell_type": "markdown",
   "id": "3bef9e29",
   "metadata": {},
   "source": [
    "## 실제로 잘 맞췄는지 확인해보기"
   ]
  },
  {
   "cell_type": "code",
   "execution_count": 16,
   "id": "19229267",
   "metadata": {},
   "outputs": [
    {
     "data": {
      "text/plain": [
       "(10000, 10000)"
      ]
     },
     "execution_count": 16,
     "metadata": {},
     "output_type": "execute_result"
    }
   ],
   "source": [
    "# 예측 라벨 값 확인\n",
    "len(predicted_all), len(y_true_all)"
   ]
  },
  {
   "cell_type": "code",
   "execution_count": 17,
   "id": "28778896",
   "metadata": {},
   "outputs": [
    {
     "name": "stderr",
     "output_type": "stream",
     "text": [
      "Clipping input data to the valid range for imshow with RGB data ([0..1] for floats or [0..255] for integers).\n"
     ]
    },
    {
     "name": "stdout",
     "output_type": "stream",
     "text": [
      "AxesImage(80,52.8;496x369.6)\n",
      "실제 라벨 값:  tensor(7, device='cuda:0') \n",
      "예측 라벨 값: tensor(7, device='cuda:0')\n"
     ]
    },
    {
     "data": {
      "image/png": "[encoded data removed]",
      "text/plain": [
       "<Figure size 640x480 with 1 Axes>"
      ]
     },
     "metadata": {},
     "output_type": "display_data"
    }
   ],
   "source": [
    "n = 13\n",
    "batch_size = 128\n",
    "\n",
    "val_1, val_2 = divmod(n, batch_size)\n",
    "\n",
    "img = next(iter(test_loader))[val_1].numpy()\n",
    "\n",
    "print(plt.imshow(np.transpose(img[val_2], (1, 2, 0))))\n",
    "print(\"실제 라벨 값: \", y_true_all[n], \"\\n예측 라벨 값:\", predicted_all[n])# "
   ]
  }
 ],
 "metadata": {
  "kernelspec": {
   "display_name": "pytorch-gpu",
   "language": "python",
   "name": "pytorch-gpu"
  },
  "language_info": {
   "codemirror_mode": {
    "name": "ipython",
    "version": 3
   },
   "file_extension": ".py",
   "mimetype": "text/x-python",
   "name": "python",
   "nbconvert_exporter": "python",
   "pygments_lexer": "ipython3",
   "version": "3.8.16"
  }
 },
 "nbformat": 4,
 "nbformat_minor": 5
}
