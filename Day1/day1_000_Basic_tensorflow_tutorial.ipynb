{
 "cells": [
  {
   "cell_type": "markdown",
   "id": "56dd2017",
   "metadata": {},
   "source": [
    "### Created on 2023\n",
    "### @author: S.W\n",
    "\n",
    "----"
   ]
  },
  {
   "cell_type": "markdown",
   "id": "e55e071c",
   "metadata": {},
   "source": [
    "TensorFlow 2.0부터는 Keras API가 TensorFlow의 공식 API로 통합되어 사용됩니다.<br>\n",
    "이전 버전의 TensorFlow에서는 Keras API를 따로 설치해 사용하였지만, TensorFlow 2.0부터는 TensorFlow의 일부분으로 내장되어 있습니다.<br>\n",
    "TensorFlow 2.0의 Keras API는 Sequential API, Functional API, Subclassing API로 구성됩니다. <br>\n",
    "이 API들을 사용하여 딥러닝 모델을 쉽게 구성하고 학습시킬 수 있습니다.<br>\n",
    "\n",
    "- Sequential API: 이 API는 간단한 모델을 쉽게 만들 수 있는 API입니다. 각 레이어를 차례대로 추가하는 방식으로 모델을 구성합니다. Sequential API는 간단한 모델을 만들 때 유용합니다.\n",
    "\n",
    "- Functional API: 복잡한 모델을 구성할 때 사용하는 API입니다. 각 레이어를 함수처럼 호출하여 모델을 구성합니다. 다중 입력 또는 다중 출력 모델을 만들 수 있습니다. Functional API는 Sequential API보다 더 유연하게 모델을 구성할 수 있습니다.\n",
    "\n",
    "- Subclassing API: TensorFlow의 일반적인 프로그래밍 방식처럼 모델 클래스를 직접 작성하는 방식으로 모델을 구성합니다. 이 방식을 사용하면 모델에 대한 완전한 제어권을 갖게 됩니다. 하지만 구현이 복잡하고 디버깅이 어려울 수 있습니다.\n",
    "\n",
    "Keras API는 TensorFlow를 쉽게 사용할 수 있도록 설계된 API입니다. <br>\n",
    "이 API를 사용하면 딥러닝 모델을 쉽게 구성하고 학습시킬 수 있으며, 다양한 딥러닝 모델을 구현할 수 있습니다.<br>\n",
    "TensorFlow 2.0에서는 Keras API가 TensorFlow의 일부분으로 내장되어 있으므로, TensorFlow를 사용하면서도 Keras API를 사용할 수 있습니다."
   ]
  },
  {
   "cell_type": "markdown",
   "id": "d55d03bf",
   "metadata": {},
   "source": [
    "## 학습에 필요한 라이브러리 불러오기"
   ]
  },
  {
   "cell_type": "code",
   "execution_count": 1,
   "id": "94a13242",
   "metadata": {},
   "outputs": [],
   "source": [
    "import tensorflow as tf\n",
    "from tensorflow import keras\n",
    "import numpy as np\n",
    "import matplotlib.pyplot as plt\n",
    "\n",
    "import PIL"
   ]
  },
  {
   "cell_type": "markdown",
   "id": "49a06d98",
   "metadata": {},
   "source": [
    "## 데이터 불러오기\n",
    "\n",
    "우선 MNIST 데이터셋을 불러와야 합니다. Keras에서는 keras.datasets 모듈을 통해 MNIST 데이터셋을 불러올 수 있습니다.\n",
    "\n",
    "MNIST는 0부터 9까지의 숫자가 적힌 손글씨 이미지 데이터셋입니다.<br> \n",
    "MNIST는 기계 학습 분야에서 널리 사용되는 데이터셋 중 하나로, 약 6만 개의 훈련 이미지와 1만 개의 테스트 이미지로 구성되어 있습니다.<br>\n",
    "이 이미지는 28x28 픽셀의 흑백 이미지입니다.\n",
    "\n",
    "MNIST 데이터셋은 손글씨 숫자를 인식하는 데 사용되며, 이를 통해 컴퓨터 비전 분야에서 딥러닝 모델의 성능을 평가하는 데 사용됩니다. \n",
    "\n",
    "#### tensorflow에서 가져올 수 있는 데이터셋 목록\n",
    "- https://www.tensorflow.org/datasets/catalog/overview"
   ]
  },
  {
   "cell_type": "code",
   "execution_count": 2,
   "id": "3b34bd58",
   "metadata": {},
   "outputs": [],
   "source": [
    "(train_images, train_labels), (test_images, test_labels) = keras.datasets.mnist.load_data()\n",
    "\n",
    "# 정규화(데이터 전처리)\n",
    "train_images = train_images / 255.0\n",
    "test_images = test_images / 255.0"
   ]
  },
  {
   "cell_type": "code",
   "execution_count": 3,
   "id": "19e8561e",
   "metadata": {},
   "outputs": [
    {
     "data": {
      "text/plain": [
       "((60000, 28, 28), (60000,))"
      ]
     },
     "execution_count": 3,
     "metadata": {},
     "output_type": "execute_result"
    }
   ],
   "source": [
    "# shape()를 통해 데이터 모양 확인하기\n",
    "train_images.shape, train_labels.shape"
   ]
  },
  {
   "cell_type": "code",
   "execution_count": 4,
   "id": "cbe6eb01",
   "metadata": {},
   "outputs": [
    {
     "name": "stdout",
     "output_type": "stream",
     "text": [
      "AxesImage(80,52.8;496x369.6)\n",
      "숫자:  7\n"
     ]
    },
    {
     "data": {
      "image/png": "[encoded data removed]",
      "text/plain": [
       "<Figure size 640x480 with 1 Axes>"
      ]
     },
     "metadata": {},
     "output_type": "display_data"
    }
   ],
   "source": [
    "# imshow()를 통해 데이터 확인하기\n",
    "n = 0\n",
    "print(plt.imshow(test_images[n]))\n",
    "print(\"숫자: \",test_labels[n])"
   ]
  },
  {
   "cell_type": "markdown",
   "id": "20cda17f",
   "metadata": {},
   "source": [
    "## 모델 구성\n",
    "\n",
    "이제 Keras를 사용하여 분류 모델을 구성해 보겠습니다. Keras에서는 Sequential 모델을 사용하여 간단한 순차적인 모델을 구성할 수 있습니다. Sequential 모델은 여러 개의 레이어를 차례로 쌓아서 구성합니다."
   ]
  },
  {
   "cell_type": "code",
   "execution_count": 5,
   "id": "5278d898",
   "metadata": {},
   "outputs": [],
   "source": [
    "model = tf.keras.Sequential([\n",
    "    tf.keras.layers.Flatten(input_shape=(28, 28)), # 28x28 픽셀의 이미지를 784차원 벡터로 펼침\n",
    "    tf.keras.layers.Dense(128, activation='relu'), # 128개의 노드를 가진 완전 연결층 (ReLU 활성화 함수 사용)\n",
    "    tf.keras.layers.Dense(10, activation='softmax') # 10개의 노드를 가진 완전 연결층 (softmax 활성화 함수 사용)\n",
    "])"
   ]
  },
  {
   "cell_type": "markdown",
   "id": "fa34ae08",
   "metadata": {},
   "source": [
    "## 모델 컴파일\n",
    "\n",
    "모델을 생성한 후, 우리는 이를 컴파일해야 합니다. 이 단계에서는 어떤 옵티마이저를 사용할지, 어떤 손실 함수를 사용할지, 그리고 어떤 지표(metric)를 사용할지를 정의합니다. 다음은 모델 컴파일 예시입니다:"
   ]
  },
  {
   "cell_type": "code",
   "execution_count": 6,
   "id": "85937871",
   "metadata": {},
   "outputs": [],
   "source": [
    "model.compile(optimizer='adam',\n",
    "              loss='sparse_categorical_crossentropy',\n",
    "              metrics=['accuracy'])"
   ]
  },
  {
   "cell_type": "markdown",
   "id": "901d4a08",
   "metadata": {},
   "source": [
    "compile() 메서드는 모델을 학습하기 전에 학습과정을 구체화하는 역할을 합니다. 여기서는 최적화 알고리즘으로 'adam'을 사용하고, 손실 함수로는 Sparse Categorical Crossentropy를 사용하며, 모델의 평가 지표로 정확도를 사용합니다."
   ]
  },
  {
   "cell_type": "markdown",
   "id": "83ec68c8",
   "metadata": {},
   "source": [
    "## 모델 학습\n",
    "\n",
    "모델 컴파일 후, 우리는 모델을 학습시켜야 합니다. 이 단계에서는 fit() 메서드를 사용합니다. fit() 메서드는 모델을 실제로 학습시키는 역할을 합니다. train_images와 train_labels는 모델이 학습할 학습 데이터셋입니다. epochs는 전체 데이터셋을 몇 번 반복해서 학습시킬지를 결정합니다. validation_data는 학습 과정에서 검증에 사용할 데이터셋입니다."
   ]
  },
  {
   "cell_type": "code",
   "execution_count": 7,
   "id": "9dfb19aa",
   "metadata": {},
   "outputs": [
    {
     "name": "stdout",
     "output_type": "stream",
     "text": [
      "Epoch 1/5\n",
      "  82/1500 [>.............................] - ETA: 0s - loss: 1.0183 - accuracy: 0.7317  "
     ]
    },
    {
     "name": "stderr",
     "output_type": "stream",
     "text": [
      "2023-04-21 14:00:20.284801: W tensorflow/core/platform/profile_utils/cpu_utils.cc:128] Failed to get CPU frequency: 0 Hz\n"
     ]
    },
    {
     "name": "stdout",
     "output_type": "stream",
     "text": [
      "1500/1500 [==============================] - 1s 777us/step - loss: 0.2941 - accuracy: 0.9161 - val_loss: 0.1609 - val_accuracy: 0.9517\n",
      "Epoch 2/5\n",
      "1500/1500 [==============================] - 1s 750us/step - loss: 0.1321 - accuracy: 0.9614 - val_loss: 0.1253 - val_accuracy: 0.9640\n",
      "Epoch 3/5\n",
      "1500/1500 [==============================] - 1s 743us/step - loss: 0.0901 - accuracy: 0.9736 - val_loss: 0.1026 - val_accuracy: 0.9697\n",
      "Epoch 4/5\n",
      "1500/1500 [==============================] - 1s 746us/step - loss: 0.0667 - accuracy: 0.9798 - val_loss: 0.0999 - val_accuracy: 0.9690\n",
      "Epoch 5/5\n",
      "1500/1500 [==============================] - 1s 757us/step - loss: 0.0515 - accuracy: 0.9843 - val_loss: 0.0867 - val_accuracy: 0.9740\n"
     ]
    }
   ],
   "source": [
    "# 모델 학습\n",
    "history = model.fit(train_images, train_labels, epochs=5, validation_split=0.2)"
   ]
  },
  {
   "cell_type": "markdown",
   "id": "a4860849",
   "metadata": {},
   "source": [
    "## 모델 평가\n",
    "\n",
    "학습이 진행될 때마다, 현재 학습 진행 상황이 콘솔에 출력됩니다. 학습이 완료되면, 모델이 test_images 데이터셋에서 얼마나 잘 동작하는지를 평가할 수 있습니다."
   ]
  },
  {
   "cell_type": "code",
   "execution_count": 8,
   "id": "b0e94c66",
   "metadata": {},
   "outputs": [
    {
     "name": "stdout",
     "output_type": "stream",
     "text": [
      "313/313 - 0s - loss: 0.0803 - accuracy: 0.9754 - 187ms/epoch - 597us/step\n",
      "\n",
      "Test accuracy: 0.9753999710083008\n"
     ]
    }
   ],
   "source": [
    "test_loss, test_acc = model.evaluate(test_images, test_labels, verbose=2)\n",
    "\n",
    "print('\\nTest accuracy:', test_acc)"
   ]
  },
  {
   "cell_type": "markdown",
   "id": "3ccef8ad",
   "metadata": {},
   "source": [
    "evaluate() 메서드는 모델의 정확도와 손실 값을 반환합니다. verbose=2는 평가 과정에서 로그를 출력하지 않도록 합니다. 마지막으로, 테스트 데이터셋에서 모델의 정확도를 출력합니다."
   ]
  },
  {
   "cell_type": "markdown",
   "id": "2d00a8e1",
   "metadata": {},
   "source": [
    "## 학습한 모델 저장\n",
    "\n",
    "TensorFlow 2에서 Keras 모델을 저장하는 가장 간단한 방법은 model.save() 메서드를 사용하는 것입니다.<br>\n",
    "이 메서드는 Keras 모델을 HDF5 파일로 저장합니다.\n",
    "\n",
    "예를 들어, my_model이라는 Keras 모델이 있다고 가정해봅시다. 이 모델을 my_model.h5라는 파일에 저장하려면 다음과 같이 코드를 작성할 수 있습니다."
   ]
  },
  {
   "cell_type": "code",
   "execution_count": 9,
   "id": "88c82dbb",
   "metadata": {},
   "outputs": [],
   "source": [
    "# 모델 저장\n",
    "model.save('my_model.h5')"
   ]
  },
  {
   "cell_type": "markdown",
   "id": "6af5346f",
   "metadata": {},
   "source": [
    "모델을 저장할 때, 모델 구조와 모델 가중치가 모두 저장됩니다. <br>\n",
    "이러한 저장 방법을 이용해 저장된 모델은 tensorflow.keras.models.load_model 함수를 사용하여 불러올 수 있습니다."
   ]
  },
  {
   "cell_type": "code",
   "execution_count": 10,
   "id": "788529df",
   "metadata": {},
   "outputs": [],
   "source": [
    "from tensorflow.keras.models import load_model\n",
    "\n",
    "loaded_model = load_model('my_model.h5')"
   ]
  },
  {
   "cell_type": "code",
   "execution_count": 11,
   "id": "dcd8a7c1",
   "metadata": {},
   "outputs": [
    {
     "name": "stdout",
     "output_type": "stream",
     "text": [
      "Model: \"sequential\"\n",
      "_________________________________________________________________\n",
      " Layer (type)                Output Shape              Param #   \n",
      "=================================================================\n",
      " flatten (Flatten)           (None, 784)               0         \n",
      "                                                                 \n",
      " dense (Dense)               (None, 128)               100480    \n",
      "                                                                 \n",
      " dense_1 (Dense)             (None, 10)                1290      \n",
      "                                                                 \n",
      "=================================================================\n",
      "Total params: 101,770\n",
      "Trainable params: 101,770\n",
      "Non-trainable params: 0\n",
      "_________________________________________________________________\n"
     ]
    }
   ],
   "source": [
    "loaded_model.summary()"
   ]
  },
  {
   "cell_type": "code",
   "execution_count": 12,
   "id": "69f33ddb",
   "metadata": {},
   "outputs": [
    {
     "name": "stdout",
     "output_type": "stream",
     "text": [
      "313/313 - 0s - loss: 0.0803 - accuracy: 0.9754 - 154ms/epoch - 491us/step\n",
      "\n",
      "Test accuracy: 0.9753999710083008\n"
     ]
    }
   ],
   "source": [
    "# 모델 평가\n",
    "test_loss, test_acc = model.evaluate(test_images,  test_labels, verbose=2)\n",
    "\n",
    "print('\\nTest accuracy:', test_acc)"
   ]
  }
 ],
 "metadata": {
  "kernelspec": {
   "display_name": "Python 3",
   "language": "python",
   "name": "python3"
  },
  "language_info": {
   "codemirror_mode": {
    "name": "ipython",
    "version": 3
   },
   "file_extension": ".py",
   "mimetype": "text/x-python",
   "name": "python",
   "nbconvert_exporter": "python",
   "pygments_lexer": "ipython3",
   "version": "3.8.13"
  }
 },
 "nbformat": 4,
 "nbformat_minor": 5
}
